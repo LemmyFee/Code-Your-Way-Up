{
 "cells": [
  {
   "cell_type": "code",
   "execution_count": 1,
   "id": "28f25805-e3d8-42bb-898f-7bb05055f97c",
   "metadata": {},
   "outputs": [
    {
     "name": "stdout",
     "output_type": "stream",
     "text": [
      "Collecting imutilsNote: you may need to restart the kernel to use updated packages.\n",
      "  Downloading imutils-0.5.4.tar.gz (17 kB)\n",
      "  Preparing metadata (setup.py): started\n",
      "  Preparing metadata (setup.py): finished with status 'done'\n",
      "Building wheels for collected packages: imutils\n",
      "  Building wheel for imutils (setup.py): started\n",
      "  Building wheel for imutils (setup.py): finished with status 'done'\n",
      "  Created wheel for imutils: filename=imutils-0.5.4-py3-none-any.whl size=25872 sha256=4831d0f38f3108b17f0cde461849c6648b1b0133dad56c568060ca02c4e00108\n",
      "  Stored in directory: c:\\users\\sofiyah\\appdata\\local\\pip\\cache\\wheels\\4b\\a5\\2d\\4a070a801d3a3d93f033d3ee9728f470f514826e89952df3ea\n",
      "Successfully built imutils\n",
      "Installing collected packages: imutils\n",
      "Successfully installed imutils-0.5.4\n",
      "\n"
     ]
    }
   ],
   "source": [
    "# install dependencies\n",
    "pip install imutils"
   ]
  },
  {
   "cell_type": "code",
   "execution_count": 2,
   "id": "532d9617-bcee-44cf-b64a-fdc13cabbc35",
   "metadata": {},
   "outputs": [
    {
     "name": "stdout",
     "output_type": "stream",
     "text": [
      "Collecting opencv-python\n",
      "  Using cached opencv_python-4.6.0.66-cp36-abi3-win_amd64.whl (35.6 MB)\n",
      "Requirement already satisfied: numpy>=1.19.3 in c:\\users\\sofiyah\\anaconda3\\lib\\site-packages (from opencv-python) (1.21.5)\n",
      "Installing collected packages: opencv-python\n",
      "Successfully installed opencv-python-4.6.0.66\n",
      "Note: you may need to restart the kernel to use updated packages.\n"
     ]
    }
   ],
   "source": [
    "# install dependencies\n",
    "pip install opencv-python"
   ]
  },
  {
   "cell_type": "code",
   "execution_count": 7,
   "id": "7bb03156-a7de-484d-be95-13dd2c5f0dfc",
   "metadata": {},
   "outputs": [
    {
     "name": "stdout",
     "output_type": "stream",
     "text": [
      "Collecting package metadata (current_repodata.json): ...working... done\n",
      "Solving environment: ...working... done\n",
      "\n",
      "## Package Plan ##\n",
      "\n",
      "  environment location: C:\\Users\\Sofiyah\\anaconda3\n",
      "\n",
      "  added / updated specs:\n",
      "    - pip\n",
      "\n",
      "\n",
      "The following packages will be downloaded:\n",
      "\n",
      "    package                    |            build\n",
      "    ---------------------------|-----------------\n",
      "    ca-certificates-2022.10.11 |       haa95532_0         125 KB\n",
      "    certifi-2022.9.24          |   py39haa95532_0         154 KB\n",
      "    conda-22.9.0               |   py39haa95532_0         888 KB\n",
      "    openssl-1.1.1q             |       h2bbff1b_0         4.8 MB\n",
      "    pip-22.2.2                 |   py39haa95532_0         2.3 MB\n",
      "    ------------------------------------------------------------\n",
      "                                           Total:         8.3 MB\n",
      "\n",
      "The following packages will be UPDATED:\n",
      "\n",
      "  ca-certificates                      2022.4.26-haa95532_0 --> 2022.10.11-haa95532_0\n",
      "  certifi                        2022.5.18.1-py39haa95532_0 --> 2022.9.24-py39haa95532_0\n",
      "  conda                               4.13.0-py39haa95532_0 --> 22.9.0-py39haa95532_0\n",
      "  openssl                                 1.1.1o-h2bbff1b_0 --> 1.1.1q-h2bbff1b_0\n",
      "  pip                                 21.2.4-py39haa95532_0 --> 22.2.2-py39haa95532_0\n",
      "\n",
      "\n",
      "\n",
      "Downloading and Extracting Packages\n",
      "\n",
      "certifi-2022.9.24    | 154 KB    |            |   0% \n",
      "certifi-2022.9.24    | 154 KB    | #          |  10% \n",
      "certifi-2022.9.24    | 154 KB    | #########3 |  93% \n",
      "certifi-2022.9.24    | 154 KB    | ########## | 100% \n",
      "\n",
      "conda-22.9.0         | 888 KB    |            |   0% \n",
      "conda-22.9.0         | 888 KB    | #2         |  13% \n",
      "conda-22.9.0         | 888 KB    | #####      |  50% \n",
      "conda-22.9.0         | 888 KB    | ########2  |  83% \n",
      "conda-22.9.0         | 888 KB    | ########## | 100% \n",
      "\n",
      "openssl-1.1.1q       | 4.8 MB    |            |   0% \n",
      "openssl-1.1.1q       | 4.8 MB    | 2          |   3% \n",
      "openssl-1.1.1q       | 4.8 MB    | #          |  11% \n",
      "openssl-1.1.1q       | 4.8 MB    | #7         |  18% \n",
      "openssl-1.1.1q       | 4.8 MB    | ##5        |  25% \n",
      "openssl-1.1.1q       | 4.8 MB    | ###4       |  35% \n",
      "openssl-1.1.1q       | 4.8 MB    | ####4      |  44% \n",
      "openssl-1.1.1q       | 4.8 MB    | #####4     |  55% \n",
      "openssl-1.1.1q       | 4.8 MB    | ######4    |  65% \n",
      "openssl-1.1.1q       | 4.8 MB    | #######5   |  76% \n",
      "openssl-1.1.1q       | 4.8 MB    | ########5  |  85% \n",
      "openssl-1.1.1q       | 4.8 MB    | #########5 |  95% \n",
      "openssl-1.1.1q       | 4.8 MB    | ########## | 100% \n",
      "\n",
      "ca-certificates-2022 | 125 KB    |            |   0% \n",
      "ca-certificates-2022 | 125 KB    | #####1     |  51% \n",
      "ca-certificates-2022 | 125 KB    | ########## | 100% \n",
      "\n",
      "pip-22.2.2           | 2.3 MB    |            |   0% \n",
      "pip-22.2.2           | 2.3 MB    | 3          |   3% \n",
      "pip-22.2.2           | 2.3 MB    | ##1        |  22% \n",
      "pip-22.2.2           | 2.3 MB    | ###8       |  38% \n",
      "pip-22.2.2           | 2.3 MB    | #####4     |  55% \n",
      "pip-22.2.2           | 2.3 MB    | #######    |  70% \n",
      "pip-22.2.2           | 2.3 MB    | ########5  |  86% \n",
      "pip-22.2.2           | 2.3 MB    | #########8 |  99% \n",
      "pip-22.2.2           | 2.3 MB    | ########## | 100% \n",
      "Preparing transaction: ...working... done\n",
      "Verifying transaction: ...working... done\n",
      "Executing transaction: ...working... done\n",
      "\n",
      "Note: you may need to restart the kernel to use updated packages.\n"
     ]
    }
   ],
   "source": [
    "# install dependencies\n",
    "conda install pip\n"
   ]
  },
  {
   "cell_type": "code",
   "execution_count": 1,
   "id": "e7442cc3-aaab-4f95-a120-0be715413864",
   "metadata": {},
   "outputs": [
    {
     "name": "stdout",
     "output_type": "stream",
     "text": [
      "Requirement already satisfied: scipy in c:\\users\\sofiyah\\anaconda3\\lib\\site-packages (1.7.3)\n",
      "Requirement already satisfied: numpy<1.23.0,>=1.16.5 in c:\\users\\sofiyah\\anaconda3\\lib\\site-packages (from scipy) (1.21.5)\n",
      "Note: you may need to restart the kernel to use updated packages.\n"
     ]
    }
   ],
   "source": [
    "pip install scipy"
   ]
  },
  {
   "cell_type": "markdown",
   "id": "a4e2b0f2-ab17-412f-9c05-a25536b35d32",
   "metadata": {},
   "source": [
    "#### OpenCV Exercise"
   ]
  },
  {
   "cell_type": "code",
   "execution_count": 1,
   "id": "2ca98429-0eaa-4491-8ec7-3f1de55dd952",
   "metadata": {},
   "outputs": [
    {
     "ename": "error",
     "evalue": "OpenCV(4.6.0) D:\\a\\opencv-python\\opencv-python\\opencv\\modules\\imgcodecs\\src\\loadsave.cpp:801: error: (-215:Assertion failed) !_img.empty() in function 'cv::imwrite'\n",
     "output_type": "error",
     "traceback": [
      "\u001b[1;31m---------------------------------------------------------------------------\u001b[0m",
      "\u001b[1;31merror\u001b[0m                                     Traceback (most recent call last)",
      "Input \u001b[1;32mIn [1]\u001b[0m, in \u001b[0;36m<cell line: 7>\u001b[1;34m()\u001b[0m\n\u001b[0;32m      4\u001b[0m img \u001b[38;5;241m=\u001b[39m cv2\u001b[38;5;241m.\u001b[39mimread(\u001b[38;5;124m'\u001b[39m\u001b[38;5;124mgoogle_logo\u001b[39m\u001b[38;5;124m'\u001b[39m, \u001b[38;5;241m1\u001b[39m) \n\u001b[0;32m      6\u001b[0m \u001b[38;5;66;03m# \u001b[39;00m\n\u001b[1;32m----> 7\u001b[0m \u001b[43mcv2\u001b[49m\u001b[38;5;241;43m.\u001b[39;49m\u001b[43mimwrite\u001b[49m\u001b[43m(\u001b[49m\u001b[38;5;124;43m'\u001b[39;49m\u001b[38;5;124;43mgooglelogo.jpg\u001b[39;49m\u001b[38;5;124;43m'\u001b[39;49m\u001b[43m,\u001b[49m\u001b[43m \u001b[49m\u001b[43mimg\u001b[49m\u001b[43m)\u001b[49m \n\u001b[0;32m      8\u001b[0m cv2\u001b[38;5;241m.\u001b[39mimshow(\u001b[38;5;124m'\u001b[39m\u001b[38;5;124mgoogleimage\u001b[39m\u001b[38;5;124m'\u001b[39m, img)\n\u001b[0;32m      9\u001b[0m cv2\u001b[38;5;241m.\u001b[39mwaitkey(\u001b[38;5;241m0\u001b[39m)\n",
      "\u001b[1;31merror\u001b[0m: OpenCV(4.6.0) D:\\a\\opencv-python\\opencv-python\\opencv\\modules\\imgcodecs\\src\\loadsave.cpp:801: error: (-215:Assertion failed) !_img.empty() in function 'cv::imwrite'\n"
     ]
    }
   ],
   "source": [
    "import cv2\n",
    "\n",
    "# load image into a variable\n",
    "img = cv2.imread('google_logo', 1) \n",
    "\n",
    "# \n",
    "cv2.imwrite('googlelogo.jpg', img) \n",
    "cv2.imshow('googleimage', img)\n",
    "cv2.waitkey(0)\n",
    "cv2.destroyAllWindows()"
   ]
  },
  {
   "cell_type": "code",
   "execution_count": null,
   "id": "4a1adf41-ba97-4149-b0bc-04bfd3d9ec8f",
   "metadata": {},
   "outputs": [],
   "source": []
  }
 ],
 "metadata": {
  "kernelspec": {
   "display_name": "Python 3 (ipykernel)",
   "language": "python",
   "name": "python3"
  },
  "language_info": {
   "codemirror_mode": {
    "name": "ipython",
    "version": 3
   },
   "file_extension": ".py",
   "mimetype": "text/x-python",
   "name": "python",
   "nbconvert_exporter": "python",
   "pygments_lexer": "ipython3",
   "version": "3.9.12"
  }
 },
 "nbformat": 4,
 "nbformat_minor": 5
}
