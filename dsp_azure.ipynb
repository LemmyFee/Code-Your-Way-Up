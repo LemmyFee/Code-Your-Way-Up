{
 "cells": [
  {
   "cell_type": "code",
   "execution_count": 1,
   "id": "5aac0911",
   "metadata": {},
   "outputs": [],
   "source": [
    "import pandas as pd\n",
    "import numpy as np\n",
    "import matplotlib.pyplot as plt"
   ]
  },
  {
   "cell_type": "code",
   "execution_count": 2,
   "id": "97e9e0b7",
   "metadata": {},
   "outputs": [],
   "source": [
    "df = pd.read_csv('dsp_azure.csv')"
   ]
  },
  {
   "cell_type": "code",
   "execution_count": 3,
   "id": "858dd61e",
   "metadata": {},
   "outputs": [
    {
     "data": {
      "text/html": [
       "<div>\n",
       "<style scoped>\n",
       "    .dataframe tbody tr th:only-of-type {\n",
       "        vertical-align: middle;\n",
       "    }\n",
       "\n",
       "    .dataframe tbody tr th {\n",
       "        vertical-align: top;\n",
       "    }\n",
       "\n",
       "    .dataframe thead th {\n",
       "        text-align: right;\n",
       "    }\n",
       "</style>\n",
       "<table border=\"1\" class=\"dataframe\">\n",
       "  <thead>\n",
       "    <tr style=\"text-align: right;\">\n",
       "      <th></th>\n",
       "      <th>device_type</th>\n",
       "      <th>os_vendor</th>\n",
       "      <th>os_name</th>\n",
       "      <th>os_version</th>\n",
       "      <th>browser_name</th>\n",
       "      <th>browser_version</th>\n",
       "      <th>location_region</th>\n",
       "      <th>location_state</th>\n",
       "      <th>app_name</th>\n",
       "      <th>site_name</th>\n",
       "      <th>site_link</th>\n",
       "      <th>data_type</th>\n",
       "      <th>exchange</th>\n",
       "      <th>carrier</th>\n",
       "      <th>captured_time</th>\n",
       "      <th>device_screen_height</th>\n",
       "      <th>device_screen_width</th>\n",
       "      <th>device_screen_pixel_ratio</th>\n",
       "    </tr>\n",
       "  </thead>\n",
       "  <tbody>\n",
       "    <tr>\n",
       "      <th>0</th>\n",
       "      <td>Phone</td>\n",
       "      <td>Google</td>\n",
       "      <td>android</td>\n",
       "      <td>9</td>\n",
       "      <td>Chrome Mobile</td>\n",
       "      <td>75.0</td>\n",
       "      <td>NaN</td>\n",
       "      <td>Abuja</td>\n",
       "      <td>NaN</td>\n",
       "      <td>NaN</td>\n",
       "      <td>https://www.newsnow.co.uk/h/Sport/Football</td>\n",
       "      <td>Bid</td>\n",
       "      <td>adx</td>\n",
       "      <td>NaN</td>\n",
       "      <td>2019-08-19T07:44:12.095</td>\n",
       "      <td>720.0</td>\n",
       "      <td>360.0</td>\n",
       "      <td>2.000</td>\n",
       "    </tr>\n",
       "    <tr>\n",
       "      <th>1</th>\n",
       "      <td>Phone</td>\n",
       "      <td>Google</td>\n",
       "      <td>android</td>\n",
       "      <td>9</td>\n",
       "      <td>Chrome Mobile</td>\n",
       "      <td>76.0</td>\n",
       "      <td>NaN</td>\n",
       "      <td>Ikeja</td>\n",
       "      <td>NaN</td>\n",
       "      <td>NaN</td>\n",
       "      <td>https://www.newsnow.co.uk/h/Sport/Football/Pre...</td>\n",
       "      <td>Bid</td>\n",
       "      <td>adx</td>\n",
       "      <td>Zain</td>\n",
       "      <td>2019-08-19T20:04:26.372</td>\n",
       "      <td>720.0</td>\n",
       "      <td>360.0</td>\n",
       "      <td>2.000</td>\n",
       "    </tr>\n",
       "    <tr>\n",
       "      <th>2</th>\n",
       "      <td>Phone</td>\n",
       "      <td>Google</td>\n",
       "      <td>android</td>\n",
       "      <td>8.1.1</td>\n",
       "      <td>Chrome Mobile</td>\n",
       "      <td>75.0</td>\n",
       "      <td>South West</td>\n",
       "      <td>Lagos</td>\n",
       "      <td>NaN</td>\n",
       "      <td>www.goal.com</td>\n",
       "      <td>https://www.goal.com/en/news/tammy-abraham-sho...</td>\n",
       "      <td>Bid</td>\n",
       "      <td>adx</td>\n",
       "      <td>/75</td>\n",
       "      <td>2019-08-21T09:31:24.054</td>\n",
       "      <td>720.0</td>\n",
       "      <td>360.0</td>\n",
       "      <td>2.000</td>\n",
       "    </tr>\n",
       "    <tr>\n",
       "      <th>3</th>\n",
       "      <td>Phone</td>\n",
       "      <td>Google</td>\n",
       "      <td>android</td>\n",
       "      <td>5.1.1</td>\n",
       "      <td>Samsung Internet</td>\n",
       "      <td>9.0</td>\n",
       "      <td>South West</td>\n",
       "      <td>Lagos</td>\n",
       "      <td>NaN</td>\n",
       "      <td>www.newsnow.co.uk</td>\n",
       "      <td>https://www.newsnow.co.uk/h/Sport/Football/Pre...</td>\n",
       "      <td>Bid</td>\n",
       "      <td>adx</td>\n",
       "      <td>/54</td>\n",
       "      <td>2019-08-20T17:10:05.505</td>\n",
       "      <td>640.0</td>\n",
       "      <td>360.0</td>\n",
       "      <td>4.000</td>\n",
       "    </tr>\n",
       "    <tr>\n",
       "      <th>4</th>\n",
       "      <td>Phone</td>\n",
       "      <td>Google</td>\n",
       "      <td>android</td>\n",
       "      <td>9</td>\n",
       "      <td>Chrome Mobile</td>\n",
       "      <td>72.0</td>\n",
       "      <td>South West</td>\n",
       "      <td>Lagos</td>\n",
       "      <td>NaN</td>\n",
       "      <td>www.legit.ng</td>\n",
       "      <td>https://www.legit.ng/1252793-bbnaija2019-ebuka...</td>\n",
       "      <td>Bid</td>\n",
       "      <td>adx</td>\n",
       "      <td>/</td>\n",
       "      <td>2019-08-13T18:26:28.015</td>\n",
       "      <td>732.0</td>\n",
       "      <td>412.0</td>\n",
       "      <td>2.625</td>\n",
       "    </tr>\n",
       "  </tbody>\n",
       "</table>\n",
       "</div>"
      ],
      "text/plain": [
       "  device_type os_vendor  os_name os_version      browser_name  \\\n",
       "0       Phone    Google  android          9     Chrome Mobile   \n",
       "1       Phone    Google  android          9     Chrome Mobile   \n",
       "2       Phone    Google  android      8.1.1     Chrome Mobile   \n",
       "3       Phone    Google  android      5.1.1  Samsung Internet   \n",
       "4       Phone    Google  android          9     Chrome Mobile   \n",
       "\n",
       "   browser_version location_region location_state app_name          site_name  \\\n",
       "0             75.0             NaN          Abuja      NaN                NaN   \n",
       "1             76.0             NaN          Ikeja      NaN                NaN   \n",
       "2             75.0      South West          Lagos      NaN       www.goal.com   \n",
       "3              9.0      South West          Lagos      NaN  www.newsnow.co.uk   \n",
       "4             72.0      South West          Lagos      NaN       www.legit.ng   \n",
       "\n",
       "                                           site_link data_type exchange  \\\n",
       "0         https://www.newsnow.co.uk/h/Sport/Football       Bid      adx   \n",
       "1  https://www.newsnow.co.uk/h/Sport/Football/Pre...       Bid      adx   \n",
       "2  https://www.goal.com/en/news/tammy-abraham-sho...       Bid      adx   \n",
       "3  https://www.newsnow.co.uk/h/Sport/Football/Pre...       Bid      adx   \n",
       "4  https://www.legit.ng/1252793-bbnaija2019-ebuka...       Bid      adx   \n",
       "\n",
       "  carrier            captured_time  device_screen_height  device_screen_width  \\\n",
       "0     NaN  2019-08-19T07:44:12.095                 720.0                360.0   \n",
       "1    Zain  2019-08-19T20:04:26.372                 720.0                360.0   \n",
       "2     /75  2019-08-21T09:31:24.054                 720.0                360.0   \n",
       "3     /54  2019-08-20T17:10:05.505                 640.0                360.0   \n",
       "4       /  2019-08-13T18:26:28.015                 732.0                412.0   \n",
       "\n",
       "   device_screen_pixel_ratio  \n",
       "0                      2.000  \n",
       "1                      2.000  \n",
       "2                      2.000  \n",
       "3                      4.000  \n",
       "4                      2.625  "
      ]
     },
     "execution_count": 3,
     "metadata": {},
     "output_type": "execute_result"
    }
   ],
   "source": [
    "df.head()"
   ]
  },
  {
   "cell_type": "code",
   "execution_count": 4,
   "id": "b9046dca",
   "metadata": {},
   "outputs": [
    {
     "name": "stdout",
     "output_type": "stream",
     "text": [
      "<class 'pandas.core.frame.DataFrame'>\n",
      "RangeIndex: 201858 entries, 0 to 201857\n",
      "Data columns (total 18 columns):\n",
      " #   Column                     Non-Null Count   Dtype  \n",
      "---  ------                     --------------   -----  \n",
      " 0   device_type                201858 non-null  object \n",
      " 1   os_vendor                  200643 non-null  object \n",
      " 2   os_name                    200992 non-null  object \n",
      " 3   os_version                 197915 non-null  object \n",
      " 4   browser_name               201566 non-null  object \n",
      " 5   browser_version            199758 non-null  float64\n",
      " 6   location_region            149816 non-null  object \n",
      " 7   location_state             195423 non-null  object \n",
      " 8   app_name                   73894 non-null   object \n",
      " 9   site_name                  31572 non-null   object \n",
      " 10  site_link                  127688 non-null  object \n",
      " 11  data_type                  201858 non-null  object \n",
      " 12  exchange                   201858 non-null  object \n",
      " 13  carrier                    134781 non-null  object \n",
      " 14  captured_time              201858 non-null  object \n",
      " 15  device_screen_height       194796 non-null  float64\n",
      " 16  device_screen_width        194796 non-null  float64\n",
      " 17  device_screen_pixel_ratio  131970 non-null  float64\n",
      "dtypes: float64(4), object(14)\n",
      "memory usage: 27.7+ MB\n"
     ]
    }
   ],
   "source": [
    "df.info()"
   ]
  },
  {
   "cell_type": "code",
   "execution_count": 5,
   "id": "b0524acc-eca0-42bd-a286-4a51026998c3",
   "metadata": {},
   "outputs": [],
   "source": [
    "# import matplotlib.pyplot as plt\n",
    "# %matplotlib inline\n",
    "# df.plot(kind = 'scatter', x = 'device_screen_pixel_ratio', y ='device_screen_height', figsize = (8,8));"
   ]
  },
  {
   "cell_type": "markdown",
   "id": "1468329e",
   "metadata": {},
   "source": [
    "## Data Cleaning"
   ]
  },
  {
   "cell_type": "code",
   "execution_count": 6,
   "id": "0fed3eee",
   "metadata": {},
   "outputs": [],
   "source": [
    "# fill all missing values in the necessary columns\n",
    "cat_cols = ['os_name', 'browser_name', 'location_state', 'carrier']\n",
    "df[cat_cols] = df[cat_cols].fillna(df[cat_cols].mode())\n",
    "\n",
    "# Numerical columns\n",
    "num_cols = ['browser_version', 'device_screen_height', 'device_screen_width', 'device_screen_pixel_ratio']\n",
    "df[num_cols] = df[num_cols].fillna(df[num_cols].mean())"
   ]
  },
  {
   "cell_type": "markdown",
   "id": "20badedc-9483-4b7c-bc98-6e8a1a0fef5f",
   "metadata": {},
   "source": [
    "According to the dataset, the maximum device screen width of phones are higher than that of  personal computers and even connected TV"
   ]
  },
  {
   "cell_type": "code",
   "execution_count": 7,
   "id": "e4e9a660-7b2b-432c-a52d-4a5e80449f53",
   "metadata": {},
   "outputs": [
    {
     "data": {
      "text/plain": [
       "device_type\n",
       "Personal Computer    488.325156\n",
       "Name: device_screen_width, dtype: float64"
      ]
     },
     "execution_count": 7,
     "metadata": {},
     "output_type": "execute_result"
    }
   ],
   "source": [
    "# maximum device screen width for personal computer\n",
    "df.where(df['device_type'] == 'Personal Computer').groupby('device_type')['device_screen_width'].max()"
   ]
  },
  {
   "cell_type": "code",
   "execution_count": 8,
   "id": "a3f5f3a5-c62d-44f8-b51b-40548369427a",
   "metadata": {},
   "outputs": [
    {
     "data": {
      "text/plain": [
       "device_type\n",
       "Phone    2560.0\n",
       "Name: device_screen_width, dtype: float64"
      ]
     },
     "execution_count": 8,
     "metadata": {},
     "output_type": "execute_result"
    }
   ],
   "source": [
    "# maximum device screen width for Phone\n",
    "df.where(df['device_type'] == 'Phone').groupby('device_type')['device_screen_width'].max()"
   ]
  },
  {
   "cell_type": "code",
   "execution_count": 9,
   "id": "223fdc06-1200-429e-a234-d9db9d64599a",
   "metadata": {},
   "outputs": [
    {
     "data": {
      "text/plain": [
       "device_type\n",
       "Tablet    2560.0\n",
       "Name: device_screen_width, dtype: float64"
      ]
     },
     "execution_count": 9,
     "metadata": {},
     "output_type": "execute_result"
    }
   ],
   "source": [
    "# maximum device screen width for Tablet\n",
    "df.where(df['device_type'] == 'Tablet').groupby('device_type')['device_screen_width'].max()"
   ]
  },
  {
   "cell_type": "code",
   "execution_count": 10,
   "id": "71cf79f1-3844-46b1-8723-e2152c067afb",
   "metadata": {},
   "outputs": [
    {
     "data": {
      "text/plain": [
       "device_type\n",
       "Connected TV    1920.0\n",
       "Name: device_screen_width, dtype: float64"
      ]
     },
     "execution_count": 10,
     "metadata": {},
     "output_type": "execute_result"
    }
   ],
   "source": [
    "# maximum device screen width for Connected TV\n",
    "df.where(df['device_type'] == 'Connected TV').groupby('device_type')['device_screen_width'].max()"
   ]
  },
  {
   "cell_type": "markdown",
   "id": "7ed2fddd-df4a-44fd-9648-86ec8afee9cf",
   "metadata": {},
   "source": [
    "## Feature Engineering"
   ]
  },
  {
   "cell_type": "code",
   "execution_count": 11,
   "id": "7844114d",
   "metadata": {},
   "outputs": [],
   "source": [
    "# Concat two columns\n",
    "df['os_version'] = df['os_version'].astype(str)\n",
    "df['os_name_version'] = df['os_name'] + \" \" + df['os_version']"
   ]
  },
  {
   "cell_type": "code",
   "execution_count": 12,
   "id": "36e84650",
   "metadata": {},
   "outputs": [],
   "source": [
    "# Concat two columns\n",
    "df['browser_version'] = df['browser_version'].astype(str)\n",
    "df['browser_name_version'] = df['browser_name'] + \" \" + df['browser_version']"
   ]
  },
  {
   "cell_type": "markdown",
   "id": "081ced39-2343-4a3c-848b-06722c491f79",
   "metadata": {},
   "source": [
    "- We can calculate the device screen diagonal by pythagoras theorem , we then categorize the result  by dividing using pd.cut"
   ]
  },
  {
   "cell_type": "code",
   "execution_count": 13,
   "id": "3e272707-9ab8-4569-862b-150d08dfd49f",
   "metadata": {},
   "outputs": [],
   "source": [
    "device_screen_height_sqd = np.square(df['device_screen_height'])\n",
    "device_screen_width_sqd = np.square(df['device_screen_width'])\n",
    "df['device_screen_diagonal'] = np.sqrt(device_screen_height_sqd + device_screen_width_sqd)"
   ]
  },
  {
   "cell_type": "markdown",
   "id": "9edb51ac-07a2-4e25-9039-5de85ddb0090",
   "metadata": {},
   "source": [
    "use pd.cut to divide the values of the device_screen_width into ordinal categorical groups"
   ]
  },
  {
   "cell_type": "code",
   "execution_count": 14,
   "id": "1694e200-5878-4747-95f8-c3dc2aa651e1",
   "metadata": {},
   "outputs": [
    {
     "data": {
      "text/plain": [
       "count    201858.000000\n",
       "mean        488.325156\n",
       "std         204.821164\n",
       "min         122.000000\n",
       "25%         360.000000\n",
       "50%         375.000000\n",
       "75%         600.000000\n",
       "max        2560.000000\n",
       "Name: device_screen_width, dtype: float64"
      ]
     },
     "execution_count": 14,
     "metadata": {},
     "output_type": "execute_result"
    }
   ],
   "source": [
    "# define bin edges to create groups \n",
    "df['device_screen_width'].describe()"
   ]
  },
  {
   "cell_type": "code",
   "execution_count": 15,
   "id": "6c0fc112-0c9d-47f4-878f-1816a7244153",
   "metadata": {},
   "outputs": [],
   "source": [
    "# fill the bin edges with values from 75% and max respectively\n",
    "bins = [0.0, 600.0, 2560.0]\n",
    "names = ['smartphone', 'other_device']"
   ]
  },
  {
   "cell_type": "markdown",
   "id": "1fd94762-17b9-4f8f-97a3-d9341961025d",
   "metadata": {},
   "source": [
    "Convert device_screen_width to a categorical columns of smartphone and other_device categories"
   ]
  },
  {
   "cell_type": "code",
   "execution_count": 16,
   "id": "4959fe20-1156-4cc6-a8d1-6c7118fe33af",
   "metadata": {},
   "outputs": [
    {
     "data": {
      "text/plain": [
       "CategoricalDtype(categories=['smartphone', 'other_device'], ordered=True)"
      ]
     },
     "execution_count": 16,
     "metadata": {},
     "output_type": "execute_result"
    }
   ],
   "source": [
    "# Create screen_type_width column that holds the categorical data of device_screen_diagonal\n",
    "df['screen_type_width'] = pd.cut(df['device_screen_width'], bins, labels = names, include_lowest=True)\n",
    "\n",
    "# check to ensure that the column was created\n",
    "df['screen_type_width'].dtype"
   ]
  },
  {
   "cell_type": "code",
   "execution_count": 17,
   "id": "b6ee42ff-82f6-4851-9416-f3e1228b8723",
   "metadata": {},
   "outputs": [],
   "source": [
    "# def device(dataframe):\n",
    "#     '''\n",
    "#     creates a column for whether a device is a smartphone or not\n",
    "#     '''\n",
    "#     smart = []\n",
    "#     for row in df['screen_type_width']:\n",
    "#         if row != 'mobile_phone':\n",
    "#             smart.append(0)\n",
    "#         else:\n",
    "#             smart.append(1)\n",
    "        \n",
    "#     df['device_width'] = smart\n",
    "#     return df  "
   ]
  },
  {
   "cell_type": "code",
   "execution_count": 18,
   "id": "ee3ae38c-53c4-4cba-856b-4cb3fc384844",
   "metadata": {},
   "outputs": [
    {
     "data": {
      "text/plain": [
       "0    smartphone\n",
       "1    smartphone\n",
       "2    smartphone\n",
       "3    smartphone\n",
       "4    smartphone\n",
       "Name: screen_type_width, dtype: category\n",
       "Categories (2, object): ['smartphone' < 'other_device']"
      ]
     },
     "execution_count": 18,
     "metadata": {},
     "output_type": "execute_result"
    }
   ],
   "source": [
    "df.screen_type_width.head()"
   ]
  },
  {
   "cell_type": "markdown",
   "id": "fc688874-593a-4626-8681-2f4ae46d16ca",
   "metadata": {},
   "source": [
    "## Data Cleaning(Cont.)"
   ]
  },
  {
   "cell_type": "code",
   "execution_count": 19,
   "id": "6f3310cb",
   "metadata": {},
   "outputs": [],
   "source": [
    "# Breakdown the datetime column\n",
    "df['captured_time'] = pd.to_datetime(df['captured_time'])\n",
    "\n",
    "df['captured_year'] = pd.to_datetime(df['captured_time']).dt.year\n",
    "\n",
    "df['captured_month'] =  pd.to_datetime(df['captured_time']).dt.strftime('%B')\n",
    "\n",
    "df['captured_day'] = pd.to_datetime(df['captured_time']).dt.day"
   ]
  },
  {
   "cell_type": "code",
   "execution_count": 20,
   "id": "e30a42d3",
   "metadata": {},
   "outputs": [],
   "source": [
    "# Drop columns not needed for prediction\n",
    "drop_cols = ['device_type', 'os_name', 'os_version', 'browser_name', 'browser_version', 'device_screen_height', 'device_screen_width', 'device_screen_pixel_ratio', 'location_region', 'captured_time', 'app_name', 'site_name', 'site_link']\n",
    "df.drop(columns = drop_cols, axis = 1, inplace = True)"
   ]
  },
  {
   "cell_type": "code",
   "execution_count": 21,
   "id": "b4d7fbff-54ce-4f94-9878-db98adc88793",
   "metadata": {},
   "outputs": [
    {
     "data": {
      "text/html": [
       "<div>\n",
       "<style scoped>\n",
       "    .dataframe tbody tr th:only-of-type {\n",
       "        vertical-align: middle;\n",
       "    }\n",
       "\n",
       "    .dataframe tbody tr th {\n",
       "        vertical-align: top;\n",
       "    }\n",
       "\n",
       "    .dataframe thead th {\n",
       "        text-align: right;\n",
       "    }\n",
       "</style>\n",
       "<table border=\"1\" class=\"dataframe\">\n",
       "  <thead>\n",
       "    <tr style=\"text-align: right;\">\n",
       "      <th></th>\n",
       "      <th>os_vendor</th>\n",
       "      <th>location_state</th>\n",
       "      <th>data_type</th>\n",
       "      <th>exchange</th>\n",
       "      <th>carrier</th>\n",
       "      <th>os_name_version</th>\n",
       "      <th>browser_name_version</th>\n",
       "      <th>device_screen_diagonal</th>\n",
       "      <th>screen_type_width</th>\n",
       "      <th>captured_year</th>\n",
       "      <th>captured_month</th>\n",
       "      <th>captured_day</th>\n",
       "    </tr>\n",
       "  </thead>\n",
       "  <tbody>\n",
       "    <tr>\n",
       "      <th>0</th>\n",
       "      <td>Google</td>\n",
       "      <td>Abuja</td>\n",
       "      <td>Bid</td>\n",
       "      <td>adx</td>\n",
       "      <td>/</td>\n",
       "      <td>android 9</td>\n",
       "      <td>Chrome Mobile 75.0</td>\n",
       "      <td>804.984472</td>\n",
       "      <td>smartphone</td>\n",
       "      <td>2019</td>\n",
       "      <td>August</td>\n",
       "      <td>19</td>\n",
       "    </tr>\n",
       "    <tr>\n",
       "      <th>1</th>\n",
       "      <td>Google</td>\n",
       "      <td>Ikeja</td>\n",
       "      <td>Bid</td>\n",
       "      <td>adx</td>\n",
       "      <td>Zain</td>\n",
       "      <td>android 9</td>\n",
       "      <td>Chrome Mobile 76.0</td>\n",
       "      <td>804.984472</td>\n",
       "      <td>smartphone</td>\n",
       "      <td>2019</td>\n",
       "      <td>August</td>\n",
       "      <td>19</td>\n",
       "    </tr>\n",
       "    <tr>\n",
       "      <th>2</th>\n",
       "      <td>Google</td>\n",
       "      <td>Lagos</td>\n",
       "      <td>Bid</td>\n",
       "      <td>adx</td>\n",
       "      <td>/75</td>\n",
       "      <td>android 8.1.1</td>\n",
       "      <td>Chrome Mobile 75.0</td>\n",
       "      <td>804.984472</td>\n",
       "      <td>smartphone</td>\n",
       "      <td>2019</td>\n",
       "      <td>August</td>\n",
       "      <td>21</td>\n",
       "    </tr>\n",
       "    <tr>\n",
       "      <th>3</th>\n",
       "      <td>Google</td>\n",
       "      <td>Lagos</td>\n",
       "      <td>Bid</td>\n",
       "      <td>adx</td>\n",
       "      <td>/54</td>\n",
       "      <td>android 5.1.1</td>\n",
       "      <td>Samsung Internet 9.0</td>\n",
       "      <td>734.302390</td>\n",
       "      <td>smartphone</td>\n",
       "      <td>2019</td>\n",
       "      <td>August</td>\n",
       "      <td>20</td>\n",
       "    </tr>\n",
       "    <tr>\n",
       "      <th>4</th>\n",
       "      <td>Google</td>\n",
       "      <td>Lagos</td>\n",
       "      <td>Bid</td>\n",
       "      <td>adx</td>\n",
       "      <td>/</td>\n",
       "      <td>android 9</td>\n",
       "      <td>Chrome Mobile 72.0</td>\n",
       "      <td>839.980952</td>\n",
       "      <td>smartphone</td>\n",
       "      <td>2019</td>\n",
       "      <td>August</td>\n",
       "      <td>13</td>\n",
       "    </tr>\n",
       "  </tbody>\n",
       "</table>\n",
       "</div>"
      ],
      "text/plain": [
       "  os_vendor location_state data_type exchange carrier os_name_version  \\\n",
       "0    Google          Abuja       Bid      adx       /       android 9   \n",
       "1    Google          Ikeja       Bid      adx    Zain       android 9   \n",
       "2    Google          Lagos       Bid      adx     /75   android 8.1.1   \n",
       "3    Google          Lagos       Bid      adx     /54   android 5.1.1   \n",
       "4    Google          Lagos       Bid      adx       /       android 9   \n",
       "\n",
       "   browser_name_version  device_screen_diagonal screen_type_width  \\\n",
       "0    Chrome Mobile 75.0              804.984472        smartphone   \n",
       "1    Chrome Mobile 76.0              804.984472        smartphone   \n",
       "2    Chrome Mobile 75.0              804.984472        smartphone   \n",
       "3  Samsung Internet 9.0              734.302390        smartphone   \n",
       "4    Chrome Mobile 72.0              839.980952        smartphone   \n",
       "\n",
       "   captured_year captured_month  captured_day  \n",
       "0           2019         August            19  \n",
       "1           2019         August            19  \n",
       "2           2019         August            21  \n",
       "3           2019         August            20  \n",
       "4           2019         August            13  "
      ]
     },
     "execution_count": 21,
     "metadata": {},
     "output_type": "execute_result"
    }
   ],
   "source": [
    "df.head()"
   ]
  },
  {
   "cell_type": "code",
   "execution_count": 22,
   "id": "8562c77b-6b8b-4f5b-857f-33168dc5df40",
   "metadata": {},
   "outputs": [],
   "source": [
    "df.dropna(axis = 0, inplace = True)"
   ]
  },
  {
   "cell_type": "code",
   "execution_count": 23,
   "id": "e83d37f5-32f8-4018-b01b-c58bff68678c",
   "metadata": {},
   "outputs": [
    {
     "data": {
      "text/plain": [
       "os_vendor                 0\n",
       "location_state            0\n",
       "data_type                 0\n",
       "exchange                  0\n",
       "carrier                   0\n",
       "os_name_version           0\n",
       "browser_name_version      0\n",
       "device_screen_diagonal    0\n",
       "screen_type_width         0\n",
       "captured_year             0\n",
       "captured_month            0\n",
       "captured_day              0\n",
       "dtype: int64"
      ]
     },
     "execution_count": 23,
     "metadata": {},
     "output_type": "execute_result"
    }
   ],
   "source": [
    "df.isna().sum()"
   ]
  },
  {
   "cell_type": "code",
   "execution_count": 24,
   "id": "3f2dd192",
   "metadata": {},
   "outputs": [
    {
     "data": {
      "text/plain": [
       "12"
      ]
     },
     "execution_count": 24,
     "metadata": {},
     "output_type": "execute_result"
    }
   ],
   "source": [
    "len(df.columns)"
   ]
  },
  {
   "cell_type": "code",
   "execution_count": 25,
   "id": "afa0394d-9bf3-4231-a9ba-ab6fdd319c9a",
   "metadata": {},
   "outputs": [
    {
     "data": {
      "text/plain": [
       "dtype('O')"
      ]
     },
     "execution_count": 25,
     "metadata": {},
     "output_type": "execute_result"
    }
   ],
   "source": [
    "df['screen_type_width'] = df['screen_type_width'].astype('str')\n",
    "df['screen_type_width'].dtype"
   ]
  },
  {
   "cell_type": "code",
   "execution_count": 26,
   "id": "2aad070c",
   "metadata": {},
   "outputs": [],
   "source": [
    "# Substitute the classes in the target column with 0's and 1's\n",
    "target_col = {'Bid': 0, 'Click': 1}\n",
    "df['data_type'] = df['data_type'].map(target_col)"
   ]
  },
  {
   "cell_type": "code",
   "execution_count": 27,
   "id": "6e858f95",
   "metadata": {},
   "outputs": [
    {
     "data": {
      "text/plain": [
       "0    129317\n",
       "1      1757\n",
       "Name: data_type, dtype: int64"
      ]
     },
     "execution_count": 27,
     "metadata": {},
     "output_type": "execute_result"
    }
   ],
   "source": [
    "df['data_type'].value_counts()"
   ]
  },
  {
   "cell_type": "code",
   "execution_count": 28,
   "id": "35599d4c-56fd-4445-9ddb-8fc3128bbdc6",
   "metadata": {},
   "outputs": [],
   "source": [
    "# define predictor data\n",
    "X = df.drop(['data_type'], axis = 1)\n",
    "\n",
    "# define target data\n",
    "y = df['data_type']"
   ]
  },
  {
   "cell_type": "code",
   "execution_count": 29,
   "id": "bd71deb1-9d96-46be-b3c0-cfd7dc2f1fcf",
   "metadata": {},
   "outputs": [
    {
     "name": "stdout",
     "output_type": "stream",
     "text": [
      "<class 'pandas.core.frame.DataFrame'>\n",
      "Int64Index: 131074 entries, 0 to 201857\n",
      "Data columns (total 12 columns):\n",
      " #   Column                  Non-Null Count   Dtype  \n",
      "---  ------                  --------------   -----  \n",
      " 0   os_vendor               131074 non-null  object \n",
      " 1   location_state          131074 non-null  object \n",
      " 2   data_type               131074 non-null  int64  \n",
      " 3   exchange                131074 non-null  object \n",
      " 4   carrier                 131074 non-null  object \n",
      " 5   os_name_version         131074 non-null  object \n",
      " 6   browser_name_version    131074 non-null  object \n",
      " 7   device_screen_diagonal  131074 non-null  float64\n",
      " 8   screen_type_width       131074 non-null  object \n",
      " 9   captured_year           131074 non-null  int64  \n",
      " 10  captured_month          131074 non-null  object \n",
      " 11  captured_day            131074 non-null  int64  \n",
      "dtypes: float64(1), int64(3), object(8)\n",
      "memory usage: 13.0+ MB\n"
     ]
    }
   ],
   "source": [
    "df.info()"
   ]
  },
  {
   "cell_type": "code",
   "execution_count": 30,
   "id": "eba46a9e-9ad6-46e2-8ced-b319c03547d1",
   "metadata": {},
   "outputs": [],
   "source": [
    "# # Transform all the categorical ordinal data column(label encoding)\n",
    "# from sklearn.preprocessing import OrdinalEncoder, LabelEncoder\n",
    "\n",
    "# # create object of Ordinalencoding\n",
    "# encoder= OrdinalEncoder()\n",
    "# # transform predictor data\n",
    "# X = encoder.fit_transform(X)\n",
    "\n",
    "\n",
    "# # create object of labelencoding\n",
    "# le= LabelEncoder()\n",
    "# # transform target data\n",
    "# y = le.fit_transform(y)\n",
    "# # model_df = pd.get_dummies(df)"
   ]
  },
  {
   "cell_type": "code",
   "execution_count": 31,
   "id": "ce4c5568-a0e8-4a7f-90c3-4de45fa360e1",
   "metadata": {},
   "outputs": [],
   "source": [
    "# # split dataset into train and test set\n",
    "# from sklearn.model_selection import train_test_split\n",
    "\n",
    "# X_train, X_test, y_train, y_test = train_test_split(X, y, test_size= 0.4, random_state = 1)"
   ]
  },
  {
   "cell_type": "code",
   "execution_count": 32,
   "id": "241b0a70-d5a3-4a15-8fe4-cf33008b2727",
   "metadata": {},
   "outputs": [],
   "source": [
    "# # Transform all the categorical ordinal data column(label encoding)\n",
    "# from sklearn.preprocessing import OrdinalEncoder, LabelEncoder\n",
    "\n",
    "# # create object of Ordinalencoding\n",
    "# encoder= OrdinalEncoder()\n",
    "# # transform predictor data\n",
    "# encoder.fit(X_train)\n",
    "# X_train = encoder.transform(X_train)\n",
    "# X_test = encoder.fit_transform(X_test)\n",
    "\n",
    "\n",
    "# # create object of labelencoding\n",
    "# le= LabelEncoder()\n",
    "# # transform target data\n",
    "# le.fit(y_train)\n",
    "# y_train = le.transform(y_train)\n",
    "# y_test = le.transform(y_test)\n",
    "# # model_df = pd.get_dummies(df)"
   ]
  },
  {
   "cell_type": "code",
   "execution_count": 33,
   "id": "cb4de562-6e6c-49bd-89fa-3d6e61e2adbb",
   "metadata": {},
   "outputs": [],
   "source": [
    "# X_train.shape, y_train.shape, X_test.shape, y_test.shape"
   ]
  },
  {
   "cell_type": "code",
   "execution_count": 34,
   "id": "a10a9ca1-6c22-4578-abf7-1c679e059d6a",
   "metadata": {},
   "outputs": [],
   "source": [
    "# X_test[:5, :]"
   ]
  },
  {
   "cell_type": "code",
   "execution_count": 35,
   "id": "9e262078-df5e-4fc8-9b35-64fb77d28300",
   "metadata": {},
   "outputs": [],
   "source": [
    "# y_train[:5]"
   ]
  },
  {
   "cell_type": "code",
   "execution_count": 30,
   "id": "f281e085",
   "metadata": {},
   "outputs": [
    {
     "data": {
      "text/plain": [
       "Counter({0: 129317, 1: 1757})"
      ]
     },
     "execution_count": 30,
     "metadata": {},
     "output_type": "execute_result"
    }
   ],
   "source": [
    "from collections import Counter\n",
    "Counter(y)"
   ]
  },
  {
   "cell_type": "code",
   "execution_count": 37,
   "id": "5912640e",
   "metadata": {},
   "outputs": [
    {
     "data": {
      "text/plain": [
       "<AxesSubplot:ylabel='data_type'>"
      ]
     },
     "execution_count": 37,
     "metadata": {},
     "output_type": "execute_result"
    },
    {
     "data": {
      "image/png": "[encoded data removed]",
      "text/plain": [
       "<Figure size 432x288 with 1 Axes>"
      ]
     },
     "metadata": {},
     "output_type": "display_data"
    }
   ],
   "source": [
    "# Show pie plot\n",
    "y.value_counts().plot.pie(autopct='%.2f')"
   ]
  },
  {
   "cell_type": "markdown",
   "id": "38a03aba",
   "metadata": {},
   "source": [
    "# Class Balancing "
   ]
  },
  {
   "cell_type": "code",
   "execution_count": 21,
   "id": "c6f30297",
   "metadata": {},
   "outputs": [
    {
     "name": "stdout",
     "output_type": "stream",
     "text": [
      "Requirement already satisfied: imbalanced-learn in c:\\users\\sofiyah\\anaconda3\\lib\\site-packages (0.9.0)\n",
      "Requirement already satisfied: joblib>=0.11 in c:\\users\\sofiyah\\anaconda3\\lib\\site-packages (from imbalanced-learn) (1.1.0)\n",
      "Requirement already satisfied: scikit-learn>=1.0.1 in c:\\users\\sofiyah\\anaconda3\\lib\\site-packages (from imbalanced-learn) (1.1.0)\n",
      "Requirement already satisfied: scipy>=1.1.0 in c:\\users\\sofiyah\\anaconda3\\lib\\site-packages (from imbalanced-learn) (1.7.1)\n",
      "Requirement already satisfied: threadpoolctl>=2.0.0 in c:\\users\\sofiyah\\anaconda3\\lib\\site-packages (from imbalanced-learn) (2.2.0)\n",
      "Requirement already satisfied: numpy>=1.14.6 in c:\\users\\sofiyah\\anaconda3\\lib\\site-packages (from imbalanced-learn) (1.20.3)\n"
     ]
    }
   ],
   "source": [
    "# Install Imbalanced-learn\n",
    "# !pip install -U imbalanced-learn"
   ]
  },
  {
   "cell_type": "markdown",
   "id": "1afe384a",
   "metadata": {},
   "source": [
    "## Random Oversampling"
   ]
  },
  {
   "cell_type": "code",
   "execution_count": 23,
   "id": "60795a16",
   "metadata": {},
   "outputs": [],
   "source": [
    "# from imblearn.over_sampling import RandomOverSampler\n",
    "# ros = RandomOverSampler(random_state = 42)\n",
    "# # ros = RandomOverSampler(sampling_strategy='not majority')\n",
    "# X_train_ros, y_train_ros = ros.fit_resample(X_train, y_train)"
   ]
  },
  {
   "cell_type": "code",
   "execution_count": 51,
   "id": "5887fb4e",
   "metadata": {},
   "outputs": [],
   "source": [
    "# y_train_ros.value_counts()"
   ]
  },
  {
   "cell_type": "markdown",
   "id": "68aa188e",
   "metadata": {},
   "source": [
    "## Random Undersampling"
   ]
  },
  {
   "cell_type": "code",
   "execution_count": 25,
   "id": "9256b541",
   "metadata": {},
   "outputs": [],
   "source": [
    "# from imblearn.under_sampling import RandomUnderSampler\n",
    "# rus = RandomUnderSampler(sampling_strategy='not minority')\n",
    "# X_train_rus, y_train_rus = rus.fit_resample(X_train, y_train)"
   ]
  },
  {
   "cell_type": "code",
   "execution_count": 52,
   "id": "3800a402",
   "metadata": {},
   "outputs": [],
   "source": [
    "# y_train_rus.value_counts()"
   ]
  },
  {
   "cell_type": "markdown",
   "id": "08181620",
   "metadata": {},
   "source": [
    "## Model Building with Oversampling"
   ]
  },
  {
   "cell_type": "code",
   "execution_count": 55,
   "id": "d6ba3e44",
   "metadata": {},
   "outputs": [],
   "source": [
    "# from sklearn.linear_model import LogisticRegression\n",
    "# lr = LogisticRegression(random_state = 0).fit(X_train_ros, y_train_ros)"
   ]
  },
  {
   "cell_type": "code",
   "execution_count": 29,
   "id": "49109129",
   "metadata": {},
   "outputs": [],
   "source": [
    "# y_pred = lr.predict(X_test)"
   ]
  },
  {
   "cell_type": "code",
   "execution_count": 53,
   "id": "a22e45c5",
   "metadata": {},
   "outputs": [],
   "source": [
    "# lr.score(X_test, y_test)"
   ]
  },
  {
   "cell_type": "markdown",
   "id": "1c40d702",
   "metadata": {},
   "source": [
    "## Model Performance"
   ]
  },
  {
   "cell_type": "markdown",
   "id": "c4cf40ed-9a5f-4231-8b2d-15f6737be4a8",
   "metadata": {},
   "source": [
    "SMOTE (Synthetic Minority Over-sampling Technique)\n",
    "This technique is followed to avoid overfitting which occurs when exact replicas of minority instances are added to the main dataset."
   ]
  },
  {
   "cell_type": "markdown",
   "id": "7dd18658-53de-4994-a4f5-0a7ba1a88dbe",
   "metadata": {},
   "source": [
    "Use SMOTE algorithm for Oversampling"
   ]
  },
  {
   "cell_type": "markdown",
   "id": "46bb3384-92f8-4a28-a3aa-70c62bf5dbbd",
   "metadata": {},
   "source": [
    "Oversample first then split to train and test set"
   ]
  },
  {
   "cell_type": "code",
   "execution_count": 31,
   "id": "da672b7f-4ec3-4415-951a-7d37feae8f87",
   "metadata": {},
   "outputs": [
    {
     "data": {
      "text/plain": [
       "((78644, 11), (78644,), (52430, 11), (52430,))"
      ]
     },
     "execution_count": 31,
     "metadata": {},
     "output_type": "execute_result"
    }
   ],
   "source": [
    "# split dataset into train and test set\n",
    "from sklearn.model_selection import train_test_split\n",
    "\n",
    "X_train, X_test, y_train, y_test = train_test_split(X, y, test_size= 0.4, random_state = 1)\n",
    "\n",
    "X_train.shape, y_train.shape, X_test.shape, y_test.shape"
   ]
  },
  {
   "cell_type": "code",
   "execution_count": 32,
   "id": "279e3667-32a2-4201-a36c-f9618ffa6217",
   "metadata": {},
   "outputs": [],
   "source": [
    "# Transform all the categorical ordinal data column(label encoding)\n",
    "from sklearn.preprocessing import OrdinalEncoder, LabelEncoder\n",
    "\n",
    "# create object of Ordinalencoding\n",
    "encoder= OrdinalEncoder()\n",
    "# transform predictor data\n",
    "encoder.fit(X_train)\n",
    "X_train = encoder.transform(X_train)\n",
    "X_test = encoder.fit_transform(X_test)\n",
    "\n",
    "\n",
    "# create object of labelencoding\n",
    "le= LabelEncoder()\n",
    "# transform target data\n",
    "le.fit(y_train)\n",
    "y_train = le.transform(y_train)\n",
    "y_test = le.transform(y_test)"
   ]
  },
  {
   "cell_type": "code",
   "execution_count": 33,
   "id": "e9ce5fff-cbe2-4124-bf66-51a65cf90210",
   "metadata": {},
   "outputs": [
    {
     "data": {
      "text/plain": [
       "((78644, 11), (78644,))"
      ]
     },
     "execution_count": 33,
     "metadata": {},
     "output_type": "execute_result"
    }
   ],
   "source": [
    "X_train.shape, y_train.shape"
   ]
  },
  {
   "cell_type": "code",
   "execution_count": 35,
   "id": "ac8e90bd-98c1-46e7-996d-12fa25a64b1e",
   "metadata": {
    "tags": []
   },
   "outputs": [
    {
     "name": "stdout",
     "output_type": "stream",
     "text": [
      "Counter({0: 77605, 1: 1039})\n",
      "Counter({0: 77605, 1: 38802})\n"
     ]
    }
   ],
   "source": [
    "\n",
    "# from collections import Counter\n",
    "# from imblearn.over_sampling import SMOTE\n",
    "# # summarize class distribution\n",
    "# print(Counter(y_train))\n",
    "# # define oversample strategy\n",
    "# oversample = SMOTE(sampling_strategy=0.5)\n",
    "# # fit and apply the transform\n",
    "# X_over, y_over = oversample.fit_resample(X_train, y_train)\n",
    "# # summarize class distribution\n",
    "# print(Counter(y_over))"
   ]
  },
  {
   "cell_type": "code",
   "execution_count": 63,
   "id": "c29b1970-219b-4523-a8c4-b6a110ae1100",
   "metadata": {},
   "outputs": [
    {
     "name": "stdout",
     "output_type": "stream",
     "text": [
      "Counter({0: 77605, 1: 1039})\n",
      "Counter({0: 75193, 1: 34575})\n"
     ]
    }
   ],
   "source": [
    "from imblearn.combine import SMOTEENN\n",
    "\n",
    "# summarize class distribution\n",
    "print(Counter(y_train))\n",
    "# define sampling strategy\n",
    "sample = SMOTEENN(sampling_strategy=0.5)\n",
    "# fit and apply the transform\n",
    "X_over, y_over = sample.fit_resample(X_train, y_train)\n",
    "# summarize class distribution\n",
    "print(Counter(y_over))"
   ]
  },
  {
   "cell_type": "code",
   "execution_count": 49,
   "id": "725732b9-cccb-4fc0-94e2-13ae791a8b16",
   "metadata": {},
   "outputs": [],
   "source": [
    "# from sklearn.linear_model import LogisticRegression\n",
    "# model = LogisticRegression(random_state = 0, solver='lbfgs', max_iter=150)\n",
    "# model.fit(X_over, y_over)\n",
    "# # predict on test set\n",
    "# y_pred = model.predict(X_test)"
   ]
  },
  {
   "cell_type": "code",
   "execution_count": 47,
   "id": "6ae65c6a-cc1c-4e27-97de-f96cb20aa4c0",
   "metadata": {},
   "outputs": [
    {
     "name": "stdout",
     "output_type": "stream",
     "text": [
      "              precision    recall  f1-score   support\n",
      "\n",
      "           0       1.00      0.85      0.91     51712\n",
      "           1       0.07      0.78      0.12       718\n",
      "\n",
      "    accuracy                           0.84     52430\n",
      "   macro avg       0.53      0.81      0.52     52430\n",
      "weighted avg       0.98      0.84      0.90     52430\n",
      "\n"
     ]
    }
   ],
   "source": [
    "# from sklearn import metrics\n",
    "# print(metrics.classification_report(y_test, y_pred))"
   ]
  },
  {
   "cell_type": "code",
   "execution_count": 62,
   "id": "7dc7ca34-8919-4401-981e-fa58bb518d63",
   "metadata": {},
   "outputs": [],
   "source": [
    "# from sklearn.linear_model import LogisticRegression\n",
    "# model = LogisticRegression((penalty='l1', *, dual=False, tol=0.0001, C=1.0, fit_intercept=True, intercept_scaling=1, class_weight='balanced', random_state=5, solver='liblinear', max_iter=200, multi_class='auto', verbose=5, warm_start=False, n_jobs=None, l1_ratio=None)\n",
    "# model.fit(X_over, y_over)\n",
    "# # predict on test set\n",
    "# y_pred = model.predict(X_test)"
   ]
  },
  {
   "cell_type": "code",
   "execution_count": 66,
   "id": "43d32498-3424-4cac-8cd3-9aabefba52fc",
   "metadata": {},
   "outputs": [
    {
     "name": "stderr",
     "output_type": "stream",
     "text": [
      "[Parallel(n_jobs=1)]: Using backend SequentialBackend with 1 concurrent workers.\n"
     ]
    },
    {
     "name": "stdout",
     "output_type": "stream",
     "text": [
      "max_iter reached after 9 seconds\n"
     ]
    },
    {
     "name": "stderr",
     "output_type": "stream",
     "text": [
      "C:\\Users\\Sofiyah\\anaconda3\\lib\\site-packages\\sklearn\\linear_model\\_sag.py:352: ConvergenceWarning: The max_iter was reached which means the coef_ did not converge\n",
      "  warnings.warn(\n",
      "[Parallel(n_jobs=1)]: Done   1 out of   1 | elapsed:    8.4s remaining:    0.0s\n",
      "[Parallel(n_jobs=1)]: Done   1 out of   1 | elapsed:    8.4s finished\n"
     ]
    }
   ],
   "source": [
    "from sklearn.linear_model import LogisticRegression\n",
    "model = LogisticRegression(penalty='l2', class_weight=dict, random_state=0, solver='sag', max_iter=200, verbose=5)\n",
    "model.fit(X_over, y_over)\n",
    "# predict on test set\n",
    "y_pred = model.predict(X_test)"
   ]
  },
  {
   "cell_type": "code",
   "execution_count": 67,
   "id": "528b5118-9613-427c-b564-d8f221ae0874",
   "metadata": {},
   "outputs": [
    {
     "name": "stdout",
     "output_type": "stream",
     "text": [
      "              precision    recall  f1-score   support\n",
      "\n",
      "           0       1.00      0.84      0.91     51712\n",
      "           1       0.06      0.76      0.12       718\n",
      "\n",
      "    accuracy                           0.84     52430\n",
      "   macro avg       0.53      0.80      0.51     52430\n",
      "weighted avg       0.98      0.84      0.90     52430\n",
      "\n"
     ]
    }
   ],
   "source": [
    "from sklearn import metrics\n",
    "print(metrics.classification_report(y_test, y_pred))"
   ]
  },
  {
   "cell_type": "code",
   "execution_count": 34,
   "id": "010e7457-8e32-4a9c-a164-7458ec20e09a",
   "metadata": {},
   "outputs": [],
   "source": [
    "import numpy as np\n",
    "from sklearn import linear_model, decomposition, datasets\n",
    "from sklearn.linear_model import LogisticRegression\n",
    "from sklearn.pipeline import Pipeline\n",
    "from sklearn.model_selection import GridSearchCV\n",
    "from sklearn.preprocessing import StandardScaler"
   ]
  },
  {
   "cell_type": "code",
   "execution_count": 35,
   "id": "eee4477c-ff9f-464c-9557-825249f13a62",
   "metadata": {},
   "outputs": [],
   "source": [
    "# define predictor data\n",
    "X = df.drop(['data_type'], axis = 1)\n",
    "\n",
    "# define target data\n",
    "y = df['data_type']"
   ]
  },
  {
   "cell_type": "code",
   "execution_count": 36,
   "id": "d1e7d789-b4fc-4b30-86bb-3e5504c3b1e4",
   "metadata": {},
   "outputs": [],
   "source": [
    "# StandardScaler is used to remove the outliners\n",
    "std_slc = StandardScaler()"
   ]
  },
  {
   "cell_type": "code",
   "execution_count": 37,
   "id": "ca8c68a0-e0a7-4940-b4dc-ca92177a1aa8",
   "metadata": {},
   "outputs": [],
   "source": [
    "# Principal Component Analysis(PCA) which will reduce the dimension \n",
    "# of features by creating new features which have most of the varience of the original data.\n",
    "pca = decomposition.PCA()"
   ]
  },
  {
   "cell_type": "code",
   "execution_count": 38,
   "id": "e208e540-b662-479c-b8ce-58ef262079d6",
   "metadata": {},
   "outputs": [],
   "source": [
    "logistic_Reg = LogisticRegression()"
   ]
  },
  {
   "cell_type": "code",
   "execution_count": 39,
   "id": "ab32115c-a37a-42e9-8944-2f22b65535ae",
   "metadata": {},
   "outputs": [],
   "source": [
    "# create an object pipe to create a pipeline for all the three objects std_scl, pca and logistic_Reg.\n",
    "pipe = Pipeline(steps=[('std_slc', std_slc), ('pca', pca), ('logistic_Reg', logistic_Reg)])"
   ]
  },
  {
   "cell_type": "code",
   "execution_count": 40,
   "id": "d45348ef-5c72-4052-ad09-aaf97bc36cb1",
   "metadata": {},
   "outputs": [],
   "source": [
    "# 'n_components' signifies the number of components to keep after reducing the dimension.\n",
    "n_components = list(range(1,X.shape[1]+1,1))"
   ]
  },
  {
   "cell_type": "code",
   "execution_count": 41,
   "id": "ad17cb8f-d554-4e89-bcbf-b28326ad2a7c",
   "metadata": {},
   "outputs": [],
   "source": [
    "# set C and penalty  as a list of values to be optimised by GridSearchCV form which GridSearchCV will select the best value of parameter.\n",
    "C = np.logspace(-4, 4, 50)\n",
    "penalty = ['l1', 'l2']"
   ]
  },
  {
   "cell_type": "code",
   "execution_count": 42,
   "id": "20af9abc-224c-4cda-bce0-22f4d0a5219d",
   "metadata": {},
   "outputs": [],
   "source": [
    "# create a dictionary to set all the parameters options for different modules.\n",
    "parameters = dict(pca__n_components=n_components, logistic_Reg__C=C, logistic_Reg__penalty=penalty)"
   ]
  },
  {
   "cell_type": "code",
   "execution_count": 43,
   "id": "3598ef70-2724-42b7-bc45-504b11139cc9",
   "metadata": {},
   "outputs": [
    {
     "name": "stderr",
     "output_type": "stream",
     "text": [
      "C:\\Users\\Sofiyah\\anaconda3\\lib\\site-packages\\sklearn\\model_selection\\_validation.py:372: FitFailedWarning: \n",
      "5500 fits failed out of a total of 5500.\n",
      "The score on these train-test partitions for these parameters will be set to nan.\n",
      "If these failures are not expected, you can try to debug them by setting error_score='raise'.\n",
      "\n",
      "Below are more details about the failures:\n",
      "--------------------------------------------------------------------------------\n",
      "5500 fits failed with the following error:\n",
      "Traceback (most recent call last):\n",
      "  File \"C:\\Users\\Sofiyah\\anaconda3\\lib\\site-packages\\sklearn\\model_selection\\_validation.py\", line 680, in _fit_and_score\n",
      "    estimator.fit(X_train, y_train, **fit_params)\n",
      "  File \"C:\\Users\\Sofiyah\\anaconda3\\lib\\site-packages\\sklearn\\pipeline.py\", line 390, in fit\n",
      "    Xt = self._fit(X, y, **fit_params_steps)\n",
      "  File \"C:\\Users\\Sofiyah\\anaconda3\\lib\\site-packages\\sklearn\\pipeline.py\", line 348, in _fit\n",
      "    X, fitted_transformer = fit_transform_one_cached(\n",
      "  File \"C:\\Users\\Sofiyah\\anaconda3\\lib\\site-packages\\joblib\\memory.py\", line 349, in __call__\n",
      "    return self.func(*args, **kwargs)\n",
      "  File \"C:\\Users\\Sofiyah\\anaconda3\\lib\\site-packages\\sklearn\\pipeline.py\", line 893, in _fit_transform_one\n",
      "    res = transformer.fit_transform(X, y, **fit_params)\n",
      "  File \"C:\\Users\\Sofiyah\\anaconda3\\lib\\site-packages\\sklearn\\base.py\", line 855, in fit_transform\n",
      "    return self.fit(X, y, **fit_params).transform(X)\n",
      "  File \"C:\\Users\\Sofiyah\\anaconda3\\lib\\site-packages\\sklearn\\preprocessing\\_data.py\", line 806, in fit\n",
      "    return self.partial_fit(X, y, sample_weight)\n",
      "  File \"C:\\Users\\Sofiyah\\anaconda3\\lib\\site-packages\\sklearn\\preprocessing\\_data.py\", line 841, in partial_fit\n",
      "    X = self._validate_data(\n",
      "  File \"C:\\Users\\Sofiyah\\anaconda3\\lib\\site-packages\\sklearn\\base.py\", line 566, in _validate_data\n",
      "    X = check_array(X, **check_params)\n",
      "  File \"C:\\Users\\Sofiyah\\anaconda3\\lib\\site-packages\\sklearn\\utils\\validation.py\", line 746, in check_array\n",
      "    array = np.asarray(array, order=order, dtype=dtype)\n",
      "  File \"C:\\Users\\Sofiyah\\anaconda3\\lib\\site-packages\\pandas\\core\\generic.py\", line 2064, in __array__\n",
      "    return np.asarray(self._values, dtype=dtype)\n",
      "ValueError: could not convert string to float: 'Google'\n",
      "\n",
      "  warnings.warn(some_fits_failed_message, FitFailedWarning)\n",
      "C:\\Users\\Sofiyah\\anaconda3\\lib\\site-packages\\sklearn\\model_selection\\_search.py:969: UserWarning: One or more of the test scores are non-finite: [nan nan nan ... nan nan nan]\n",
      "  warnings.warn(\n"
     ]
    },
    {
     "ename": "ValueError",
     "evalue": "could not convert string to float: 'Google'",
     "output_type": "error",
     "traceback": [
      "\u001b[1;31m---------------------------------------------------------------------------\u001b[0m",
      "\u001b[1;31mValueError\u001b[0m                                Traceback (most recent call last)",
      "Input \u001b[1;32mIn [43]\u001b[0m, in \u001b[0;36m<cell line: 3>\u001b[1;34m()\u001b[0m\n\u001b[0;32m      1\u001b[0m \u001b[38;5;66;03m# creaate an object clf_GS for GridSearchCV and fitting the dataset i.e X and y\u001b[39;00m\n\u001b[0;32m      2\u001b[0m clf_GS \u001b[38;5;241m=\u001b[39m GridSearchCV(pipe, parameters)\n\u001b[1;32m----> 3\u001b[0m \u001b[43mclf_GS\u001b[49m\u001b[38;5;241;43m.\u001b[39;49m\u001b[43mfit\u001b[49m\u001b[43m(\u001b[49m\u001b[43mX\u001b[49m\u001b[43m,\u001b[49m\u001b[43m \u001b[49m\u001b[43my\u001b[49m\u001b[43m)\u001b[49m\n",
      "File \u001b[1;32m~\\anaconda3\\lib\\site-packages\\sklearn\\model_selection\\_search.py:926\u001b[0m, in \u001b[0;36mBaseSearchCV.fit\u001b[1;34m(self, X, y, groups, **fit_params)\u001b[0m\n\u001b[0;32m    924\u001b[0m refit_start_time \u001b[38;5;241m=\u001b[39m time\u001b[38;5;241m.\u001b[39mtime()\n\u001b[0;32m    925\u001b[0m \u001b[38;5;28;01mif\u001b[39;00m y \u001b[38;5;129;01mis\u001b[39;00m \u001b[38;5;129;01mnot\u001b[39;00m \u001b[38;5;28;01mNone\u001b[39;00m:\n\u001b[1;32m--> 926\u001b[0m     \u001b[38;5;28mself\u001b[39m\u001b[38;5;241m.\u001b[39mbest_estimator_\u001b[38;5;241m.\u001b[39mfit(X, y, \u001b[38;5;241m*\u001b[39m\u001b[38;5;241m*\u001b[39mfit_params)\n\u001b[0;32m    927\u001b[0m \u001b[38;5;28;01melse\u001b[39;00m:\n\u001b[0;32m    928\u001b[0m     \u001b[38;5;28mself\u001b[39m\u001b[38;5;241m.\u001b[39mbest_estimator_\u001b[38;5;241m.\u001b[39mfit(X, \u001b[38;5;241m*\u001b[39m\u001b[38;5;241m*\u001b[39mfit_params)\n",
      "File \u001b[1;32m~\\anaconda3\\lib\\site-packages\\sklearn\\pipeline.py:390\u001b[0m, in \u001b[0;36mPipeline.fit\u001b[1;34m(self, X, y, **fit_params)\u001b[0m\n\u001b[0;32m    364\u001b[0m \u001b[38;5;124;03m\"\"\"Fit the model.\u001b[39;00m\n\u001b[0;32m    365\u001b[0m \n\u001b[0;32m    366\u001b[0m \u001b[38;5;124;03mFit all the transformers one after the other and transform the\u001b[39;00m\n\u001b[1;32m   (...)\u001b[0m\n\u001b[0;32m    387\u001b[0m \u001b[38;5;124;03m    Pipeline with fitted steps.\u001b[39;00m\n\u001b[0;32m    388\u001b[0m \u001b[38;5;124;03m\"\"\"\u001b[39;00m\n\u001b[0;32m    389\u001b[0m fit_params_steps \u001b[38;5;241m=\u001b[39m \u001b[38;5;28mself\u001b[39m\u001b[38;5;241m.\u001b[39m_check_fit_params(\u001b[38;5;241m*\u001b[39m\u001b[38;5;241m*\u001b[39mfit_params)\n\u001b[1;32m--> 390\u001b[0m Xt \u001b[38;5;241m=\u001b[39m \u001b[38;5;28mself\u001b[39m\u001b[38;5;241m.\u001b[39m_fit(X, y, \u001b[38;5;241m*\u001b[39m\u001b[38;5;241m*\u001b[39mfit_params_steps)\n\u001b[0;32m    391\u001b[0m \u001b[38;5;28;01mwith\u001b[39;00m _print_elapsed_time(\u001b[38;5;124m\"\u001b[39m\u001b[38;5;124mPipeline\u001b[39m\u001b[38;5;124m\"\u001b[39m, \u001b[38;5;28mself\u001b[39m\u001b[38;5;241m.\u001b[39m_log_message(\u001b[38;5;28mlen\u001b[39m(\u001b[38;5;28mself\u001b[39m\u001b[38;5;241m.\u001b[39msteps) \u001b[38;5;241m-\u001b[39m \u001b[38;5;241m1\u001b[39m)):\n\u001b[0;32m    392\u001b[0m     \u001b[38;5;28;01mif\u001b[39;00m \u001b[38;5;28mself\u001b[39m\u001b[38;5;241m.\u001b[39m_final_estimator \u001b[38;5;241m!=\u001b[39m \u001b[38;5;124m\"\u001b[39m\u001b[38;5;124mpassthrough\u001b[39m\u001b[38;5;124m\"\u001b[39m:\n",
      "File \u001b[1;32m~\\anaconda3\\lib\\site-packages\\sklearn\\pipeline.py:348\u001b[0m, in \u001b[0;36mPipeline._fit\u001b[1;34m(self, X, y, **fit_params_steps)\u001b[0m\n\u001b[0;32m    346\u001b[0m     cloned_transformer \u001b[38;5;241m=\u001b[39m clone(transformer)\n\u001b[0;32m    347\u001b[0m \u001b[38;5;66;03m# Fit or load from cache the current transformer\u001b[39;00m\n\u001b[1;32m--> 348\u001b[0m X, fitted_transformer \u001b[38;5;241m=\u001b[39m fit_transform_one_cached(\n\u001b[0;32m    349\u001b[0m     cloned_transformer,\n\u001b[0;32m    350\u001b[0m     X,\n\u001b[0;32m    351\u001b[0m     y,\n\u001b[0;32m    352\u001b[0m     \u001b[38;5;28;01mNone\u001b[39;00m,\n\u001b[0;32m    353\u001b[0m     message_clsname\u001b[38;5;241m=\u001b[39m\u001b[38;5;124m\"\u001b[39m\u001b[38;5;124mPipeline\u001b[39m\u001b[38;5;124m\"\u001b[39m,\n\u001b[0;32m    354\u001b[0m     message\u001b[38;5;241m=\u001b[39m\u001b[38;5;28mself\u001b[39m\u001b[38;5;241m.\u001b[39m_log_message(step_idx),\n\u001b[0;32m    355\u001b[0m     \u001b[38;5;241m*\u001b[39m\u001b[38;5;241m*\u001b[39mfit_params_steps[name],\n\u001b[0;32m    356\u001b[0m )\n\u001b[0;32m    357\u001b[0m \u001b[38;5;66;03m# Replace the transformer of the step with the fitted\u001b[39;00m\n\u001b[0;32m    358\u001b[0m \u001b[38;5;66;03m# transformer. This is necessary when loading the transformer\u001b[39;00m\n\u001b[0;32m    359\u001b[0m \u001b[38;5;66;03m# from the cache.\u001b[39;00m\n\u001b[0;32m    360\u001b[0m \u001b[38;5;28mself\u001b[39m\u001b[38;5;241m.\u001b[39msteps[step_idx] \u001b[38;5;241m=\u001b[39m (name, fitted_transformer)\n",
      "File \u001b[1;32m~\\anaconda3\\lib\\site-packages\\joblib\\memory.py:349\u001b[0m, in \u001b[0;36mNotMemorizedFunc.__call__\u001b[1;34m(self, *args, **kwargs)\u001b[0m\n\u001b[0;32m    348\u001b[0m \u001b[38;5;28;01mdef\u001b[39;00m \u001b[38;5;21m__call__\u001b[39m(\u001b[38;5;28mself\u001b[39m, \u001b[38;5;241m*\u001b[39margs, \u001b[38;5;241m*\u001b[39m\u001b[38;5;241m*\u001b[39mkwargs):\n\u001b[1;32m--> 349\u001b[0m     \u001b[38;5;28;01mreturn\u001b[39;00m \u001b[38;5;28mself\u001b[39m\u001b[38;5;241m.\u001b[39mfunc(\u001b[38;5;241m*\u001b[39margs, \u001b[38;5;241m*\u001b[39m\u001b[38;5;241m*\u001b[39mkwargs)\n",
      "File \u001b[1;32m~\\anaconda3\\lib\\site-packages\\sklearn\\pipeline.py:893\u001b[0m, in \u001b[0;36m_fit_transform_one\u001b[1;34m(transformer, X, y, weight, message_clsname, message, **fit_params)\u001b[0m\n\u001b[0;32m    891\u001b[0m \u001b[38;5;28;01mwith\u001b[39;00m _print_elapsed_time(message_clsname, message):\n\u001b[0;32m    892\u001b[0m     \u001b[38;5;28;01mif\u001b[39;00m \u001b[38;5;28mhasattr\u001b[39m(transformer, \u001b[38;5;124m\"\u001b[39m\u001b[38;5;124mfit_transform\u001b[39m\u001b[38;5;124m\"\u001b[39m):\n\u001b[1;32m--> 893\u001b[0m         res \u001b[38;5;241m=\u001b[39m transformer\u001b[38;5;241m.\u001b[39mfit_transform(X, y, \u001b[38;5;241m*\u001b[39m\u001b[38;5;241m*\u001b[39mfit_params)\n\u001b[0;32m    894\u001b[0m     \u001b[38;5;28;01melse\u001b[39;00m:\n\u001b[0;32m    895\u001b[0m         res \u001b[38;5;241m=\u001b[39m transformer\u001b[38;5;241m.\u001b[39mfit(X, y, \u001b[38;5;241m*\u001b[39m\u001b[38;5;241m*\u001b[39mfit_params)\u001b[38;5;241m.\u001b[39mtransform(X)\n",
      "File \u001b[1;32m~\\anaconda3\\lib\\site-packages\\sklearn\\base.py:855\u001b[0m, in \u001b[0;36mTransformerMixin.fit_transform\u001b[1;34m(self, X, y, **fit_params)\u001b[0m\n\u001b[0;32m    852\u001b[0m     \u001b[38;5;28;01mreturn\u001b[39;00m \u001b[38;5;28mself\u001b[39m\u001b[38;5;241m.\u001b[39mfit(X, \u001b[38;5;241m*\u001b[39m\u001b[38;5;241m*\u001b[39mfit_params)\u001b[38;5;241m.\u001b[39mtransform(X)\n\u001b[0;32m    853\u001b[0m \u001b[38;5;28;01melse\u001b[39;00m:\n\u001b[0;32m    854\u001b[0m     \u001b[38;5;66;03m# fit method of arity 2 (supervised transformation)\u001b[39;00m\n\u001b[1;32m--> 855\u001b[0m     \u001b[38;5;28;01mreturn\u001b[39;00m \u001b[38;5;28mself\u001b[39m\u001b[38;5;241m.\u001b[39mfit(X, y, \u001b[38;5;241m*\u001b[39m\u001b[38;5;241m*\u001b[39mfit_params)\u001b[38;5;241m.\u001b[39mtransform(X)\n",
      "File \u001b[1;32m~\\anaconda3\\lib\\site-packages\\sklearn\\preprocessing\\_data.py:806\u001b[0m, in \u001b[0;36mStandardScaler.fit\u001b[1;34m(self, X, y, sample_weight)\u001b[0m\n\u001b[0;32m    804\u001b[0m \u001b[38;5;66;03m# Reset internal state before fitting\u001b[39;00m\n\u001b[0;32m    805\u001b[0m \u001b[38;5;28mself\u001b[39m\u001b[38;5;241m.\u001b[39m_reset()\n\u001b[1;32m--> 806\u001b[0m \u001b[38;5;28;01mreturn\u001b[39;00m \u001b[38;5;28;43mself\u001b[39;49m\u001b[38;5;241;43m.\u001b[39;49m\u001b[43mpartial_fit\u001b[49m\u001b[43m(\u001b[49m\u001b[43mX\u001b[49m\u001b[43m,\u001b[49m\u001b[43m \u001b[49m\u001b[43my\u001b[49m\u001b[43m,\u001b[49m\u001b[43m \u001b[49m\u001b[43msample_weight\u001b[49m\u001b[43m)\u001b[49m\n",
      "File \u001b[1;32m~\\anaconda3\\lib\\site-packages\\sklearn\\preprocessing\\_data.py:841\u001b[0m, in \u001b[0;36mStandardScaler.partial_fit\u001b[1;34m(self, X, y, sample_weight)\u001b[0m\n\u001b[0;32m    809\u001b[0m \u001b[38;5;124;03m\"\"\"Online computation of mean and std on X for later scaling.\u001b[39;00m\n\u001b[0;32m    810\u001b[0m \n\u001b[0;32m    811\u001b[0m \u001b[38;5;124;03mAll of X is processed as a single batch. This is intended for cases\u001b[39;00m\n\u001b[1;32m   (...)\u001b[0m\n\u001b[0;32m    838\u001b[0m \u001b[38;5;124;03m    Fitted scaler.\u001b[39;00m\n\u001b[0;32m    839\u001b[0m \u001b[38;5;124;03m\"\"\"\u001b[39;00m\n\u001b[0;32m    840\u001b[0m first_call \u001b[38;5;241m=\u001b[39m \u001b[38;5;129;01mnot\u001b[39;00m \u001b[38;5;28mhasattr\u001b[39m(\u001b[38;5;28mself\u001b[39m, \u001b[38;5;124m\"\u001b[39m\u001b[38;5;124mn_samples_seen_\u001b[39m\u001b[38;5;124m\"\u001b[39m)\n\u001b[1;32m--> 841\u001b[0m X \u001b[38;5;241m=\u001b[39m \u001b[38;5;28;43mself\u001b[39;49m\u001b[38;5;241;43m.\u001b[39;49m\u001b[43m_validate_data\u001b[49m\u001b[43m(\u001b[49m\n\u001b[0;32m    842\u001b[0m \u001b[43m    \u001b[49m\u001b[43mX\u001b[49m\u001b[43m,\u001b[49m\n\u001b[0;32m    843\u001b[0m \u001b[43m    \u001b[49m\u001b[43maccept_sparse\u001b[49m\u001b[38;5;241;43m=\u001b[39;49m\u001b[43m(\u001b[49m\u001b[38;5;124;43m\"\u001b[39;49m\u001b[38;5;124;43mcsr\u001b[39;49m\u001b[38;5;124;43m\"\u001b[39;49m\u001b[43m,\u001b[49m\u001b[43m \u001b[49m\u001b[38;5;124;43m\"\u001b[39;49m\u001b[38;5;124;43mcsc\u001b[39;49m\u001b[38;5;124;43m\"\u001b[39;49m\u001b[43m)\u001b[49m\u001b[43m,\u001b[49m\n\u001b[0;32m    844\u001b[0m \u001b[43m    \u001b[49m\u001b[43mestimator\u001b[49m\u001b[38;5;241;43m=\u001b[39;49m\u001b[38;5;28;43mself\u001b[39;49m\u001b[43m,\u001b[49m\n\u001b[0;32m    845\u001b[0m \u001b[43m    \u001b[49m\u001b[43mdtype\u001b[49m\u001b[38;5;241;43m=\u001b[39;49m\u001b[43mFLOAT_DTYPES\u001b[49m\u001b[43m,\u001b[49m\n\u001b[0;32m    846\u001b[0m \u001b[43m    \u001b[49m\u001b[43mforce_all_finite\u001b[49m\u001b[38;5;241;43m=\u001b[39;49m\u001b[38;5;124;43m\"\u001b[39;49m\u001b[38;5;124;43mallow-nan\u001b[39;49m\u001b[38;5;124;43m\"\u001b[39;49m\u001b[43m,\u001b[49m\n\u001b[0;32m    847\u001b[0m \u001b[43m    \u001b[49m\u001b[43mreset\u001b[49m\u001b[38;5;241;43m=\u001b[39;49m\u001b[43mfirst_call\u001b[49m\u001b[43m,\u001b[49m\n\u001b[0;32m    848\u001b[0m \u001b[43m\u001b[49m\u001b[43m)\u001b[49m\n\u001b[0;32m    849\u001b[0m n_features \u001b[38;5;241m=\u001b[39m X\u001b[38;5;241m.\u001b[39mshape[\u001b[38;5;241m1\u001b[39m]\n\u001b[0;32m    851\u001b[0m \u001b[38;5;28;01mif\u001b[39;00m sample_weight \u001b[38;5;129;01mis\u001b[39;00m \u001b[38;5;129;01mnot\u001b[39;00m \u001b[38;5;28;01mNone\u001b[39;00m:\n",
      "File \u001b[1;32m~\\anaconda3\\lib\\site-packages\\sklearn\\base.py:566\u001b[0m, in \u001b[0;36mBaseEstimator._validate_data\u001b[1;34m(self, X, y, reset, validate_separately, **check_params)\u001b[0m\n\u001b[0;32m    564\u001b[0m     \u001b[38;5;28;01mraise\u001b[39;00m \u001b[38;5;167;01mValueError\u001b[39;00m(\u001b[38;5;124m\"\u001b[39m\u001b[38;5;124mValidation should be done on X, y or both.\u001b[39m\u001b[38;5;124m\"\u001b[39m)\n\u001b[0;32m    565\u001b[0m \u001b[38;5;28;01melif\u001b[39;00m \u001b[38;5;129;01mnot\u001b[39;00m no_val_X \u001b[38;5;129;01mand\u001b[39;00m no_val_y:\n\u001b[1;32m--> 566\u001b[0m     X \u001b[38;5;241m=\u001b[39m check_array(X, \u001b[38;5;241m*\u001b[39m\u001b[38;5;241m*\u001b[39mcheck_params)\n\u001b[0;32m    567\u001b[0m     out \u001b[38;5;241m=\u001b[39m X\n\u001b[0;32m    568\u001b[0m \u001b[38;5;28;01melif\u001b[39;00m no_val_X \u001b[38;5;129;01mand\u001b[39;00m \u001b[38;5;129;01mnot\u001b[39;00m no_val_y:\n",
      "File \u001b[1;32m~\\anaconda3\\lib\\site-packages\\sklearn\\utils\\validation.py:746\u001b[0m, in \u001b[0;36mcheck_array\u001b[1;34m(array, accept_sparse, accept_large_sparse, dtype, order, copy, force_all_finite, ensure_2d, allow_nd, ensure_min_samples, ensure_min_features, estimator)\u001b[0m\n\u001b[0;32m    744\u001b[0m         array \u001b[38;5;241m=\u001b[39m array\u001b[38;5;241m.\u001b[39mastype(dtype, casting\u001b[38;5;241m=\u001b[39m\u001b[38;5;124m\"\u001b[39m\u001b[38;5;124munsafe\u001b[39m\u001b[38;5;124m\"\u001b[39m, copy\u001b[38;5;241m=\u001b[39m\u001b[38;5;28;01mFalse\u001b[39;00m)\n\u001b[0;32m    745\u001b[0m     \u001b[38;5;28;01melse\u001b[39;00m:\n\u001b[1;32m--> 746\u001b[0m         array \u001b[38;5;241m=\u001b[39m \u001b[43mnp\u001b[49m\u001b[38;5;241;43m.\u001b[39;49m\u001b[43masarray\u001b[49m\u001b[43m(\u001b[49m\u001b[43marray\u001b[49m\u001b[43m,\u001b[49m\u001b[43m \u001b[49m\u001b[43morder\u001b[49m\u001b[38;5;241;43m=\u001b[39;49m\u001b[43morder\u001b[49m\u001b[43m,\u001b[49m\u001b[43m \u001b[49m\u001b[43mdtype\u001b[49m\u001b[38;5;241;43m=\u001b[39;49m\u001b[43mdtype\u001b[49m\u001b[43m)\u001b[49m\n\u001b[0;32m    747\u001b[0m \u001b[38;5;28;01mexcept\u001b[39;00m ComplexWarning \u001b[38;5;28;01mas\u001b[39;00m complex_warning:\n\u001b[0;32m    748\u001b[0m     \u001b[38;5;28;01mraise\u001b[39;00m \u001b[38;5;167;01mValueError\u001b[39;00m(\n\u001b[0;32m    749\u001b[0m         \u001b[38;5;124m\"\u001b[39m\u001b[38;5;124mComplex data not supported\u001b[39m\u001b[38;5;130;01m\\n\u001b[39;00m\u001b[38;5;132;01m{}\u001b[39;00m\u001b[38;5;130;01m\\n\u001b[39;00m\u001b[38;5;124m\"\u001b[39m\u001b[38;5;241m.\u001b[39mformat(array)\n\u001b[0;32m    750\u001b[0m     ) \u001b[38;5;28;01mfrom\u001b[39;00m \u001b[38;5;21;01mcomplex_warning\u001b[39;00m\n",
      "File \u001b[1;32m~\\anaconda3\\lib\\site-packages\\pandas\\core\\generic.py:2064\u001b[0m, in \u001b[0;36mNDFrame.__array__\u001b[1;34m(self, dtype)\u001b[0m\n\u001b[0;32m   2063\u001b[0m \u001b[38;5;28;01mdef\u001b[39;00m \u001b[38;5;21m__array__\u001b[39m(\u001b[38;5;28mself\u001b[39m, dtype: npt\u001b[38;5;241m.\u001b[39mDTypeLike \u001b[38;5;241m|\u001b[39m \u001b[38;5;28;01mNone\u001b[39;00m \u001b[38;5;241m=\u001b[39m \u001b[38;5;28;01mNone\u001b[39;00m) \u001b[38;5;241m-\u001b[39m\u001b[38;5;241m>\u001b[39m np\u001b[38;5;241m.\u001b[39mndarray:\n\u001b[1;32m-> 2064\u001b[0m     \u001b[38;5;28;01mreturn\u001b[39;00m \u001b[43mnp\u001b[49m\u001b[38;5;241;43m.\u001b[39;49m\u001b[43masarray\u001b[49m\u001b[43m(\u001b[49m\u001b[38;5;28;43mself\u001b[39;49m\u001b[38;5;241;43m.\u001b[39;49m\u001b[43m_values\u001b[49m\u001b[43m,\u001b[49m\u001b[43m \u001b[49m\u001b[43mdtype\u001b[49m\u001b[38;5;241;43m=\u001b[39;49m\u001b[43mdtype\u001b[49m\u001b[43m)\u001b[49m\n",
      "\u001b[1;31mValueError\u001b[0m: could not convert string to float: 'Google'"
     ]
    }
   ],
   "source": [
    "# creaate an object clf_GS for GridSearchCV and fitting the dataset i.e X and y\n",
    "clf_GS = GridSearchCV(pipe, parameters)\n",
    "clf_GS.fit(X, y)"
   ]
  },
  {
   "cell_type": "code",
   "execution_count": null,
   "id": "b44f0e39-1078-4c16-8205-2b65a95eaf12",
   "metadata": {},
   "outputs": [],
   "source": [
    "# display the values of hyperparameters as a result.\n",
    "print('Best Penalty:', clf_GS.best_estimator_.get_params()['logistic_Reg__penalty'])\n",
    "print('Best C:', clf_GS.best_estimator_.get_params()['logistic_Reg__C'])\n",
    "print('Best Number Of Components:', clf_GS.best_estimator_.get_params()['pca__n_components'])\n",
    "print(); print(clf_GS.best_estimator_.get_params()['logistic_Reg'])"
   ]
  }
 ],
 "metadata": {
  "kernelspec": {
   "display_name": "Python 3 (ipykernel)",
   "language": "python",
   "name": "python3"
  },
  "language_info": {
   "codemirror_mode": {
    "name": "ipython",
    "version": 3
   },
   "file_extension": ".py",
   "mimetype": "text/x-python",
   "name": "python",
   "nbconvert_exporter": "python",
   "pygments_lexer": "ipython3",
   "version": "3.9.12"
  }
 },
 "nbformat": 4,
 "nbformat_minor": 5
}
