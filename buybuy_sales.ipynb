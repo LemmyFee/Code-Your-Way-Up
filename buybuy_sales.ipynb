{
 "cells": [
  {
   "cell_type": "code",
   "execution_count": 1,
   "id": "f079381a",
   "metadata": {},
   "outputs": [],
   "source": [
    "# import all necessary python libraries\n",
    "import numpy as np\n",
    "import pandas as pd\n",
    "import matplotlib.pyplot as plt\n",
    "import seaborn as sb\n",
    "\n",
    "%matplotlib inline"
   ]
  },
  {
   "cell_type": "code",
   "execution_count": 2,
   "id": "2d0821a4",
   "metadata": {},
   "outputs": [
    {
     "data": {
      "text/html": [
       "<div>\n",
       "<style scoped>\n",
       "    .dataframe tbody tr th:only-of-type {\n",
       "        vertical-align: middle;\n",
       "    }\n",
       "\n",
       "    .dataframe tbody tr th {\n",
       "        vertical-align: top;\n",
       "    }\n",
       "\n",
       "    .dataframe thead th {\n",
       "        text-align: right;\n",
       "    }\n",
       "</style>\n",
       "<table border=\"1\" class=\"dataframe\">\n",
       "  <thead>\n",
       "    <tr style=\"text-align: right;\">\n",
       "      <th></th>\n",
       "      <th>sales_date</th>\n",
       "      <th>sales_year</th>\n",
       "      <th>cus_id</th>\n",
       "      <th>cus_age</th>\n",
       "      <th>cus_gender</th>\n",
       "      <th>cus_country</th>\n",
       "      <th>cus_state</th>\n",
       "      <th>prod_category</th>\n",
       "      <th>prod_subcategory</th>\n",
       "      <th>product</th>\n",
       "      <th>ord_quantity</th>\n",
       "      <th>unit_cost</th>\n",
       "      <th>unit_price</th>\n",
       "      <th>cost</th>\n",
       "      <th>revenue</th>\n",
       "    </tr>\n",
       "  </thead>\n",
       "  <tbody>\n",
       "    <tr>\n",
       "      <th>0</th>\n",
       "      <td>2013-11-26</td>\n",
       "      <td>2013.0</td>\n",
       "      <td>11019.0</td>\n",
       "      <td>19.0</td>\n",
       "      <td>M</td>\n",
       "      <td>Canada</td>\n",
       "      <td>British Columbia</td>\n",
       "      <td>Accessories</td>\n",
       "      <td>Bike Racks</td>\n",
       "      <td>Hitch Rack - 4-Bike</td>\n",
       "      <td>8.0</td>\n",
       "      <td>45.0</td>\n",
       "      <td>120.0</td>\n",
       "      <td>360.0</td>\n",
       "      <td>950.0</td>\n",
       "    </tr>\n",
       "    <tr>\n",
       "      <th>1</th>\n",
       "      <td>2015-11-26</td>\n",
       "      <td>2015.0</td>\n",
       "      <td>11019.0</td>\n",
       "      <td>19.0</td>\n",
       "      <td>M</td>\n",
       "      <td>Canada</td>\n",
       "      <td>British Columbia</td>\n",
       "      <td>Accessories</td>\n",
       "      <td>Bike Racks</td>\n",
       "      <td>Hitch Rack - 4-Bike</td>\n",
       "      <td>8.0</td>\n",
       "      <td>45.0</td>\n",
       "      <td>120.0</td>\n",
       "      <td>360.0</td>\n",
       "      <td>950.0</td>\n",
       "    </tr>\n",
       "    <tr>\n",
       "      <th>2</th>\n",
       "      <td>2014-03-23</td>\n",
       "      <td>2014.0</td>\n",
       "      <td>11039.0</td>\n",
       "      <td>49.0</td>\n",
       "      <td>M</td>\n",
       "      <td>Australia</td>\n",
       "      <td>New South Wales</td>\n",
       "      <td>Accessories</td>\n",
       "      <td>Bike Racks</td>\n",
       "      <td>Hitch Rack - 4-Bike</td>\n",
       "      <td>23.0</td>\n",
       "      <td>45.0</td>\n",
       "      <td>120.0</td>\n",
       "      <td>1035.0</td>\n",
       "      <td>2401.0</td>\n",
       "    </tr>\n",
       "    <tr>\n",
       "      <th>3</th>\n",
       "      <td>2016-03-23</td>\n",
       "      <td>2016.0</td>\n",
       "      <td>11039.0</td>\n",
       "      <td>49.0</td>\n",
       "      <td>M</td>\n",
       "      <td>Australia</td>\n",
       "      <td>New South Wales</td>\n",
       "      <td>Accessories</td>\n",
       "      <td>Bike Racks</td>\n",
       "      <td>Hitch Rack - 4-Bike</td>\n",
       "      <td>20.0</td>\n",
       "      <td>45.0</td>\n",
       "      <td>120.0</td>\n",
       "      <td>900.0</td>\n",
       "      <td>2088.0</td>\n",
       "    </tr>\n",
       "    <tr>\n",
       "      <th>4</th>\n",
       "      <td>2014-05-15</td>\n",
       "      <td>2014.0</td>\n",
       "      <td>11046.0</td>\n",
       "      <td>47.0</td>\n",
       "      <td>F</td>\n",
       "      <td>Australia</td>\n",
       "      <td>New South Wales</td>\n",
       "      <td>Accessories</td>\n",
       "      <td>Bike Racks</td>\n",
       "      <td>Hitch Rack - 4-Bike</td>\n",
       "      <td>4.0</td>\n",
       "      <td>45.0</td>\n",
       "      <td>120.0</td>\n",
       "      <td>180.0</td>\n",
       "      <td>418.0</td>\n",
       "    </tr>\n",
       "  </tbody>\n",
       "</table>\n",
       "</div>"
      ],
      "text/plain": [
       "   sales_date  sales_year   cus_id  cus_age cus_gender cus_country  \\\n",
       "0  2013-11-26      2013.0  11019.0     19.0          M      Canada   \n",
       "1  2015-11-26      2015.0  11019.0     19.0          M      Canada   \n",
       "2  2014-03-23      2014.0  11039.0     49.0          M   Australia   \n",
       "3  2016-03-23      2016.0  11039.0     49.0          M   Australia   \n",
       "4  2014-05-15      2014.0  11046.0     47.0          F   Australia   \n",
       "\n",
       "          cus_state prod_category prod_subcategory              product  \\\n",
       "0  British Columbia   Accessories       Bike Racks  Hitch Rack - 4-Bike   \n",
       "1  British Columbia   Accessories       Bike Racks  Hitch Rack - 4-Bike   \n",
       "2   New South Wales   Accessories       Bike Racks  Hitch Rack - 4-Bike   \n",
       "3   New South Wales   Accessories       Bike Racks  Hitch Rack - 4-Bike   \n",
       "4   New South Wales   Accessories       Bike Racks  Hitch Rack - 4-Bike   \n",
       "\n",
       "   ord_quantity  unit_cost  unit_price    cost  revenue  \n",
       "0           8.0       45.0       120.0   360.0    950.0  \n",
       "1           8.0       45.0       120.0   360.0    950.0  \n",
       "2          23.0       45.0       120.0  1035.0   2401.0  \n",
       "3          20.0       45.0       120.0   900.0   2088.0  \n",
       "4           4.0       45.0       120.0   180.0    418.0  "
      ]
     },
     "execution_count": 2,
     "metadata": {},
     "output_type": "execute_result"
    }
   ],
   "source": [
    "# set columns names\n",
    "col_Names=[\"sales_date\", \"sales_year\", \"cus_id\", \"cus_age\",\n",
    "           \"cus_gender\", \"cus_country\", \"cus_state\", \"prod_category\",\n",
    "           \"prod_subcategory\", \"product\", \"ord_quantity\", \"unit_cost\", \n",
    "           \"unit_price\", \"cost\",\"revenue\"]\n",
    "\n",
    "# load dataset into a dataframe\n",
    "df = pd.read_csv('sales_data.csv',\n",
    "                 names= col_Names, \n",
    "                 on_bad_lines = 'skip',\n",
    "                 sep= '\\t')\n",
    "# display first 5 rows of the dataset\n",
    "df.head()"
   ]
  },
  {
   "cell_type": "code",
   "execution_count": 3,
   "id": "ee85305a",
   "metadata": {},
   "outputs": [
    {
     "name": "stdout",
     "output_type": "stream",
     "text": [
      "<class 'pandas.core.frame.DataFrame'>\n",
      "RangeIndex: 113037 entries, 0 to 113036\n",
      "Data columns (total 15 columns):\n",
      " #   Column            Non-Null Count   Dtype  \n",
      "---  ------            --------------   -----  \n",
      " 0   sales_date        113037 non-null  object \n",
      " 1   sales_year        113036 non-null  float64\n",
      " 2   cus_id            113036 non-null  float64\n",
      " 3   cus_age           113036 non-null  float64\n",
      " 4   cus_gender        113036 non-null  object \n",
      " 5   cus_country       113036 non-null  object \n",
      " 6   cus_state         113036 non-null  object \n",
      " 7   prod_category     113036 non-null  object \n",
      " 8   prod_subcategory  113036 non-null  object \n",
      " 9   product           113036 non-null  object \n",
      " 10  ord_quantity      113036 non-null  float64\n",
      " 11  unit_cost         113036 non-null  float64\n",
      " 12  unit_price        113036 non-null  float64\n",
      " 13  cost              113036 non-null  float64\n",
      " 14  revenue           113036 non-null  float64\n",
      "dtypes: float64(8), object(7)\n",
      "memory usage: 12.9+ MB\n"
     ]
    }
   ],
   "source": [
    "# check daatypes of the variables\n",
    "df.info()"
   ]
  },
  {
   "cell_type": "code",
   "execution_count": 4,
   "id": "bfa53362",
   "metadata": {},
   "outputs": [
    {
     "data": {
      "text/plain": [
       "1000"
      ]
     },
     "execution_count": 4,
     "metadata": {},
     "output_type": "execute_result"
    }
   ],
   "source": [
    "df.duplicated().sum()"
   ]
  },
  {
   "cell_type": "code",
   "execution_count": 5,
   "id": "7869f86b",
   "metadata": {},
   "outputs": [],
   "source": [
    "df.drop_duplicates(inplace = True)"
   ]
  },
  {
   "cell_type": "code",
   "execution_count": 6,
   "id": "19be28d0",
   "metadata": {},
   "outputs": [
    {
     "data": {
      "text/html": [
       "<div>\n",
       "<style scoped>\n",
       "    .dataframe tbody tr th:only-of-type {\n",
       "        vertical-align: middle;\n",
       "    }\n",
       "\n",
       "    .dataframe tbody tr th {\n",
       "        vertical-align: top;\n",
       "    }\n",
       "\n",
       "    .dataframe thead th {\n",
       "        text-align: right;\n",
       "    }\n",
       "</style>\n",
       "<table border=\"1\" class=\"dataframe\">\n",
       "  <thead>\n",
       "    <tr style=\"text-align: right;\">\n",
       "      <th></th>\n",
       "      <th>sales_date</th>\n",
       "      <th>sales_year</th>\n",
       "      <th>cus_id</th>\n",
       "      <th>cus_age</th>\n",
       "      <th>cus_gender</th>\n",
       "      <th>cus_country</th>\n",
       "      <th>cus_state</th>\n",
       "      <th>prod_category</th>\n",
       "      <th>prod_subcategory</th>\n",
       "      <th>product</th>\n",
       "      <th>ord_quantity</th>\n",
       "      <th>unit_cost</th>\n",
       "      <th>unit_price</th>\n",
       "      <th>cost</th>\n",
       "      <th>revenue</th>\n",
       "    </tr>\n",
       "  </thead>\n",
       "  <tbody>\n",
       "    <tr>\n",
       "      <th>113036</th>\n",
       "      <td>\\.</td>\n",
       "      <td>NaN</td>\n",
       "      <td>NaN</td>\n",
       "      <td>NaN</td>\n",
       "      <td>NaN</td>\n",
       "      <td>NaN</td>\n",
       "      <td>NaN</td>\n",
       "      <td>NaN</td>\n",
       "      <td>NaN</td>\n",
       "      <td>NaN</td>\n",
       "      <td>NaN</td>\n",
       "      <td>NaN</td>\n",
       "      <td>NaN</td>\n",
       "      <td>NaN</td>\n",
       "      <td>NaN</td>\n",
       "    </tr>\n",
       "  </tbody>\n",
       "</table>\n",
       "</div>"
      ],
      "text/plain": [
       "       sales_date  sales_year  cus_id  cus_age cus_gender cus_country  \\\n",
       "113036         \\.         NaN     NaN      NaN        NaN         NaN   \n",
       "\n",
       "       cus_state prod_category prod_subcategory product  ord_quantity  \\\n",
       "113036       NaN           NaN              NaN     NaN           NaN   \n",
       "\n",
       "        unit_cost  unit_price  cost  revenue  \n",
       "113036        NaN         NaN   NaN      NaN  "
      ]
     },
     "execution_count": 6,
     "metadata": {},
     "output_type": "execute_result"
    }
   ],
   "source": [
    "df[df['cus_age'].isna()]"
   ]
  },
  {
   "cell_type": "code",
   "execution_count": 7,
   "id": "b0266c89",
   "metadata": {},
   "outputs": [],
   "source": [
    "df.dropna(inplace = True)"
   ]
  },
  {
   "cell_type": "markdown",
   "id": "ce134a80-99c4-48cd-988e-feeab13fd4a5",
   "metadata": {},
   "source": [
    "### Data Cleaning\n",
    "\n",
    "#### Quality Issue\n",
    "1. Improper datatype of sales date column\n",
    "#### Tidiness Issue\n",
    "1. Sales date column contains multiple variables\n",
    "\n",
    "#### Define\n",
    "Convert sales date column to a datetime datatype\n",
    "\n",
    "#### Code"
   ]
  },
  {
   "cell_type": "code",
   "execution_count": 8,
   "id": "9278e5fe-82c0-4a68-88ed-87ab377c2c38",
   "metadata": {},
   "outputs": [],
   "source": [
    "df['sales_date'] = pd.to_datetime(df['sales_date'])"
   ]
  },
  {
   "cell_type": "markdown",
   "id": "8fb84178-b0ab-4369-a756-55803691f08b",
   "metadata": {},
   "source": [
    "#### Test"
   ]
  },
  {
   "cell_type": "code",
   "execution_count": 9,
   "id": "5ecd821f-2024-4375-a7d3-9e7e28eea273",
   "metadata": {},
   "outputs": [
    {
     "name": "stdout",
     "output_type": "stream",
     "text": [
      "<class 'pandas.core.series.Series'>\n",
      "Int64Index: 112036 entries, 0 to 113035\n",
      "Series name: sales_date\n",
      "Non-Null Count   Dtype         \n",
      "--------------   -----         \n",
      "112036 non-null  datetime64[ns]\n",
      "dtypes: datetime64[ns](1)\n",
      "memory usage: 1.7 MB\n"
     ]
    }
   ],
   "source": [
    "df['sales_date'].info()"
   ]
  },
  {
   "cell_type": "markdown",
   "id": "7fa15527-2798-4744-bf20-6ec641523171",
   "metadata": {},
   "source": [
    "#### Define\n",
    "Split Sales date column into month and day\n",
    "\n",
    "#### Code"
   ]
  },
  {
   "cell_type": "code",
   "execution_count": 10,
   "id": "cec6314c-5a6b-46b3-8a7f-5187b7f2b378",
   "metadata": {},
   "outputs": [],
   "source": [
    "# extract month variable\n",
    "df['sales_month'] = pd.to_datetime(df['sales_date']).dt.strftime('%B')\n",
    "# extract day name\n",
    "df['sales_day'] = pd.to_datetime(df['sales_date']).dt.day_name()\n",
    "# extract day\n",
    "df['date'] = pd.to_datetime(df['sales_date']).dt.day"
   ]
  },
  {
   "cell_type": "markdown",
   "id": "e1a64f10-34f2-4c02-8b5e-e04c3b095fae",
   "metadata": {},
   "source": [
    "#### Test"
   ]
  },
  {
   "cell_type": "code",
   "execution_count": 11,
   "id": "68413bd9-8b35-4e63-a06f-2cf3cd5d4bae",
   "metadata": {},
   "outputs": [
    {
     "data": {
      "text/html": [
       "<div>\n",
       "<style scoped>\n",
       "    .dataframe tbody tr th:only-of-type {\n",
       "        vertical-align: middle;\n",
       "    }\n",
       "\n",
       "    .dataframe tbody tr th {\n",
       "        vertical-align: top;\n",
       "    }\n",
       "\n",
       "    .dataframe thead th {\n",
       "        text-align: right;\n",
       "    }\n",
       "</style>\n",
       "<table border=\"1\" class=\"dataframe\">\n",
       "  <thead>\n",
       "    <tr style=\"text-align: right;\">\n",
       "      <th></th>\n",
       "      <th>sales_date</th>\n",
       "      <th>sales_year</th>\n",
       "      <th>cus_id</th>\n",
       "      <th>cus_age</th>\n",
       "      <th>cus_gender</th>\n",
       "      <th>cus_country</th>\n",
       "      <th>cus_state</th>\n",
       "      <th>prod_category</th>\n",
       "      <th>prod_subcategory</th>\n",
       "      <th>product</th>\n",
       "      <th>ord_quantity</th>\n",
       "      <th>unit_cost</th>\n",
       "      <th>unit_price</th>\n",
       "      <th>cost</th>\n",
       "      <th>revenue</th>\n",
       "      <th>sales_month</th>\n",
       "      <th>sales_day</th>\n",
       "      <th>date</th>\n",
       "    </tr>\n",
       "  </thead>\n",
       "  <tbody>\n",
       "    <tr>\n",
       "      <th>58776</th>\n",
       "      <td>2013-12-19</td>\n",
       "      <td>2013.0</td>\n",
       "      <td>12655.0</td>\n",
       "      <td>48.0</td>\n",
       "      <td>M</td>\n",
       "      <td>France</td>\n",
       "      <td>Hauts de Seine</td>\n",
       "      <td>Bikes</td>\n",
       "      <td>Road Bikes</td>\n",
       "      <td>Road-150 Red, 52</td>\n",
       "      <td>1.0</td>\n",
       "      <td>2171.0</td>\n",
       "      <td>3578.0</td>\n",
       "      <td>2171.0</td>\n",
       "      <td>3328.0</td>\n",
       "      <td>December</td>\n",
       "      <td>Thursday</td>\n",
       "      <td>19</td>\n",
       "    </tr>\n",
       "  </tbody>\n",
       "</table>\n",
       "</div>"
      ],
      "text/plain": [
       "      sales_date  sales_year   cus_id  cus_age cus_gender cus_country  \\\n",
       "58776 2013-12-19      2013.0  12655.0     48.0          M      France   \n",
       "\n",
       "            cus_state prod_category prod_subcategory           product  \\\n",
       "58776  Hauts de Seine         Bikes       Road Bikes  Road-150 Red, 52   \n",
       "\n",
       "       ord_quantity  unit_cost  unit_price    cost  revenue sales_month  \\\n",
       "58776           1.0     2171.0      3578.0  2171.0   3328.0    December   \n",
       "\n",
       "      sales_day  date  \n",
       "58776  Thursday    19  "
      ]
     },
     "execution_count": 11,
     "metadata": {},
     "output_type": "execute_result"
    }
   ],
   "source": [
    "df.sample()"
   ]
  },
  {
   "cell_type": "markdown",
   "id": "855d7831-1308-41e6-9c50-a5375387cfd7",
   "metadata": {},
   "source": [
    "#### Define\n",
    "Create a profit column\n",
    "\n",
    "#### Code"
   ]
  },
  {
   "cell_type": "code",
   "execution_count": 12,
   "id": "5d2540a1-8c7f-4582-aadf-cb8f3bbf0478",
   "metadata": {},
   "outputs": [],
   "source": [
    "# find the profit on each row\n",
    "df['profit'] = df['revenue'] - df['cost']"
   ]
  },
  {
   "cell_type": "markdown",
   "id": "389b67f5-7049-4a73-89f9-3a042c1e0ff4",
   "metadata": {},
   "source": [
    "#### Test"
   ]
  },
  {
   "cell_type": "code",
   "execution_count": 13,
   "id": "8e8c0ce5-40fa-40e0-9660-333461b1e673",
   "metadata": {},
   "outputs": [
    {
     "name": "stdout",
     "output_type": "stream",
     "text": [
      "<class 'pandas.core.series.Series'>\n",
      "Int64Index: 112036 entries, 0 to 113035\n",
      "Series name: profit\n",
      "Non-Null Count   Dtype  \n",
      "--------------   -----  \n",
      "112036 non-null  float64\n",
      "dtypes: float64(1)\n",
      "memory usage: 1.7 MB\n"
     ]
    }
   ],
   "source": [
    "df['profit'].info()"
   ]
  },
  {
   "cell_type": "code",
   "execution_count": 14,
   "id": "dca48734",
   "metadata": {},
   "outputs": [
    {
     "data": {
      "text/html": [
       "<div>\n",
       "<style scoped>\n",
       "    .dataframe tbody tr th:only-of-type {\n",
       "        vertical-align: middle;\n",
       "    }\n",
       "\n",
       "    .dataframe tbody tr th {\n",
       "        vertical-align: top;\n",
       "    }\n",
       "\n",
       "    .dataframe thead th {\n",
       "        text-align: right;\n",
       "    }\n",
       "</style>\n",
       "<table border=\"1\" class=\"dataframe\">\n",
       "  <thead>\n",
       "    <tr style=\"text-align: right;\">\n",
       "      <th></th>\n",
       "      <th>sales_year</th>\n",
       "      <th>cus_id</th>\n",
       "      <th>cus_age</th>\n",
       "      <th>ord_quantity</th>\n",
       "      <th>unit_cost</th>\n",
       "      <th>unit_price</th>\n",
       "      <th>cost</th>\n",
       "      <th>revenue</th>\n",
       "      <th>date</th>\n",
       "      <th>profit</th>\n",
       "    </tr>\n",
       "  </thead>\n",
       "  <tbody>\n",
       "    <tr>\n",
       "      <th>count</th>\n",
       "      <td>112036.000000</td>\n",
       "      <td>112036.000000</td>\n",
       "      <td>112036.000000</td>\n",
       "      <td>112036.000000</td>\n",
       "      <td>112036.000000</td>\n",
       "      <td>112036.000000</td>\n",
       "      <td>112036.000000</td>\n",
       "      <td>112036.000000</td>\n",
       "      <td>112036.000000</td>\n",
       "      <td>112036.000000</td>\n",
       "    </tr>\n",
       "    <tr>\n",
       "      <th>mean</th>\n",
       "      <td>2014.400925</td>\n",
       "      <td>19223.313917</td>\n",
       "      <td>35.919508</td>\n",
       "      <td>11.904254</td>\n",
       "      <td>267.819603</td>\n",
       "      <td>453.850628</td>\n",
       "      <td>471.103333</td>\n",
       "      <td>757.138527</td>\n",
       "      <td>15.665607</td>\n",
       "      <td>286.035194</td>\n",
       "    </tr>\n",
       "    <tr>\n",
       "      <th>std</th>\n",
       "      <td>1.273327</td>\n",
       "      <td>5306.209041</td>\n",
       "      <td>11.016543</td>\n",
       "      <td>9.564877</td>\n",
       "      <td>550.218722</td>\n",
       "      <td>922.751848</td>\n",
       "      <td>886.971635</td>\n",
       "      <td>1312.061623</td>\n",
       "      <td>8.781485</td>\n",
       "      <td>454.852634</td>\n",
       "    </tr>\n",
       "    <tr>\n",
       "      <th>min</th>\n",
       "      <td>2011.000000</td>\n",
       "      <td>11000.000000</td>\n",
       "      <td>17.000000</td>\n",
       "      <td>1.000000</td>\n",
       "      <td>1.000000</td>\n",
       "      <td>2.000000</td>\n",
       "      <td>1.000000</td>\n",
       "      <td>2.000000</td>\n",
       "      <td>1.000000</td>\n",
       "      <td>-30.000000</td>\n",
       "    </tr>\n",
       "    <tr>\n",
       "      <th>25%</th>\n",
       "      <td>2013.000000</td>\n",
       "      <td>14608.000000</td>\n",
       "      <td>28.000000</td>\n",
       "      <td>2.000000</td>\n",
       "      <td>2.000000</td>\n",
       "      <td>5.000000</td>\n",
       "      <td>28.000000</td>\n",
       "      <td>64.000000</td>\n",
       "      <td>8.000000</td>\n",
       "      <td>29.000000</td>\n",
       "    </tr>\n",
       "    <tr>\n",
       "      <th>50%</th>\n",
       "      <td>2014.000000</td>\n",
       "      <td>18637.000000</td>\n",
       "      <td>35.000000</td>\n",
       "      <td>10.000000</td>\n",
       "      <td>9.000000</td>\n",
       "      <td>25.000000</td>\n",
       "      <td>112.000000</td>\n",
       "      <td>226.000000</td>\n",
       "      <td>16.000000</td>\n",
       "      <td>103.000000</td>\n",
       "    </tr>\n",
       "    <tr>\n",
       "      <th>75%</th>\n",
       "      <td>2016.000000</td>\n",
       "      <td>23470.000000</td>\n",
       "      <td>43.000000</td>\n",
       "      <td>20.000000</td>\n",
       "      <td>42.000000</td>\n",
       "      <td>70.000000</td>\n",
       "      <td>442.000000</td>\n",
       "      <td>806.000000</td>\n",
       "      <td>23.000000</td>\n",
       "      <td>360.000000</td>\n",
       "    </tr>\n",
       "    <tr>\n",
       "      <th>max</th>\n",
       "      <td>2016.000000</td>\n",
       "      <td>29483.000000</td>\n",
       "      <td>87.000000</td>\n",
       "      <td>32.000000</td>\n",
       "      <td>2171.000000</td>\n",
       "      <td>3578.000000</td>\n",
       "      <td>42978.000000</td>\n",
       "      <td>58074.000000</td>\n",
       "      <td>31.000000</td>\n",
       "      <td>15096.000000</td>\n",
       "    </tr>\n",
       "  </tbody>\n",
       "</table>\n",
       "</div>"
      ],
      "text/plain": [
       "          sales_year         cus_id        cus_age   ord_quantity  \\\n",
       "count  112036.000000  112036.000000  112036.000000  112036.000000   \n",
       "mean     2014.400925   19223.313917      35.919508      11.904254   \n",
       "std         1.273327    5306.209041      11.016543       9.564877   \n",
       "min      2011.000000   11000.000000      17.000000       1.000000   \n",
       "25%      2013.000000   14608.000000      28.000000       2.000000   \n",
       "50%      2014.000000   18637.000000      35.000000      10.000000   \n",
       "75%      2016.000000   23470.000000      43.000000      20.000000   \n",
       "max      2016.000000   29483.000000      87.000000      32.000000   \n",
       "\n",
       "           unit_cost     unit_price           cost        revenue  \\\n",
       "count  112036.000000  112036.000000  112036.000000  112036.000000   \n",
       "mean      267.819603     453.850628     471.103333     757.138527   \n",
       "std       550.218722     922.751848     886.971635    1312.061623   \n",
       "min         1.000000       2.000000       1.000000       2.000000   \n",
       "25%         2.000000       5.000000      28.000000      64.000000   \n",
       "50%         9.000000      25.000000     112.000000     226.000000   \n",
       "75%        42.000000      70.000000     442.000000     806.000000   \n",
       "max      2171.000000    3578.000000   42978.000000   58074.000000   \n",
       "\n",
       "                date         profit  \n",
       "count  112036.000000  112036.000000  \n",
       "mean       15.665607     286.035194  \n",
       "std         8.781485     454.852634  \n",
       "min         1.000000     -30.000000  \n",
       "25%         8.000000      29.000000  \n",
       "50%        16.000000     103.000000  \n",
       "75%        23.000000     360.000000  \n",
       "max        31.000000   15096.000000  "
      ]
     },
     "execution_count": 14,
     "metadata": {},
     "output_type": "execute_result"
    }
   ],
   "source": [
    "df.describe()"
   ]
  },
  {
   "cell_type": "code",
   "execution_count": 15,
   "id": "7b5a600a",
   "metadata": {},
   "outputs": [
    {
     "data": {
      "image/png": "[encoded data removed]",
      "text/plain": [
       "<Figure size 864x720 with 12 Axes>"
      ]
     },
     "metadata": {
      "needs_background": "light"
     },
     "output_type": "display_data"
    }
   ],
   "source": [
    "# visualize statistical summary\n",
    "df.hist(grid = False, color = 'steelblue', edgecolor = 'black', figsize = (12,10));"
   ]
  },
  {
   "cell_type": "markdown",
   "id": "fde56dec-a1ca-4a62-877d-aed8a99862fa",
   "metadata": {},
   "source": [
    "### Write a query that returns the total profit made by BuyBuy from 1Q11 to 4Q16 (all quarters of every year).\n",
    "First, lets compute total profit per year"
   ]
  },
  {
   "cell_type": "code",
   "execution_count": 16,
   "id": "96571d0b-76c2-4b9c-ab38-569e4ba9776d",
   "metadata": {},
   "outputs": [
    {
     "data": {
      "text/html": [
       "<div>\n",
       "<style scoped>\n",
       "    .dataframe tbody tr th:only-of-type {\n",
       "        vertical-align: middle;\n",
       "    }\n",
       "\n",
       "    .dataframe tbody tr th {\n",
       "        vertical-align: top;\n",
       "    }\n",
       "\n",
       "    .dataframe thead th {\n",
       "        text-align: right;\n",
       "    }\n",
       "</style>\n",
       "<table border=\"1\" class=\"dataframe\">\n",
       "  <thead>\n",
       "    <tr style=\"text-align: right;\">\n",
       "      <th></th>\n",
       "      <th>sales_year</th>\n",
       "      <th>profit</th>\n",
       "    </tr>\n",
       "  </thead>\n",
       "  <tbody>\n",
       "    <tr>\n",
       "      <th>0</th>\n",
       "      <td>2011.0</td>\n",
       "      <td>2877185.0</td>\n",
       "    </tr>\n",
       "    <tr>\n",
       "      <th>1</th>\n",
       "      <td>2012.0</td>\n",
       "      <td>2938519.0</td>\n",
       "    </tr>\n",
       "    <tr>\n",
       "      <th>2</th>\n",
       "      <td>2013.0</td>\n",
       "      <td>5912432.0</td>\n",
       "    </tr>\n",
       "    <tr>\n",
       "      <th>3</th>\n",
       "      <td>2014.0</td>\n",
       "      <td>5818522.0</td>\n",
       "    </tr>\n",
       "    <tr>\n",
       "      <th>4</th>\n",
       "      <td>2015.0</td>\n",
       "      <td>7497361.0</td>\n",
       "    </tr>\n",
       "    <tr>\n",
       "      <th>5</th>\n",
       "      <td>2016.0</td>\n",
       "      <td>7002220.0</td>\n",
       "    </tr>\n",
       "  </tbody>\n",
       "</table>\n",
       "</div>"
      ],
      "text/plain": [
       "   sales_year     profit\n",
       "0      2011.0  2877185.0\n",
       "1      2012.0  2938519.0\n",
       "2      2013.0  5912432.0\n",
       "3      2014.0  5818522.0\n",
       "4      2015.0  7497361.0\n",
       "5      2016.0  7002220.0"
      ]
     },
     "execution_count": 16,
     "metadata": {},
     "output_type": "execute_result"
    }
   ],
   "source": [
    "profit_yr = df.groupby('sales_year')['profit'].sum()\n",
    "profit_yr.reset_index()"
   ]
  },
  {
   "cell_type": "markdown",
   "id": "e384019d-c48d-4cf0-bb38-d043d6f01f40",
   "metadata": {},
   "source": [
    "##### Create a table for the four Quarters in a year containing the total profit per quarter"
   ]
  },
  {
   "cell_type": "code",
   "execution_count": 17,
   "id": "895eca23-b3fa-4ce7-b3d0-22261ee68a7a",
   "metadata": {},
   "outputs": [
    {
     "data": {
      "text/html": [
       "<div>\n",
       "<style scoped>\n",
       "    .dataframe tbody tr th:only-of-type {\n",
       "        vertical-align: middle;\n",
       "    }\n",
       "\n",
       "    .dataframe tbody tr th {\n",
       "        vertical-align: top;\n",
       "    }\n",
       "\n",
       "    .dataframe thead th {\n",
       "        text-align: right;\n",
       "    }\n",
       "</style>\n",
       "<table border=\"1\" class=\"dataframe\">\n",
       "  <thead>\n",
       "    <tr style=\"text-align: right;\">\n",
       "      <th></th>\n",
       "      <th>sales_year</th>\n",
       "      <th>profit</th>\n",
       "    </tr>\n",
       "  </thead>\n",
       "  <tbody>\n",
       "    <tr>\n",
       "      <th>0</th>\n",
       "      <td>2011.0</td>\n",
       "      <td>643787.0</td>\n",
       "    </tr>\n",
       "    <tr>\n",
       "      <th>1</th>\n",
       "      <td>2012.0</td>\n",
       "      <td>650258.0</td>\n",
       "    </tr>\n",
       "    <tr>\n",
       "      <th>2</th>\n",
       "      <td>2013.0</td>\n",
       "      <td>454891.0</td>\n",
       "    </tr>\n",
       "    <tr>\n",
       "      <th>3</th>\n",
       "      <td>2014.0</td>\n",
       "      <td>2483287.0</td>\n",
       "    </tr>\n",
       "    <tr>\n",
       "      <th>4</th>\n",
       "      <td>2015.0</td>\n",
       "      <td>673496.0</td>\n",
       "    </tr>\n",
       "    <tr>\n",
       "      <th>5</th>\n",
       "      <td>2016.0</td>\n",
       "      <td>2992959.0</td>\n",
       "    </tr>\n",
       "  </tbody>\n",
       "</table>\n",
       "</div>"
      ],
      "text/plain": [
       "   sales_year     profit\n",
       "0      2011.0   643787.0\n",
       "1      2012.0   650258.0\n",
       "2      2013.0   454891.0\n",
       "3      2014.0  2483287.0\n",
       "4      2015.0   673496.0\n",
       "5      2016.0  2992959.0"
      ]
     },
     "execution_count": 17,
     "metadata": {},
     "output_type": "execute_result"
    }
   ],
   "source": [
    "# First quarter total profit\n",
    "q1_pro = df.loc[df['sales_month'].isin(['January', 'February', 'March']), ['sales_year', 'sales_month', 'profit']]\n",
    "q1 = q1_pro.groupby('sales_year')['profit'].sum().reset_index()\n",
    "q1"
   ]
  },
  {
   "cell_type": "code",
   "execution_count": 18,
   "id": "ab63dffc-aee6-4811-92c9-2ac6356bb487",
   "metadata": {},
   "outputs": [
    {
     "data": {
      "text/html": [
       "<div>\n",
       "<style scoped>\n",
       "    .dataframe tbody tr th:only-of-type {\n",
       "        vertical-align: middle;\n",
       "    }\n",
       "\n",
       "    .dataframe tbody tr th {\n",
       "        vertical-align: top;\n",
       "    }\n",
       "\n",
       "    .dataframe thead th {\n",
       "        text-align: right;\n",
       "    }\n",
       "</style>\n",
       "<table border=\"1\" class=\"dataframe\">\n",
       "  <thead>\n",
       "    <tr style=\"text-align: right;\">\n",
       "      <th></th>\n",
       "      <th>sales_year</th>\n",
       "      <th>profit</th>\n",
       "    </tr>\n",
       "  </thead>\n",
       "  <tbody>\n",
       "    <tr>\n",
       "      <th>0</th>\n",
       "      <td>2011.0</td>\n",
       "      <td>672200.0</td>\n",
       "    </tr>\n",
       "    <tr>\n",
       "      <th>1</th>\n",
       "      <td>2012.0</td>\n",
       "      <td>704676.0</td>\n",
       "    </tr>\n",
       "    <tr>\n",
       "      <th>2</th>\n",
       "      <td>2013.0</td>\n",
       "      <td>521305.0</td>\n",
       "    </tr>\n",
       "    <tr>\n",
       "      <th>3</th>\n",
       "      <td>2014.0</td>\n",
       "      <td>3072401.0</td>\n",
       "    </tr>\n",
       "    <tr>\n",
       "      <th>4</th>\n",
       "      <td>2015.0</td>\n",
       "      <td>791648.0</td>\n",
       "    </tr>\n",
       "    <tr>\n",
       "      <th>5</th>\n",
       "      <td>2016.0</td>\n",
       "      <td>3755525.0</td>\n",
       "    </tr>\n",
       "  </tbody>\n",
       "</table>\n",
       "</div>"
      ],
      "text/plain": [
       "   sales_year     profit\n",
       "0      2011.0   672200.0\n",
       "1      2012.0   704676.0\n",
       "2      2013.0   521305.0\n",
       "3      2014.0  3072401.0\n",
       "4      2015.0   791648.0\n",
       "5      2016.0  3755525.0"
      ]
     },
     "execution_count": 18,
     "metadata": {},
     "output_type": "execute_result"
    }
   ],
   "source": [
    "# Second quarter total profit\n",
    "q2_pro = df.loc[df['sales_month'].isin(['April', 'May', 'June']), ['sales_year', 'sales_month', 'profit']]\n",
    "q2 = q2_pro.groupby('sales_year')['profit'].sum().reset_index()\n",
    "q2"
   ]
  },
  {
   "cell_type": "code",
   "execution_count": 19,
   "id": "f1b48732-abb4-436e-a262-abe5793fc8bc",
   "metadata": {},
   "outputs": [
    {
     "data": {
      "text/html": [
       "<div>\n",
       "<style scoped>\n",
       "    .dataframe tbody tr th:only-of-type {\n",
       "        vertical-align: middle;\n",
       "    }\n",
       "\n",
       "    .dataframe tbody tr th {\n",
       "        vertical-align: top;\n",
       "    }\n",
       "\n",
       "    .dataframe thead th {\n",
       "        text-align: right;\n",
       "    }\n",
       "</style>\n",
       "<table border=\"1\" class=\"dataframe\">\n",
       "  <thead>\n",
       "    <tr style=\"text-align: right;\">\n",
       "      <th></th>\n",
       "      <th>sales_year</th>\n",
       "      <th>profit</th>\n",
       "    </tr>\n",
       "  </thead>\n",
       "  <tbody>\n",
       "    <tr>\n",
       "      <th>0</th>\n",
       "      <td>2011.0</td>\n",
       "      <td>787915.0</td>\n",
       "    </tr>\n",
       "    <tr>\n",
       "      <th>1</th>\n",
       "      <td>2012.0</td>\n",
       "      <td>798085.0</td>\n",
       "    </tr>\n",
       "    <tr>\n",
       "      <th>2</th>\n",
       "      <td>2013.0</td>\n",
       "      <td>2010783.0</td>\n",
       "    </tr>\n",
       "    <tr>\n",
       "      <th>3</th>\n",
       "      <td>2014.0</td>\n",
       "      <td>262834.0</td>\n",
       "    </tr>\n",
       "    <tr>\n",
       "      <th>4</th>\n",
       "      <td>2015.0</td>\n",
       "      <td>2462208.0</td>\n",
       "    </tr>\n",
       "    <tr>\n",
       "      <th>5</th>\n",
       "      <td>2016.0</td>\n",
       "      <td>253736.0</td>\n",
       "    </tr>\n",
       "  </tbody>\n",
       "</table>\n",
       "</div>"
      ],
      "text/plain": [
       "   sales_year     profit\n",
       "0      2011.0   787915.0\n",
       "1      2012.0   798085.0\n",
       "2      2013.0  2010783.0\n",
       "3      2014.0   262834.0\n",
       "4      2015.0  2462208.0\n",
       "5      2016.0   253736.0"
      ]
     },
     "execution_count": 19,
     "metadata": {},
     "output_type": "execute_result"
    }
   ],
   "source": [
    "# Third quarter total profit\n",
    "q3_pro = df.loc[df['sales_month'].isin(['July', 'August', 'September']), ['sales_year', 'sales_month', 'profit']]\n",
    "q3 = q3_pro.groupby('sales_year')['profit'].sum().reset_index()\n",
    "q3"
   ]
  },
  {
   "cell_type": "code",
   "execution_count": 20,
   "id": "4e4facd1-a7a1-4d94-99d6-fb232f6db316",
   "metadata": {},
   "outputs": [
    {
     "data": {
      "text/html": [
       "<div>\n",
       "<style scoped>\n",
       "    .dataframe tbody tr th:only-of-type {\n",
       "        vertical-align: middle;\n",
       "    }\n",
       "\n",
       "    .dataframe tbody tr th {\n",
       "        vertical-align: top;\n",
       "    }\n",
       "\n",
       "    .dataframe thead th {\n",
       "        text-align: right;\n",
       "    }\n",
       "</style>\n",
       "<table border=\"1\" class=\"dataframe\">\n",
       "  <thead>\n",
       "    <tr style=\"text-align: right;\">\n",
       "      <th></th>\n",
       "      <th>sales_year</th>\n",
       "      <th>profit</th>\n",
       "    </tr>\n",
       "  </thead>\n",
       "  <tbody>\n",
       "    <tr>\n",
       "      <th>0</th>\n",
       "      <td>2011.0</td>\n",
       "      <td>773283.0</td>\n",
       "    </tr>\n",
       "    <tr>\n",
       "      <th>1</th>\n",
       "      <td>2012.0</td>\n",
       "      <td>785500.0</td>\n",
       "    </tr>\n",
       "    <tr>\n",
       "      <th>2</th>\n",
       "      <td>2013.0</td>\n",
       "      <td>2925453.0</td>\n",
       "    </tr>\n",
       "    <tr>\n",
       "      <th>3</th>\n",
       "      <td>2015.0</td>\n",
       "      <td>3570009.0</td>\n",
       "    </tr>\n",
       "  </tbody>\n",
       "</table>\n",
       "</div>"
      ],
      "text/plain": [
       "   sales_year     profit\n",
       "0      2011.0   773283.0\n",
       "1      2012.0   785500.0\n",
       "2      2013.0  2925453.0\n",
       "3      2015.0  3570009.0"
      ]
     },
     "execution_count": 20,
     "metadata": {},
     "output_type": "execute_result"
    }
   ],
   "source": [
    "# Fourth quarter total profit\n",
    "q4_pro = df.loc[df['sales_month'].isin(['October', 'November', 'December']), ['sales_year', 'sales_month', 'profit']]\n",
    "q4 = q4_pro.groupby('sales_year')['profit'].sum().reset_index()\n",
    "q4"
   ]
  },
  {
   "cell_type": "markdown",
   "id": "cb16dfa3-3461-43ed-8719-b99921c47724",
   "metadata": {},
   "source": [
    "##### merge the quarterly tables into a single table\n"
   ]
  },
  {
   "cell_type": "code",
   "execution_count": 21,
   "id": "108e2117-3a20-4e40-a0b5-05495f718ab0",
   "metadata": {},
   "outputs": [],
   "source": [
    "# merge the quarterly tables\n",
    "df_q = pd.merge(pd.merge(q1,q2, on='sales_year'), q3,on='sales_year')\n",
    "# rename the columns\n",
    "df_q.rename(columns = {'profit_x':'Q1', 'profit_y':'Q2', 'profit':'Q3'}, inplace = True)"
   ]
  },
  {
   "cell_type": "code",
   "execution_count": 22,
   "id": "72c97b4a-85db-40c4-8706-13099976a00a",
   "metadata": {},
   "outputs": [
    {
     "data": {
      "text/html": [
       "<div>\n",
       "<style scoped>\n",
       "    .dataframe tbody tr th:only-of-type {\n",
       "        vertical-align: middle;\n",
       "    }\n",
       "\n",
       "    .dataframe tbody tr th {\n",
       "        vertical-align: top;\n",
       "    }\n",
       "\n",
       "    .dataframe thead th {\n",
       "        text-align: right;\n",
       "    }\n",
       "</style>\n",
       "<table border=\"1\" class=\"dataframe\">\n",
       "  <thead>\n",
       "    <tr style=\"text-align: right;\">\n",
       "      <th></th>\n",
       "      <th>sales_year</th>\n",
       "      <th>Q1</th>\n",
       "      <th>Q2</th>\n",
       "      <th>Q3</th>\n",
       "      <th>Q4</th>\n",
       "    </tr>\n",
       "  </thead>\n",
       "  <tbody>\n",
       "    <tr>\n",
       "      <th>0</th>\n",
       "      <td>2011.0</td>\n",
       "      <td>643787.0</td>\n",
       "      <td>672200.0</td>\n",
       "      <td>787915.0</td>\n",
       "      <td>773283.0</td>\n",
       "    </tr>\n",
       "    <tr>\n",
       "      <th>1</th>\n",
       "      <td>2012.0</td>\n",
       "      <td>650258.0</td>\n",
       "      <td>704676.0</td>\n",
       "      <td>798085.0</td>\n",
       "      <td>785500.0</td>\n",
       "    </tr>\n",
       "    <tr>\n",
       "      <th>2</th>\n",
       "      <td>2013.0</td>\n",
       "      <td>454891.0</td>\n",
       "      <td>521305.0</td>\n",
       "      <td>2010783.0</td>\n",
       "      <td>2925453.0</td>\n",
       "    </tr>\n",
       "    <tr>\n",
       "      <th>3</th>\n",
       "      <td>2014.0</td>\n",
       "      <td>2483287.0</td>\n",
       "      <td>3072401.0</td>\n",
       "      <td>262834.0</td>\n",
       "      <td>NaN</td>\n",
       "    </tr>\n",
       "    <tr>\n",
       "      <th>4</th>\n",
       "      <td>2015.0</td>\n",
       "      <td>673496.0</td>\n",
       "      <td>791648.0</td>\n",
       "      <td>2462208.0</td>\n",
       "      <td>3570009.0</td>\n",
       "    </tr>\n",
       "    <tr>\n",
       "      <th>5</th>\n",
       "      <td>2016.0</td>\n",
       "      <td>2992959.0</td>\n",
       "      <td>3755525.0</td>\n",
       "      <td>253736.0</td>\n",
       "      <td>NaN</td>\n",
       "    </tr>\n",
       "  </tbody>\n",
       "</table>\n",
       "</div>"
      ],
      "text/plain": [
       "   sales_year         Q1         Q2         Q3         Q4\n",
       "0      2011.0   643787.0   672200.0   787915.0   773283.0\n",
       "1      2012.0   650258.0   704676.0   798085.0   785500.0\n",
       "2      2013.0   454891.0   521305.0  2010783.0  2925453.0\n",
       "3      2014.0  2483287.0  3072401.0   262834.0        NaN\n",
       "4      2015.0   673496.0   791648.0  2462208.0  3570009.0\n",
       "5      2016.0  2992959.0  3755525.0   253736.0        NaN"
      ]
     },
     "execution_count": 22,
     "metadata": {},
     "output_type": "execute_result"
    }
   ],
   "source": [
    "quarterly = pd.merge(df_q, q4, on='sales_year', how='left')\n",
    "quarterly.rename(columns = {'profit':'Q4'}, inplace = True)\n",
    "quarterly"
   ]
  },
  {
   "cell_type": "markdown",
   "id": "28bfa9e7-89e6-45e6-9267-836f8d1f5c31",
   "metadata": {},
   "source": [
    "### Write queries that return the total profit made by BuyBuy in Q2 of every year from 2011 to 2016.\n",
    "Using the newly created table, quarterly:"
   ]
  },
  {
   "cell_type": "code",
   "execution_count": 23,
   "id": "9bc76e97-43fb-4081-81c2-70919c1f28b5",
   "metadata": {},
   "outputs": [
    {
     "data": {
      "text/html": [
       "<div>\n",
       "<style scoped>\n",
       "    .dataframe tbody tr th:only-of-type {\n",
       "        vertical-align: middle;\n",
       "    }\n",
       "\n",
       "    .dataframe tbody tr th {\n",
       "        vertical-align: top;\n",
       "    }\n",
       "\n",
       "    .dataframe thead th {\n",
       "        text-align: right;\n",
       "    }\n",
       "</style>\n",
       "<table border=\"1\" class=\"dataframe\">\n",
       "  <thead>\n",
       "    <tr style=\"text-align: right;\">\n",
       "      <th></th>\n",
       "      <th>Q2</th>\n",
       "    </tr>\n",
       "    <tr>\n",
       "      <th>sales_year</th>\n",
       "      <th></th>\n",
       "    </tr>\n",
       "  </thead>\n",
       "  <tbody>\n",
       "    <tr>\n",
       "      <th>2011.0</th>\n",
       "      <td>672200.0</td>\n",
       "    </tr>\n",
       "    <tr>\n",
       "      <th>2012.0</th>\n",
       "      <td>704676.0</td>\n",
       "    </tr>\n",
       "    <tr>\n",
       "      <th>2013.0</th>\n",
       "      <td>521305.0</td>\n",
       "    </tr>\n",
       "    <tr>\n",
       "      <th>2014.0</th>\n",
       "      <td>3072401.0</td>\n",
       "    </tr>\n",
       "    <tr>\n",
       "      <th>2015.0</th>\n",
       "      <td>791648.0</td>\n",
       "    </tr>\n",
       "    <tr>\n",
       "      <th>2016.0</th>\n",
       "      <td>3755525.0</td>\n",
       "    </tr>\n",
       "  </tbody>\n",
       "</table>\n",
       "</div>"
      ],
      "text/plain": [
       "                   Q2\n",
       "sales_year           \n",
       "2011.0       672200.0\n",
       "2012.0       704676.0\n",
       "2013.0       521305.0\n",
       "2014.0      3072401.0\n",
       "2015.0       791648.0\n",
       "2016.0      3755525.0"
      ]
     },
     "execution_count": 23,
     "metadata": {},
     "output_type": "execute_result"
    }
   ],
   "source": [
    "q2 = quarterly[['sales_year', 'Q2']].set_index('sales_year')\n",
    "q2 "
   ]
  },
  {
   "cell_type": "markdown",
   "id": "572ca6bd-de7b-4251-856d-8698cf5fcfff",
   "metadata": {},
   "source": [
    "###  Create a chart to visualize the data from the analysis above"
   ]
  },
  {
   "cell_type": "code",
   "execution_count": 24,
   "id": "09bfce68-0f83-406f-a355-c31b76d865f3",
   "metadata": {},
   "outputs": [
    {
     "data": {
      "image/png": "[encoded data removed]",
      "text/plain": [
       "<Figure size 576x432 with 1 Axes>"
      ]
     },
     "metadata": {
      "needs_background": "light"
     },
     "output_type": "display_data"
    }
   ],
   "source": [
    "q2.plot(color = 'green', kind = 'line', figsize = (8, 6))\n",
    "plt.xlabel('Sales Year', fontsize = 18)\n",
    "plt.ylabel('Total Profit', fontsize = 18)\n",
    "plt.title('Q2 Sales Growth Per Annum', fontsize = 18)\n",
    "plt.legend();"
   ]
  },
  {
   "cell_type": "markdown",
   "id": "ff57e012-fde2-4fa3-8417-2b681cf8aab0",
   "metadata": {},
   "source": [
    "### Write a query that returns the annual profit made by BuyBuy from the year 2011 to 2016."
   ]
  },
  {
   "cell_type": "code",
   "execution_count": 25,
   "id": "26bcafbd-0d0f-4ec2-ba1d-344f7979d44b",
   "metadata": {},
   "outputs": [
    {
     "data": {
      "text/html": [
       "<div>\n",
       "<style scoped>\n",
       "    .dataframe tbody tr th:only-of-type {\n",
       "        vertical-align: middle;\n",
       "    }\n",
       "\n",
       "    .dataframe tbody tr th {\n",
       "        vertical-align: top;\n",
       "    }\n",
       "\n",
       "    .dataframe thead th {\n",
       "        text-align: right;\n",
       "    }\n",
       "</style>\n",
       "<table border=\"1\" class=\"dataframe\">\n",
       "  <thead>\n",
       "    <tr style=\"text-align: right;\">\n",
       "      <th></th>\n",
       "      <th>sales_year</th>\n",
       "      <th>total_profit</th>\n",
       "    </tr>\n",
       "  </thead>\n",
       "  <tbody>\n",
       "    <tr>\n",
       "      <th>0</th>\n",
       "      <td>2011.0</td>\n",
       "      <td>2877185.0</td>\n",
       "    </tr>\n",
       "    <tr>\n",
       "      <th>1</th>\n",
       "      <td>2012.0</td>\n",
       "      <td>2938519.0</td>\n",
       "    </tr>\n",
       "    <tr>\n",
       "      <th>2</th>\n",
       "      <td>2013.0</td>\n",
       "      <td>5912432.0</td>\n",
       "    </tr>\n",
       "    <tr>\n",
       "      <th>3</th>\n",
       "      <td>2014.0</td>\n",
       "      <td>5818522.0</td>\n",
       "    </tr>\n",
       "    <tr>\n",
       "      <th>4</th>\n",
       "      <td>2015.0</td>\n",
       "      <td>7497361.0</td>\n",
       "    </tr>\n",
       "    <tr>\n",
       "      <th>5</th>\n",
       "      <td>2016.0</td>\n",
       "      <td>7002220.0</td>\n",
       "    </tr>\n",
       "  </tbody>\n",
       "</table>\n",
       "</div>"
      ],
      "text/plain": [
       "   sales_year  total_profit\n",
       "0      2011.0     2877185.0\n",
       "1      2012.0     2938519.0\n",
       "2      2013.0     5912432.0\n",
       "3      2014.0     5818522.0\n",
       "4      2015.0     7497361.0\n",
       "5      2016.0     7002220.0"
      ]
     },
     "execution_count": 25,
     "metadata": {},
     "output_type": "execute_result"
    }
   ],
   "source": [
    "df.groupby('sales_year')['profit'].sum().reset_index(name ='total_profit')"
   ]
  },
  {
   "cell_type": "markdown",
   "id": "802adddb-b26e-4cf0-a0b9-890b5e532f21",
   "metadata": {},
   "source": [
    "### Write 2 queries that return the countries where BuyBuy has made the most profit and also the least profit of all-time. Your query must display both results on the same output"
   ]
  },
  {
   "cell_type": "code",
   "execution_count": 26,
   "id": "8dfdb0d5-e77d-4966-842e-d81ae658a344",
   "metadata": {},
   "outputs": [
    {
     "data": {
      "text/html": [
       "<div>\n",
       "<style scoped>\n",
       "    .dataframe tbody tr th:only-of-type {\n",
       "        vertical-align: middle;\n",
       "    }\n",
       "\n",
       "    .dataframe tbody tr th {\n",
       "        vertical-align: top;\n",
       "    }\n",
       "\n",
       "    .dataframe thead th {\n",
       "        text-align: right;\n",
       "    }\n",
       "</style>\n",
       "<table border=\"1\" class=\"dataframe\">\n",
       "  <thead>\n",
       "    <tr style=\"text-align: right;\">\n",
       "      <th></th>\n",
       "      <th>profit</th>\n",
       "    </tr>\n",
       "    <tr>\n",
       "      <th>cus_country</th>\n",
       "      <th></th>\n",
       "    </tr>\n",
       "  </thead>\n",
       "  <tbody>\n",
       "    <tr>\n",
       "      <th>United States</th>\n",
       "      <td>10997638.0</td>\n",
       "    </tr>\n",
       "    <tr>\n",
       "      <th>Australia</th>\n",
       "      <td>6740522.0</td>\n",
       "    </tr>\n",
       "    <tr>\n",
       "      <th>United Kingdom</th>\n",
       "      <td>4383987.0</td>\n",
       "    </tr>\n",
       "    <tr>\n",
       "      <th>Canada</th>\n",
       "      <td>3702019.0</td>\n",
       "    </tr>\n",
       "    <tr>\n",
       "      <th>Germany</th>\n",
       "      <td>3349991.0</td>\n",
       "    </tr>\n",
       "    <tr>\n",
       "      <th>France</th>\n",
       "      <td>2872082.0</td>\n",
       "    </tr>\n",
       "  </tbody>\n",
       "</table>\n",
       "</div>"
      ],
      "text/plain": [
       "                    profit\n",
       "cus_country               \n",
       "United States   10997638.0\n",
       "Australia        6740522.0\n",
       "United Kingdom   4383987.0\n",
       "Canada           3702019.0\n",
       "Germany          3349991.0\n",
       "France           2872082.0"
      ]
     },
     "execution_count": 26,
     "metadata": {},
     "output_type": "execute_result"
    }
   ],
   "source": [
    "# customers countries and their total profit\n",
    "most = df.groupby('cus_country')['profit'].sum().sort_values(ascending = False).reset_index()\n",
    "most.set_index('cus_country', inplace = True)\n",
    "most"
   ]
  },
  {
   "cell_type": "code",
   "execution_count": 27,
   "id": "c56a3578-92f6-41fb-98a4-7501699f4171",
   "metadata": {},
   "outputs": [
    {
     "name": "stdout",
     "output_type": "stream",
     "text": [
      "-----------------COUNTRY LEAST PROFIT WAS MADE---------------\n",
      "      cus_country prod_category prod_subcategory  profit\n",
      "48571      France      Clothing          Jerseys   -30.0\n",
      "-----------------COUNTRY MOST PROFIT WAS MADE----------------\n"
     ]
    },
    {
     "data": {
      "text/html": [
       "<div>\n",
       "<style scoped>\n",
       "    .dataframe tbody tr th:only-of-type {\n",
       "        vertical-align: middle;\n",
       "    }\n",
       "\n",
       "    .dataframe tbody tr th {\n",
       "        vertical-align: top;\n",
       "    }\n",
       "\n",
       "    .dataframe thead th {\n",
       "        text-align: right;\n",
       "    }\n",
       "</style>\n",
       "<table border=\"1\" class=\"dataframe\">\n",
       "  <thead>\n",
       "    <tr style=\"text-align: right;\">\n",
       "      <th></th>\n",
       "      <th>cus_country</th>\n",
       "      <th>prod_category</th>\n",
       "      <th>prod_subcategory</th>\n",
       "      <th>profit</th>\n",
       "    </tr>\n",
       "  </thead>\n",
       "  <tbody>\n",
       "    <tr>\n",
       "      <th>112073</th>\n",
       "      <td>Australia</td>\n",
       "      <td>Clothing</td>\n",
       "      <td>Vests</td>\n",
       "      <td>15096.0</td>\n",
       "    </tr>\n",
       "  </tbody>\n",
       "</table>\n",
       "</div>"
      ],
      "text/plain": [
       "       cus_country prod_category prod_subcategory   profit\n",
       "112073   Australia      Clothing            Vests  15096.0"
      ]
     },
     "execution_count": 27,
     "metadata": {},
     "output_type": "execute_result"
    }
   ],
   "source": [
    "print('-----------------COUNTRY LEAST PROFIT WAS MADE---------------')\n",
    "print(df[['cus_country', 'prod_category', 'prod_subcategory', 'profit']].nsmallest(1, 'profit'))\n",
    "print('-----------------COUNTRY MOST PROFIT WAS MADE----------------')\n",
    "df[['cus_country', 'prod_category', 'prod_subcategory', 'profit']].nlargest(1, 'profit')"
   ]
  },
  {
   "cell_type": "code",
   "execution_count": 28,
   "id": "c1c0970e-4880-47b4-9867-019cf923b7a4",
   "metadata": {},
   "outputs": [
    {
     "data": {
      "text/plain": [
       "array(['Canada', 'Australia', 'United States', 'Germany', 'France',\n",
       "       'United Kingdom'], dtype=object)"
      ]
     },
     "execution_count": 28,
     "metadata": {},
     "output_type": "execute_result"
    }
   ],
   "source": [
    "# check the countries of ghe customers products were sold to\n",
    "df['cus_country'].unique()"
   ]
  },
  {
   "cell_type": "markdown",
   "id": "47afbc68-8990-4ffd-9714-977a985e81c9",
   "metadata": {},
   "source": [
    "### Write a query that shows the Top-10 most profitable countries for BuyBuy sales operations from 2011 to 2016"
   ]
  },
  {
   "cell_type": "code",
   "execution_count": 29,
   "id": "6d61ce65-6c6b-4175-a17a-ea72d024956f",
   "metadata": {},
   "outputs": [
    {
     "data": {
      "text/html": [
       "<div>\n",
       "<style scoped>\n",
       "    .dataframe tbody tr th:only-of-type {\n",
       "        vertical-align: middle;\n",
       "    }\n",
       "\n",
       "    .dataframe tbody tr th {\n",
       "        vertical-align: top;\n",
       "    }\n",
       "\n",
       "    .dataframe thead th {\n",
       "        text-align: right;\n",
       "    }\n",
       "</style>\n",
       "<table border=\"1\" class=\"dataframe\">\n",
       "  <thead>\n",
       "    <tr style=\"text-align: right;\">\n",
       "      <th></th>\n",
       "      <th>cus_country</th>\n",
       "      <th>prod_category</th>\n",
       "      <th>prod_subcategory</th>\n",
       "      <th>profit</th>\n",
       "    </tr>\n",
       "  </thead>\n",
       "  <tbody>\n",
       "    <tr>\n",
       "      <th>112073</th>\n",
       "      <td>Australia</td>\n",
       "      <td>Clothing</td>\n",
       "      <td>Vests</td>\n",
       "      <td>15096.0</td>\n",
       "    </tr>\n",
       "    <tr>\n",
       "      <th>112072</th>\n",
       "      <td>Australia</td>\n",
       "      <td>Clothing</td>\n",
       "      <td>Vests</td>\n",
       "      <td>14055.0</td>\n",
       "    </tr>\n",
       "    <tr>\n",
       "      <th>57273</th>\n",
       "      <td>United States</td>\n",
       "      <td>Bikes</td>\n",
       "      <td>Mountain Bikes</td>\n",
       "      <td>5638.0</td>\n",
       "    </tr>\n",
       "    <tr>\n",
       "      <th>71129</th>\n",
       "      <td>Canada</td>\n",
       "      <td>Bikes</td>\n",
       "      <td>Road Bikes</td>\n",
       "      <td>5628.0</td>\n",
       "    </tr>\n",
       "    <tr>\n",
       "      <th>59919</th>\n",
       "      <td>Germany</td>\n",
       "      <td>Bikes</td>\n",
       "      <td>Road Bikes</td>\n",
       "      <td>5485.0</td>\n",
       "    </tr>\n",
       "    <tr>\n",
       "      <th>68671</th>\n",
       "      <td>Canada</td>\n",
       "      <td>Bikes</td>\n",
       "      <td>Road Bikes</td>\n",
       "      <td>5485.0</td>\n",
       "    </tr>\n",
       "    <tr>\n",
       "      <th>70307</th>\n",
       "      <td>Canada</td>\n",
       "      <td>Bikes</td>\n",
       "      <td>Road Bikes</td>\n",
       "      <td>5485.0</td>\n",
       "    </tr>\n",
       "    <tr>\n",
       "      <th>70597</th>\n",
       "      <td>Canada</td>\n",
       "      <td>Bikes</td>\n",
       "      <td>Road Bikes</td>\n",
       "      <td>5485.0</td>\n",
       "    </tr>\n",
       "    <tr>\n",
       "      <th>70601</th>\n",
       "      <td>Canada</td>\n",
       "      <td>Bikes</td>\n",
       "      <td>Road Bikes</td>\n",
       "      <td>5485.0</td>\n",
       "    </tr>\n",
       "    <tr>\n",
       "      <th>70699</th>\n",
       "      <td>Canada</td>\n",
       "      <td>Bikes</td>\n",
       "      <td>Road Bikes</td>\n",
       "      <td>5485.0</td>\n",
       "    </tr>\n",
       "  </tbody>\n",
       "</table>\n",
       "</div>"
      ],
      "text/plain": [
       "          cus_country prod_category prod_subcategory   profit\n",
       "112073      Australia      Clothing            Vests  15096.0\n",
       "112072      Australia      Clothing            Vests  14055.0\n",
       "57273   United States         Bikes   Mountain Bikes   5638.0\n",
       "71129          Canada         Bikes       Road Bikes   5628.0\n",
       "59919         Germany         Bikes       Road Bikes   5485.0\n",
       "68671          Canada         Bikes       Road Bikes   5485.0\n",
       "70307          Canada         Bikes       Road Bikes   5485.0\n",
       "70597          Canada         Bikes       Road Bikes   5485.0\n",
       "70601          Canada         Bikes       Road Bikes   5485.0\n",
       "70699          Canada         Bikes       Road Bikes   5485.0"
      ]
     },
     "execution_count": 29,
     "metadata": {},
     "output_type": "execute_result"
    }
   ],
   "source": [
    "# select country, product category, subcategory and profit columns\n",
    "chart = df[['cus_country', 'prod_category', 'prod_subcategory', 'profit']].nlargest(10, 'profit')\n",
    "chart"
   ]
  },
  {
   "cell_type": "markdown",
   "id": "a1fb4837-1f81-4ccf-adae-442523dd00dc",
   "metadata": {},
   "source": [
    "###  Create a chart to visualize the data from the analysis above"
   ]
  },
  {
   "cell_type": "code",
   "execution_count": 30,
   "id": "9bfc5f20-c88f-4717-9266-87cf729a306c",
   "metadata": {},
   "outputs": [
    {
     "ename": "ValueError",
     "evalue": "Cannot pass values for both `x` and `y`",
     "output_type": "error",
     "traceback": [
      "\u001b[1;31m---------------------------------------------------------------------------\u001b[0m",
      "\u001b[1;31mValueError\u001b[0m                                Traceback (most recent call last)",
      "Input \u001b[1;32mIn [30]\u001b[0m, in \u001b[0;36m<cell line: 3>\u001b[1;34m()\u001b[0m\n\u001b[0;32m      1\u001b[0m plt\u001b[38;5;241m.\u001b[39mfigure(figsize\u001b[38;5;241m=\u001b[39m(\u001b[38;5;241m10\u001b[39m,\u001b[38;5;241m6\u001b[39m))\n\u001b[1;32m----> 3\u001b[0m \u001b[43msb\u001b[49m\u001b[38;5;241;43m.\u001b[39;49m\u001b[43mcountplot\u001b[49m\u001b[43m(\u001b[49m\u001b[43mdata\u001b[49m\u001b[43m \u001b[49m\u001b[38;5;241;43m=\u001b[39;49m\u001b[43m \u001b[49m\u001b[43mchart\u001b[49m\u001b[43m,\u001b[49m\u001b[43m \u001b[49m\u001b[43mx\u001b[49m\u001b[43m \u001b[49m\u001b[38;5;241;43m=\u001b[39;49m\u001b[43m \u001b[49m\u001b[38;5;124;43m'\u001b[39;49m\u001b[38;5;124;43mcus_country\u001b[39;49m\u001b[38;5;124;43m'\u001b[39;49m\u001b[43m,\u001b[49m\u001b[43m \u001b[49m\u001b[43my\u001b[49m\u001b[43m \u001b[49m\u001b[38;5;241;43m=\u001b[39;49m\u001b[43m \u001b[49m\u001b[38;5;124;43m'\u001b[39;49m\u001b[38;5;124;43mprofit\u001b[39;49m\u001b[38;5;124;43m'\u001b[39;49m\u001b[43m,\u001b[49m\u001b[43m \u001b[49m\u001b[43mpalette\u001b[49m\u001b[43m \u001b[49m\u001b[38;5;241;43m=\u001b[39;49m\u001b[43m \u001b[49m\u001b[43m[\u001b[49m\u001b[38;5;124;43m'\u001b[39;49m\u001b[38;5;124;43m#0000FF\u001b[39;49m\u001b[38;5;124;43m'\u001b[39;49m\u001b[43m,\u001b[49m\u001b[43m \u001b[49m\u001b[38;5;124;43m'\u001b[39;49m\u001b[38;5;124;43m#FF0000\u001b[39;49m\u001b[38;5;124;43m'\u001b[39;49m\u001b[43m,\u001b[49m\u001b[43m \u001b[49m\u001b[38;5;124;43m'\u001b[39;49m\u001b[38;5;124;43m#008000\u001b[39;49m\u001b[38;5;124;43m'\u001b[39;49m\u001b[43m,\u001b[49m\u001b[43m \u001b[49m\u001b[38;5;124;43m'\u001b[39;49m\u001b[38;5;124;43m#FF0000\u001b[39;49m\u001b[38;5;124;43m'\u001b[39;49m\u001b[43m]\u001b[49m\u001b[43m)\u001b[49m\n\u001b[0;32m      5\u001b[0m plt\u001b[38;5;241m.\u001b[39mtitle(\u001b[38;5;124m'\u001b[39m\u001b[38;5;124mMost Profitable and Least Profitable Countries\u001b[39m\u001b[38;5;124m'\u001b[39m, fontsize \u001b[38;5;241m=\u001b[39m \u001b[38;5;241m15\u001b[39m)\n\u001b[0;32m      6\u001b[0m plt\u001b[38;5;241m.\u001b[39mylabel(\u001b[38;5;124m'\u001b[39m\u001b[38;5;124mProfit\u001b[39m\u001b[38;5;124m'\u001b[39m)\n",
      "File \u001b[1;32m~\\anaconda3\\lib\\site-packages\\seaborn\\_decorators.py:46\u001b[0m, in \u001b[0;36m_deprecate_positional_args.<locals>.inner_f\u001b[1;34m(*args, **kwargs)\u001b[0m\n\u001b[0;32m     36\u001b[0m     warnings\u001b[38;5;241m.\u001b[39mwarn(\n\u001b[0;32m     37\u001b[0m         \u001b[38;5;124m\"\u001b[39m\u001b[38;5;124mPass the following variable\u001b[39m\u001b[38;5;132;01m{}\u001b[39;00m\u001b[38;5;124m as \u001b[39m\u001b[38;5;132;01m{}\u001b[39;00m\u001b[38;5;124mkeyword arg\u001b[39m\u001b[38;5;132;01m{}\u001b[39;00m\u001b[38;5;124m: \u001b[39m\u001b[38;5;132;01m{}\u001b[39;00m\u001b[38;5;124m. \u001b[39m\u001b[38;5;124m\"\u001b[39m\n\u001b[0;32m     38\u001b[0m         \u001b[38;5;124m\"\u001b[39m\u001b[38;5;124mFrom version 0.12, the only valid positional argument \u001b[39m\u001b[38;5;124m\"\u001b[39m\n\u001b[1;32m   (...)\u001b[0m\n\u001b[0;32m     43\u001b[0m         \u001b[38;5;167;01mFutureWarning\u001b[39;00m\n\u001b[0;32m     44\u001b[0m     )\n\u001b[0;32m     45\u001b[0m kwargs\u001b[38;5;241m.\u001b[39mupdate({k: arg \u001b[38;5;28;01mfor\u001b[39;00m k, arg \u001b[38;5;129;01min\u001b[39;00m \u001b[38;5;28mzip\u001b[39m(sig\u001b[38;5;241m.\u001b[39mparameters, args)})\n\u001b[1;32m---> 46\u001b[0m \u001b[38;5;28;01mreturn\u001b[39;00m f(\u001b[38;5;241m*\u001b[39m\u001b[38;5;241m*\u001b[39mkwargs)\n",
      "File \u001b[1;32m~\\anaconda3\\lib\\site-packages\\seaborn\\categorical.py:3596\u001b[0m, in \u001b[0;36mcountplot\u001b[1;34m(x, y, hue, data, order, hue_order, orient, color, palette, saturation, dodge, ax, **kwargs)\u001b[0m\n\u001b[0;32m   3594\u001b[0m     y \u001b[38;5;241m=\u001b[39m x\n\u001b[0;32m   3595\u001b[0m \u001b[38;5;28;01melif\u001b[39;00m x \u001b[38;5;129;01mis\u001b[39;00m \u001b[38;5;129;01mnot\u001b[39;00m \u001b[38;5;28;01mNone\u001b[39;00m \u001b[38;5;129;01mand\u001b[39;00m y \u001b[38;5;129;01mis\u001b[39;00m \u001b[38;5;129;01mnot\u001b[39;00m \u001b[38;5;28;01mNone\u001b[39;00m:\n\u001b[1;32m-> 3596\u001b[0m     \u001b[38;5;28;01mraise\u001b[39;00m \u001b[38;5;167;01mValueError\u001b[39;00m(\u001b[38;5;124m\"\u001b[39m\u001b[38;5;124mCannot pass values for both `x` and `y`\u001b[39m\u001b[38;5;124m\"\u001b[39m)\n\u001b[0;32m   3598\u001b[0m plotter \u001b[38;5;241m=\u001b[39m _CountPlotter(\n\u001b[0;32m   3599\u001b[0m     x, y, hue, data, order, hue_order,\n\u001b[0;32m   3600\u001b[0m     estimator, ci, n_boot, units, seed,\n\u001b[0;32m   3601\u001b[0m     orient, color, palette, saturation,\n\u001b[0;32m   3602\u001b[0m     errcolor, errwidth, capsize, dodge\n\u001b[0;32m   3603\u001b[0m )\n\u001b[0;32m   3605\u001b[0m plotter\u001b[38;5;241m.\u001b[39mvalue_label \u001b[38;5;241m=\u001b[39m \u001b[38;5;124m\"\u001b[39m\u001b[38;5;124mcount\u001b[39m\u001b[38;5;124m\"\u001b[39m\n",
      "\u001b[1;31mValueError\u001b[0m: Cannot pass values for both `x` and `y`"
     ]
    },
    {
     "data": {
      "text/plain": [
       "<Figure size 720x432 with 0 Axes>"
      ]
     },
     "metadata": {},
     "output_type": "display_data"
    }
   ],
   "source": [
    "plt.figure(figsize=(10,6))\n",
    "\n",
    "sb.countplot(data = chart, x = 'cus_country', y = 'profit', palette = ['#0000FF', '#FF0000', '#008000', '#FF0000'])\n",
    "\n",
    "plt.title('Most Profitable and Least Profitable Countries', fontsize = 15)\n",
    "plt.ylabel('Profit')\n",
    "plt.xlabel(\"Country\");"
   ]
  },
  {
   "cell_type": "markdown",
   "id": "e15666fd-a5a0-491f-a63c-edfa52b82e22",
   "metadata": {},
   "source": [
    "###  Create a chart to visualize the data from the analysis above### Write a query that shows the Top-10 least profitable countries for BuyBuy sales operations from 2011 to 2016"
   ]
  },
  {
   "cell_type": "code",
   "execution_count": null,
   "id": "5102d4d5-34b2-4b95-b7b8-7a8458a33734",
   "metadata": {},
   "outputs": [],
   "source": [
    "# select country, product category, subcategory and profit columns\n",
    "df[['cus_country', 'prod_category', 'prod_subcategory', 'profit']].nsmallest(10, 'profit')"
   ]
  },
  {
   "cell_type": "code",
   "execution_count": null,
   "id": "b00da1d1-b9c5-4734-b542-d4f8f70992c9",
   "metadata": {},
   "outputs": [],
   "source": []
  }
 ],
 "metadata": {
  "kernelspec": {
   "display_name": "Python 3 (ipykernel)",
   "language": "python",
   "name": "python3"
  },
  "language_info": {
   "codemirror_mode": {
    "name": "ipython",
    "version": 3
   },
   "file_extension": ".py",
   "mimetype": "text/x-python",
   "name": "python",
   "nbconvert_exporter": "python",
   "pygments_lexer": "ipython3",
   "version": "3.9.12"
  }
 },
 "nbformat": 4,
 "nbformat_minor": 5
}
