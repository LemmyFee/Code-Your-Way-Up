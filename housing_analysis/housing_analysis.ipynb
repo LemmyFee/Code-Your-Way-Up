{
 "cells": [
  {
   "cell_type": "code",
   "execution_count": 1,
   "id": "6b801854-e7ab-420a-b9b1-9b996d3d9923",
   "metadata": {},
   "outputs": [],
   "source": [
    "# import neccesary libraries\n",
    "import pandas as pd\n",
    "import requests\n",
    "from bs4 import BeautifulSoup \n",
    "import datetime\n",
    "import time\n",
    "import csv"
   ]
  },
  {
   "cell_type": "code",
   "execution_count": 11,
   "id": "d77f27e9-39bc-4fb6-a8e6-0d61ca1bb988",
   "metadata": {},
   "outputs": [
    {
     "name": "stdout",
     "output_type": "stream",
     "text": [
      "['Apartment Keizersgracht', '1016 EG Amsterdam (Grachtengordel-West)', '270 m²', '4 rooms', 'Upholstered', '€6,000 per month']\n",
      "['Apartment Ruysdaelkade 77 4', '1072 AL Amsterdam (Oude Pijp)', '49 m²', '2 rooms', 'Furnished', '€2,000 per month']\n",
      "['Studio Raamgracht', '1011 KH Amsterdam (Nieuwmarkt/Lastage)', '45 m²', '1 room', 'Upholstered', '€1,850 per month']\n",
      "['Apartment Pretoriusstraat', '1092 EX Amsterdam (Transvaalbuurt)', '65 m²', '2 rooms', 'Upholstered', '€1,695 per month']\n",
      "['House Gooise Kant', '1104 MM Amsterdam (Bijlmer Oost (E,G,K))', '107 m²', '5 rooms', 'Upholstered', '€2,250 per month']\n",
      "['Apartment Ruysdaelstraat', '1071 XE Amsterdam (Museumkwartier)', '52 m²', '3 rooms', 'Upholstered', '€1,750 per month']\n",
      "['Apartment Kromme-Mijdrechtstraat', '1079 KP Amsterdam (Rijnbuurt)', '86 m²', '3 rooms', 'Upholstered', '€2,500 per month']\n",
      "['Apartment Scherpenzeelstraat 141', '1107 HT Amsterdam (Holendrecht/Reigersbos)', '71 m²', '3 rooms', 'Furnished', '€1,800 per month']\n",
      "['Apartment Ertskade 268', '1019 BB Amsterdam (Oostelijk Havengebied)', '123 m²', '4 rooms', 'Shell', '€2,400 per month']\n",
      "['Apartment Bosboom Toussaintstraat', '1054 AN Amsterdam (Helmersbuurt)', '125 m²', '4 rooms', 'Upholstered', '€3,000 per month']\n",
      "['Apartment Kerkstraat', '1017 HC Amsterdam (Grachtengordel-Zuid)', '105 m²', '3 rooms', 'Upholstered', '€2,550 per month']\n",
      "['Studio Nieuwezijds Voorburgwal', '1012 RD Amsterdam (Burgwallen-Nieuwe Zijde)', '25 m²', '1 room', 'Furnished', '€1,350 per month']\n",
      "['Apartment Johan Hofmanstraat', '1069 KE Amsterdam (Osdorp-Midden)', '96 m²', '3 rooms', 'Furnished', '€2,250 per month']\n",
      "['House Piet Zwarthof 63', '1087 AX Amsterdam (IJburg West)', '120 m²', '4 rooms', 'Furnished', '€2,500 per month']\n",
      "['Apartment Kromme Leimuidenstraat', '1059 EL Amsterdam (Hoofddorppleinbuurt)', '57 m²', '2 rooms', 'Furnished', '€2,300 per month']\n",
      "['Apartment Herengracht', '1015 BG Amsterdam (Grachtengordel-West)', '78 m²', '3 rooms', 'Upholstered', '€2,500 per month']\n",
      "['Apartment Oostenburgervoorstraat 12', '1018 MR Amsterdam (Oostelijke Eilanden/Kadijken)', '60 m²', '2 rooms', 'Furnished', '€1,800 per month']\n",
      "['House Vrijheidslaan 5 a', '1079 KA Amsterdam (Rijnbuurt)', '170 m²', '4 rooms', 'Upholstered', '€3,150 per month']\n",
      "['Apartment Keizersgracht', '1016 EG Amsterdam (Grachtengordel-West)', '270 m²', '4 rooms', 'Upholstered', '€6,000 per month']\n",
      "['Apartment Ruysdaelkade 197 2', '1072 AV Amsterdam (Nieuwe Pijp)', '73 m²', '3 rooms', 'Upholstered or furnished', '€1,995 per month']\n",
      "['Studio Barndesteeg', '1012 BV Amsterdam (Burgwallen-Oude Zijde)', '35 m²', '1 room', 'Upholstered', '€1,500 per month']\n",
      "['Apartment Kinkerstraat', '1053 EN Amsterdam (Kinkerbuurt)', '45 m²', '1 room', 'Furnished', '€1,750 per month']\n",
      "['Apartment Valeriusstraat 110 huis', '1075 GC Amsterdam (Willemspark)', '225 m²', '7 rooms', 'Upholstered', '€6,500 per month']\n",
      "['Apartment Tweede Oosterparkstraat 184 H', '1092 BT Amsterdam (Oosterparkbuurt)', '84 m²', '3 rooms', 'Upholstered', '€2,100 per month']\n",
      "['Apartment Sumatrakade', '1019 RM Amsterdam (Oostelijk Havengebied)', '94 m²', '3 rooms', 'Upholstered', '€2,100 per month']\n",
      "['Apartment Eerste Atjehstraat', '1094 KA Amsterdam (Indische Buurt West)', '30 m²', '1 room', 'Furnished', '€1,250 per month']\n",
      "['Apartment Nieuwendijk', '1012 MD Amsterdam (Burgwallen-Nieuwe Zijde)', '40 m²', '2 rooms', 'Furnished', '€1,400 per month']\n",
      "['Apartment Omval', '1096 AA Amsterdam (Omval/Overamstel)', '107 m²', '3 rooms', 'Upholstered', '€2,250 per month']\n",
      "['Apartment Jan Zijvertszstraat 2 HS', '1067 XH Amsterdam (Geuzenveld)', '59 m²', '3 rooms', 'Upholstered', '€1,550 per month']\n",
      "['Apartment Brouwersgracht 5 F', '1015 GA Amsterdam (Grachtengordel-West)', '70 m²', '2 rooms', 'Furnished', '€1,900 per month']\n",
      "['Apartment Beemsterstraat 546 G11', '1024 BV Amsterdam (Waterlandpleinbuurt)', '63 m²', '2 rooms', 'Upholstered', '€994 per month']\n"
     ]
    }
   ],
   "source": [
    "# specify website to scrape\n",
    "url = 'https://www.pararius.com/apartments/amsterdam'\n",
    "\n",
    "# get the content of the url\n",
    "page = requests.get(url, 'html.parser')\n",
    "\n",
    "# load the content of the page into a variable\n",
    "s = BeautifulSoup(page.content, 'html.parser')\n",
    "\n",
    "# get the html data needed from the content variable\n",
    "houses = s.find_all('section', class_ = 'listing-search-item')\n",
    "\n",
    "# test how that works\n",
    "# print(houses)\n",
    "\n",
    "# get the cleaned needed sections\n",
    "for house in houses:\n",
    "    title = house.find('a', class_ = 'listing-search-item__link--title').text.replace('\\n', '').strip()\n",
    "    address = house.find('div', class_ = 'listing-search-item__sub-title').text.replace('\\n', '').strip()\n",
    "    area = house.find('li', class_ = 'illustrated-features__item--surface-area').text.replace('\\n', '').strip()\n",
    "    price = house.find('div', class_ = 'listing-search-item__price').text.replace('\\n', '').strip()\n",
    "    room_number = house.find('li', class_ = 'illustrated-features__item--number-of-rooms').text.replace('\\n', '').strip()\n",
    "    furnishing = house.find('li', class_ = 'illustrated-features__item--interior').text.replace('\\n', '').strip()\n",
    "    info = [title, address, area, room_number, furnishing, price]\n",
    "    print(info)"
   ]
  },
  {
   "cell_type": "code",
   "execution_count": null,
   "id": "4248fbe7-d6bc-46ee-9402-921757d54994",
   "metadata": {},
   "outputs": [],
   "source": []
  }
 ],
 "metadata": {
  "kernelspec": {
   "display_name": "Python 3 (ipykernel)",
   "language": "python",
   "name": "python3"
  },
  "language_info": {
   "codemirror_mode": {
    "name": "ipython",
    "version": 3
   },
   "file_extension": ".py",
   "mimetype": "text/x-python",
   "name": "python",
   "nbconvert_exporter": "python",
   "pygments_lexer": "ipython3",
   "version": "3.9.12"
  }
 },
 "nbformat": 4,
 "nbformat_minor": 5
}
