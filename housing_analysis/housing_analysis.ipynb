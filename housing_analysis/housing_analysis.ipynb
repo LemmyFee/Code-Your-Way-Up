{
 "cells": [
  {
   "cell_type": "code",
   "execution_count": 1,
   "id": "6b801854-e7ab-420a-b9b1-9b996d3d9923",
   "metadata": {},
   "outputs": [],
   "source": [
    "# import neccesary libraries\n",
    "import pandas as pd\n",
    "import requests\n",
    "from bs4 import BeautifulSoup \n",
    "import datetime\n",
    "import time\n",
    "import csv"
   ]
  },
  {
   "cell_type": "code",
   "execution_count": 7,
   "id": "d77f27e9-39bc-4fb6-a8e6-0d61ca1bb988",
   "metadata": {},
   "outputs": [],
   "source": [
    "# specify website to scrape\n",
    "url = 'https://www.pararius.com/apartments/amsterdam'\n",
    "\n",
    "# get the content of the url\n",
    "page = requests.get(url, 'html.parser')\n",
    "\n",
    "# load the content of the page into a variable\n",
    "s = BeautifulSoup(page.content, 'html.parser')\n",
    "\n",
    "# get the html data needed from the content variable\n",
    "houses = s.find_all('section', class_ = 'listing-search-item')\n",
    "\n",
    "# test how that works\n",
    "# print(houses)\n",
    "\n",
    "# get the cleaned needed sections\n",
    "for house in houses:\n",
    "    title = house.find('a', class_ = 'listing-search-item__link--title')\n",
    "    address = house.find('div', class_ = 'listing-search-item__sub-title')"
   ]
  },
  {
   "cell_type": "code",
   "execution_count": null,
   "id": "4248fbe7-d6bc-46ee-9402-921757d54994",
   "metadata": {},
   "outputs": [],
   "source": []
  }
 ],
 "metadata": {
  "kernelspec": {
   "display_name": "Python 3 (ipykernel)",
   "language": "python",
   "name": "python3"
  },
  "language_info": {
   "codemirror_mode": {
    "name": "ipython",
    "version": 3
   },
   "file_extension": ".py",
   "mimetype": "text/x-python",
   "name": "python",
   "nbconvert_exporter": "python",
   "pygments_lexer": "ipython3",
   "version": "3.9.12"
  }
 },
 "nbformat": 4,
 "nbformat_minor": 5
}
