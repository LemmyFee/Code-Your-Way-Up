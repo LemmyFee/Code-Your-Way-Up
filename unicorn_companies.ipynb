{
 "cells": [
  {
   "cell_type": "code",
   "execution_count": 1,
   "id": "782f88aa-368f-45a4-ba27-53bf7cf2ad34",
   "metadata": {},
   "outputs": [],
   "source": [
    "# import all necessary libraries\n",
    "import pandas as pd\n",
    "import numpy as np\n",
    "import matplotlib.pyplot as plt"
   ]
  },
  {
   "cell_type": "code",
   "execution_count": 2,
   "id": "06b934cc-68e8-4428-a221-f96899cb523c",
   "metadata": {},
   "outputs": [
    {
     "data": {
      "text/html": [
       "<div>\n",
       "<style scoped>\n",
       "    .dataframe tbody tr th:only-of-type {\n",
       "        vertical-align: middle;\n",
       "    }\n",
       "\n",
       "    .dataframe tbody tr th {\n",
       "        vertical-align: top;\n",
       "    }\n",
       "\n",
       "    .dataframe thead th {\n",
       "        text-align: right;\n",
       "    }\n",
       "</style>\n",
       "<table border=\"1\" class=\"dataframe\">\n",
       "  <thead>\n",
       "    <tr style=\"text-align: right;\">\n",
       "      <th></th>\n",
       "      <th>Company</th>\n",
       "      <th>Valuation</th>\n",
       "      <th>Date Joined</th>\n",
       "      <th>Industry</th>\n",
       "      <th>City</th>\n",
       "      <th>Country</th>\n",
       "      <th>Continent</th>\n",
       "      <th>Year Founded</th>\n",
       "      <th>Funding</th>\n",
       "      <th>Select Investors</th>\n",
       "    </tr>\n",
       "  </thead>\n",
       "  <tbody>\n",
       "    <tr>\n",
       "      <th>0</th>\n",
       "      <td>Bytedance</td>\n",
       "      <td>$180B</td>\n",
       "      <td>2017-04-07</td>\n",
       "      <td>Artificial intelligence</td>\n",
       "      <td>Beijing</td>\n",
       "      <td>China</td>\n",
       "      <td>Asia</td>\n",
       "      <td>2012</td>\n",
       "      <td>$8B</td>\n",
       "      <td>Sequoia Capital China, SIG Asia Investments, S...</td>\n",
       "    </tr>\n",
       "    <tr>\n",
       "      <th>1</th>\n",
       "      <td>SpaceX</td>\n",
       "      <td>$100B</td>\n",
       "      <td>2012-12-01</td>\n",
       "      <td>Other</td>\n",
       "      <td>Hawthorne</td>\n",
       "      <td>United States</td>\n",
       "      <td>North America</td>\n",
       "      <td>2002</td>\n",
       "      <td>$7B</td>\n",
       "      <td>Founders Fund, Draper Fisher Jurvetson, Rothen...</td>\n",
       "    </tr>\n",
       "    <tr>\n",
       "      <th>2</th>\n",
       "      <td>SHEIN</td>\n",
       "      <td>$100B</td>\n",
       "      <td>2018-07-03</td>\n",
       "      <td>E-commerce &amp; direct-to-consumer</td>\n",
       "      <td>Shenzhen</td>\n",
       "      <td>China</td>\n",
       "      <td>Asia</td>\n",
       "      <td>2008</td>\n",
       "      <td>$2B</td>\n",
       "      <td>Tiger Global Management, Sequoia Capital China...</td>\n",
       "    </tr>\n",
       "    <tr>\n",
       "      <th>3</th>\n",
       "      <td>Stripe</td>\n",
       "      <td>$95B</td>\n",
       "      <td>2014-01-23</td>\n",
       "      <td>Fintech</td>\n",
       "      <td>San Francisco</td>\n",
       "      <td>United States</td>\n",
       "      <td>North America</td>\n",
       "      <td>2010</td>\n",
       "      <td>$2B</td>\n",
       "      <td>Khosla Ventures, LowercaseCapital, capitalG</td>\n",
       "    </tr>\n",
       "    <tr>\n",
       "      <th>4</th>\n",
       "      <td>Klarna</td>\n",
       "      <td>$46B</td>\n",
       "      <td>2011-12-12</td>\n",
       "      <td>Fintech</td>\n",
       "      <td>Stockholm</td>\n",
       "      <td>Sweden</td>\n",
       "      <td>Europe</td>\n",
       "      <td>2005</td>\n",
       "      <td>$4B</td>\n",
       "      <td>Institutional Venture Partners, Sequoia Capita...</td>\n",
       "    </tr>\n",
       "  </tbody>\n",
       "</table>\n",
       "</div>"
      ],
      "text/plain": [
       "     Company Valuation Date Joined                         Industry  \\\n",
       "0  Bytedance     $180B  2017-04-07          Artificial intelligence   \n",
       "1     SpaceX     $100B  2012-12-01                            Other   \n",
       "2      SHEIN     $100B  2018-07-03  E-commerce & direct-to-consumer   \n",
       "3     Stripe      $95B  2014-01-23                          Fintech   \n",
       "4     Klarna      $46B  2011-12-12                          Fintech   \n",
       "\n",
       "            City        Country      Continent  Year Founded Funding  \\\n",
       "0        Beijing          China           Asia          2012     $8B   \n",
       "1      Hawthorne  United States  North America          2002     $7B   \n",
       "2       Shenzhen          China           Asia          2008     $2B   \n",
       "3  San Francisco  United States  North America          2010     $2B   \n",
       "4      Stockholm         Sweden         Europe          2005     $4B   \n",
       "\n",
       "                                    Select Investors  \n",
       "0  Sequoia Capital China, SIG Asia Investments, S...  \n",
       "1  Founders Fund, Draper Fisher Jurvetson, Rothen...  \n",
       "2  Tiger Global Management, Sequoia Capital China...  \n",
       "3        Khosla Ventures, LowercaseCapital, capitalG  \n",
       "4  Institutional Venture Partners, Sequoia Capita...  "
      ]
     },
     "execution_count": 2,
     "metadata": {},
     "output_type": "execute_result"
    }
   ],
   "source": [
    "# load the dataset into a dataframe\n",
    "df = pd.read_csv('Unicorn_Companies.csv')\n",
    "\n",
    "# confirm that the dataset is properly read\n",
    "df.head()"
   ]
  },
  {
   "cell_type": "markdown",
   "id": "8f10fe3e-476f-4850-ab93-592f16e3cf4e",
   "metadata": {},
   "source": [
    "## Assessing Data\n",
    "In this section, detect and document at least **quality and tidiness issues** using visual assessment programmatic assessement to assess the data."
   ]
  },
  {
   "cell_type": "code",
   "execution_count": 3,
   "id": "5a1efd1c-897a-44e4-86ca-313d196841f8",
   "metadata": {},
   "outputs": [
    {
     "name": "stdout",
     "output_type": "stream",
     "text": [
      "<class 'pandas.core.frame.DataFrame'>\n",
      "RangeIndex: 1074 entries, 0 to 1073\n",
      "Data columns (total 10 columns):\n",
      " #   Column            Non-Null Count  Dtype \n",
      "---  ------            --------------  ----- \n",
      " 0   Company           1074 non-null   object\n",
      " 1   Valuation         1074 non-null   object\n",
      " 2   Date Joined       1074 non-null   object\n",
      " 3   Industry          1074 non-null   object\n",
      " 4   City              1058 non-null   object\n",
      " 5   Country           1074 non-null   object\n",
      " 6   Continent         1074 non-null   object\n",
      " 7   Year Founded      1074 non-null   int64 \n",
      " 8   Funding           1074 non-null   object\n",
      " 9   Select Investors  1073 non-null   object\n",
      "dtypes: int64(1), object(9)\n",
      "memory usage: 84.0+ KB\n"
     ]
    }
   ],
   "source": [
    "df.info()"
   ]
  },
  {
   "cell_type": "code",
   "execution_count": 4,
   "id": "e3537f72-4bdb-442e-8c0f-8a72bfac6da5",
   "metadata": {},
   "outputs": [
    {
     "data": {
      "text/plain": [
       "(1074, 10)"
      ]
     },
     "execution_count": 4,
     "metadata": {},
     "output_type": "execute_result"
    }
   ],
   "source": [
    "df.shape"
   ]
  },
  {
   "cell_type": "code",
   "execution_count": 5,
   "id": "6f27da9a-56ac-4c10-8e3c-745f151da3d8",
   "metadata": {},
   "outputs": [
    {
     "data": {
      "text/plain": [
       "0"
      ]
     },
     "execution_count": 5,
     "metadata": {},
     "output_type": "execute_result"
    }
   ],
   "source": [
    "df.duplicated().sum()"
   ]
  },
  {
   "cell_type": "code",
   "execution_count": 6,
   "id": "c9ebc4eb-84e3-48bb-9e5e-a43f980c259b",
   "metadata": {},
   "outputs": [
    {
     "data": {
      "text/html": [
       "<div>\n",
       "<style scoped>\n",
       "    .dataframe tbody tr th:only-of-type {\n",
       "        vertical-align: middle;\n",
       "    }\n",
       "\n",
       "    .dataframe tbody tr th {\n",
       "        vertical-align: top;\n",
       "    }\n",
       "\n",
       "    .dataframe thead th {\n",
       "        text-align: right;\n",
       "    }\n",
       "</style>\n",
       "<table border=\"1\" class=\"dataframe\">\n",
       "  <thead>\n",
       "    <tr style=\"text-align: right;\">\n",
       "      <th></th>\n",
       "      <th>Year Founded</th>\n",
       "    </tr>\n",
       "  </thead>\n",
       "  <tbody>\n",
       "    <tr>\n",
       "      <th>count</th>\n",
       "      <td>1074.000000</td>\n",
       "    </tr>\n",
       "    <tr>\n",
       "      <th>mean</th>\n",
       "      <td>2012.895717</td>\n",
       "    </tr>\n",
       "    <tr>\n",
       "      <th>std</th>\n",
       "      <td>5.698573</td>\n",
       "    </tr>\n",
       "    <tr>\n",
       "      <th>min</th>\n",
       "      <td>1919.000000</td>\n",
       "    </tr>\n",
       "    <tr>\n",
       "      <th>25%</th>\n",
       "      <td>2011.000000</td>\n",
       "    </tr>\n",
       "    <tr>\n",
       "      <th>50%</th>\n",
       "      <td>2014.000000</td>\n",
       "    </tr>\n",
       "    <tr>\n",
       "      <th>75%</th>\n",
       "      <td>2016.000000</td>\n",
       "    </tr>\n",
       "    <tr>\n",
       "      <th>max</th>\n",
       "      <td>2021.000000</td>\n",
       "    </tr>\n",
       "  </tbody>\n",
       "</table>\n",
       "</div>"
      ],
      "text/plain": [
       "       Year Founded\n",
       "count   1074.000000\n",
       "mean    2012.895717\n",
       "std        5.698573\n",
       "min     1919.000000\n",
       "25%     2011.000000\n",
       "50%     2014.000000\n",
       "75%     2016.000000\n",
       "max     2021.000000"
      ]
     },
     "execution_count": 6,
     "metadata": {},
     "output_type": "execute_result"
    }
   ],
   "source": [
    "df.describe()"
   ]
  },
  {
   "cell_type": "markdown",
   "id": "dcf9ae78-0290-4b5c-8778-a55254801570",
   "metadata": {},
   "source": [
    "### Quality issues\n",
    "1. Valuation column is not in a proper format and datatype\n",
    "\n",
    "2. Funding column is not in a proper format and datatype; Incorrect value in funding column : 'Unknown'\n",
    "\n",
    "3. Incorrect datatype for Date Joined column\n",
    "\n",
    "4. All columns have improper naming convention"
   ]
  },
  {
   "cell_type": "markdown",
   "id": "858c2783-f0e5-4775-bc33-ed870d850ab8",
   "metadata": {},
   "source": [
    "### Tidiness issues\n",
    "1. Multiple values in Select Investors column "
   ]
  },
  {
   "cell_type": "markdown",
   "id": "7f3e1ec6-7e23-4a3c-9cf5-cb420a28eb47",
   "metadata": {},
   "source": [
    "## Cleaning Data"
   ]
  },
  {
   "cell_type": "markdown",
   "id": "a6d1723a-e2e2-4f88-8a44-1accc8d5e093",
   "metadata": {},
   "source": [
    "#### Define : Rename the columns to follow the proper naming convention\n",
    "\n",
    "#### Code"
   ]
  },
  {
   "cell_type": "code",
   "execution_count": 7,
   "id": "10241254-bd8d-4a4c-a833-d7a02efdb7aa",
   "metadata": {},
   "outputs": [],
   "source": [
    "# rename column\n",
    "df.rename(columns  = {'Company' : 'company', 'Valuation' : 'valuation', 'Date Joined' : 'date_joined', 'Industry' : 'industry', \n",
    "        'City' : 'city', 'Country' : 'country', 'Continent' : 'continent', 'Year Founded' : 'year_founded', \n",
    "        'Funding' : 'funding', 'Select Investors' : 'select_investors'}, inplace = True)"
   ]
  },
  {
   "cell_type": "markdown",
   "id": "c2f036f7-5862-4e7a-a366-a3c3cc773d13",
   "metadata": {},
   "source": [
    "#### Test"
   ]
  },
  {
   "cell_type": "code",
   "execution_count": 8,
   "id": "adbb40da-3941-4246-b840-bae7e27685a7",
   "metadata": {},
   "outputs": [
    {
     "data": {
      "text/html": [
       "<div>\n",
       "<style scoped>\n",
       "    .dataframe tbody tr th:only-of-type {\n",
       "        vertical-align: middle;\n",
       "    }\n",
       "\n",
       "    .dataframe tbody tr th {\n",
       "        vertical-align: top;\n",
       "    }\n",
       "\n",
       "    .dataframe thead th {\n",
       "        text-align: right;\n",
       "    }\n",
       "</style>\n",
       "<table border=\"1\" class=\"dataframe\">\n",
       "  <thead>\n",
       "    <tr style=\"text-align: right;\">\n",
       "      <th></th>\n",
       "      <th>company</th>\n",
       "      <th>valuation</th>\n",
       "      <th>date_joined</th>\n",
       "      <th>industry</th>\n",
       "      <th>city</th>\n",
       "      <th>country</th>\n",
       "      <th>continent</th>\n",
       "      <th>year_founded</th>\n",
       "      <th>funding</th>\n",
       "      <th>select_investors</th>\n",
       "    </tr>\n",
       "  </thead>\n",
       "  <tbody>\n",
       "    <tr>\n",
       "      <th>308</th>\n",
       "      <td>Ironclad</td>\n",
       "      <td>$3B</td>\n",
       "      <td>2022-01-18</td>\n",
       "      <td>Internet software &amp; services</td>\n",
       "      <td>Sacramento</td>\n",
       "      <td>United States</td>\n",
       "      <td>North America</td>\n",
       "      <td>2014</td>\n",
       "      <td>$334M</td>\n",
       "      <td>Accel, Sequoia Capital, Y Combinator</td>\n",
       "    </tr>\n",
       "  </tbody>\n",
       "</table>\n",
       "</div>"
      ],
      "text/plain": [
       "      company valuation date_joined                      industry        city  \\\n",
       "308  Ironclad       $3B  2022-01-18  Internet software & services  Sacramento   \n",
       "\n",
       "           country      continent  year_founded funding  \\\n",
       "308  United States  North America          2014   $334M   \n",
       "\n",
       "                         select_investors  \n",
       "308  Accel, Sequoia Capital, Y Combinator  "
      ]
     },
     "execution_count": 8,
     "metadata": {},
     "output_type": "execute_result"
    }
   ],
   "source": [
    "df.sample()"
   ]
  },
  {
   "cell_type": "code",
   "execution_count": 9,
   "id": "49238904-9166-46c5-8133-9b55aa96d4da",
   "metadata": {},
   "outputs": [],
   "source": [
    "df['industry'].unique()\n",
    "# two unique values of 'Artificial intelligence detected'\n",
    "df['industry'] = df['industry'].str.replace('Artificial intelligence', 'Artificial Intelligence')"
   ]
  },
  {
   "cell_type": "code",
   "execution_count": 10,
   "id": "3592bc5f-3e72-41e5-8d2b-eb1b8f5e26ae",
   "metadata": {},
   "outputs": [
    {
     "data": {
      "text/plain": [
       "array(['Artificial Intelligence', 'Other',\n",
       "       'E-commerce & direct-to-consumer', 'Fintech',\n",
       "       'Internet software & services',\n",
       "       'Supply chain, logistics, & delivery', 'Consumer & retail',\n",
       "       'Data management & analytics', 'Edtech', 'Health', 'Hardware',\n",
       "       'Auto & transportation', 'Travel', 'Cybersecurity',\n",
       "       'Mobile & telecommunications'], dtype=object)"
      ]
     },
     "execution_count": 10,
     "metadata": {},
     "output_type": "execute_result"
    }
   ],
   "source": [
    "df['industry'].unique()"
   ]
  },
  {
   "cell_type": "markdown",
   "id": "80d25a97-8641-4345-99e1-9cc1adb09c56",
   "metadata": {},
   "source": [
    "#### Define : Convert the 'B' and 'M' indicating Billions and Millions respectively to zeroes\n",
    "Replace all 'Unknown' in funding with the NaN values\n",
    "#### Code"
   ]
  },
  {
   "cell_type": "code",
   "execution_count": 11,
   "id": "e80677ea-4ede-4f5f-a1a0-e4b0d72b27f2",
   "metadata": {},
   "outputs": [
    {
     "data": {
      "text/plain": [
       "array(['$180B', '$100B', '$95B', '$46B', '$40B', '$39B', '$38B', '$33B',\n",
       "       '$32B', '$27B', '$25B', '$22B', '$20B', '$18B', '$17B', '$15B',\n",
       "       '$14B', '$13B', '$12B', '$11B', '$10B', '$9B', '$8B', '$7B', '$6B',\n",
       "       '$5B', '$4B', '$3B', '$2B', '$1B'], dtype=object)"
      ]
     },
     "execution_count": 11,
     "metadata": {},
     "output_type": "execute_result"
    }
   ],
   "source": [
    "# confirm that values in funding column contains only M and B\n",
    "df.valuation.unique()"
   ]
  },
  {
   "cell_type": "code",
   "execution_count": 12,
   "id": "2425d7fa-24a7-46c1-8636-3a642dcee244",
   "metadata": {},
   "outputs": [
    {
     "data": {
      "text/html": [
       "<div>\n",
       "<style scoped>\n",
       "    .dataframe tbody tr th:only-of-type {\n",
       "        vertical-align: middle;\n",
       "    }\n",
       "\n",
       "    .dataframe tbody tr th {\n",
       "        vertical-align: top;\n",
       "    }\n",
       "\n",
       "    .dataframe thead th {\n",
       "        text-align: right;\n",
       "    }\n",
       "</style>\n",
       "<table border=\"1\" class=\"dataframe\">\n",
       "  <thead>\n",
       "    <tr style=\"text-align: right;\">\n",
       "      <th></th>\n",
       "      <th>company</th>\n",
       "      <th>valuation</th>\n",
       "      <th>date_joined</th>\n",
       "      <th>industry</th>\n",
       "      <th>city</th>\n",
       "      <th>country</th>\n",
       "      <th>continent</th>\n",
       "      <th>year_founded</th>\n",
       "      <th>funding</th>\n",
       "      <th>select_investors</th>\n",
       "    </tr>\n",
       "  </thead>\n",
       "  <tbody>\n",
       "    <tr>\n",
       "      <th>215</th>\n",
       "      <td>SSENSE</td>\n",
       "      <td>$4B</td>\n",
       "      <td>2021-06-08</td>\n",
       "      <td>E-commerce &amp; direct-to-consumer</td>\n",
       "      <td>Montreal</td>\n",
       "      <td>Canada</td>\n",
       "      <td>North America</td>\n",
       "      <td>2003</td>\n",
       "      <td>Unknown</td>\n",
       "      <td>Sequoia Capital</td>\n",
       "    </tr>\n",
       "    <tr>\n",
       "      <th>424</th>\n",
       "      <td>Uplight</td>\n",
       "      <td>$2B</td>\n",
       "      <td>2021-03-03</td>\n",
       "      <td>Other</td>\n",
       "      <td>Boulder</td>\n",
       "      <td>United States</td>\n",
       "      <td>North America</td>\n",
       "      <td>2019</td>\n",
       "      <td>Unknown</td>\n",
       "      <td>Rubicon Technology Partners, Max Ventures, Inc...</td>\n",
       "    </tr>\n",
       "    <tr>\n",
       "      <th>567</th>\n",
       "      <td>ISN</td>\n",
       "      <td>$2B</td>\n",
       "      <td>2020-12-17</td>\n",
       "      <td>Supply chain, logistics, &amp; delivery</td>\n",
       "      <td>Dallas</td>\n",
       "      <td>United States</td>\n",
       "      <td>North America</td>\n",
       "      <td>2001</td>\n",
       "      <td>Unknown</td>\n",
       "      <td>Blackstone</td>\n",
       "    </tr>\n",
       "    <tr>\n",
       "      <th>639</th>\n",
       "      <td>SITECH DEV</td>\n",
       "      <td>$1B</td>\n",
       "      <td>2019-05-16</td>\n",
       "      <td>Other</td>\n",
       "      <td>Guiyang</td>\n",
       "      <td>China</td>\n",
       "      <td>Asia</td>\n",
       "      <td>2017</td>\n",
       "      <td>Unknown</td>\n",
       "      <td>China Prosperity Capital</td>\n",
       "    </tr>\n",
       "    <tr>\n",
       "      <th>651</th>\n",
       "      <td>Xiaobing</td>\n",
       "      <td>$1B</td>\n",
       "      <td>2021-07-12</td>\n",
       "      <td>Fintech</td>\n",
       "      <td>Beijing</td>\n",
       "      <td>China</td>\n",
       "      <td>Asia</td>\n",
       "      <td>2020</td>\n",
       "      <td>Unknown</td>\n",
       "      <td>NetEase Capital, Northern Light Venture Capita...</td>\n",
       "    </tr>\n",
       "    <tr>\n",
       "      <th>717</th>\n",
       "      <td>Veepee</td>\n",
       "      <td>$1B</td>\n",
       "      <td>2007-07-02</td>\n",
       "      <td>E-commerce &amp; direct-to-consumer</td>\n",
       "      <td>La Plaine Saint-Denis</td>\n",
       "      <td>France</td>\n",
       "      <td>Europe</td>\n",
       "      <td>2001</td>\n",
       "      <td>Unknown</td>\n",
       "      <td>Summit Partners, Qatar Holding</td>\n",
       "    </tr>\n",
       "    <tr>\n",
       "      <th>733</th>\n",
       "      <td>DistroKid</td>\n",
       "      <td>$1B</td>\n",
       "      <td>2021-08-16</td>\n",
       "      <td>Internet software &amp; services</td>\n",
       "      <td>New York</td>\n",
       "      <td>United States</td>\n",
       "      <td>North America</td>\n",
       "      <td>2013</td>\n",
       "      <td>Unknown</td>\n",
       "      <td>Insight Partners, Silversmith Capital Partners...</td>\n",
       "    </tr>\n",
       "    <tr>\n",
       "      <th>866</th>\n",
       "      <td>Assembly</td>\n",
       "      <td>$1B</td>\n",
       "      <td>2021-09-21</td>\n",
       "      <td>Internet software &amp; services</td>\n",
       "      <td>Culver City</td>\n",
       "      <td>United States</td>\n",
       "      <td>North America</td>\n",
       "      <td>2019</td>\n",
       "      <td>Unknown</td>\n",
       "      <td>Advent International, PSG, Providence Equity P...</td>\n",
       "    </tr>\n",
       "    <tr>\n",
       "      <th>890</th>\n",
       "      <td>Carson Group</td>\n",
       "      <td>$1B</td>\n",
       "      <td>2021-07-14</td>\n",
       "      <td>Fintech</td>\n",
       "      <td>Lincoln</td>\n",
       "      <td>United States</td>\n",
       "      <td>North America</td>\n",
       "      <td>2012</td>\n",
       "      <td>Unknown</td>\n",
       "      <td>Bain Capital</td>\n",
       "    </tr>\n",
       "    <tr>\n",
       "      <th>945</th>\n",
       "      <td>Iodine Software</td>\n",
       "      <td>$1B</td>\n",
       "      <td>2021-12-01</td>\n",
       "      <td>Data management &amp; analytics</td>\n",
       "      <td>Austin</td>\n",
       "      <td>United States</td>\n",
       "      <td>North America</td>\n",
       "      <td>2010</td>\n",
       "      <td>Unknown</td>\n",
       "      <td>Advent International, Bain Capital Ventures, S...</td>\n",
       "    </tr>\n",
       "    <tr>\n",
       "      <th>947</th>\n",
       "      <td>Kendra Scott</td>\n",
       "      <td>$1B</td>\n",
       "      <td>2016-12-21</td>\n",
       "      <td>Consumer &amp; retail</td>\n",
       "      <td>Austin</td>\n",
       "      <td>United States</td>\n",
       "      <td>North America</td>\n",
       "      <td>2002</td>\n",
       "      <td>Unknown</td>\n",
       "      <td>Berkshire Partners, Norwest Venture Partners</td>\n",
       "    </tr>\n",
       "    <tr>\n",
       "      <th>1002</th>\n",
       "      <td>Poizon</td>\n",
       "      <td>$1B</td>\n",
       "      <td>2019-04-29</td>\n",
       "      <td>Mobile &amp; telecommunications</td>\n",
       "      <td>Shanghai</td>\n",
       "      <td>China</td>\n",
       "      <td>Asia</td>\n",
       "      <td>2015</td>\n",
       "      <td>Unknown</td>\n",
       "      <td>DST Global, Sequoia Capital China, Gaorong Cap...</td>\n",
       "    </tr>\n",
       "  </tbody>\n",
       "</table>\n",
       "</div>"
      ],
      "text/plain": [
       "              company valuation date_joined  \\\n",
       "215            SSENSE       $4B  2021-06-08   \n",
       "424           Uplight       $2B  2021-03-03   \n",
       "567               ISN       $2B  2020-12-17   \n",
       "639        SITECH DEV       $1B  2019-05-16   \n",
       "651          Xiaobing       $1B  2021-07-12   \n",
       "717            Veepee       $1B  2007-07-02   \n",
       "733         DistroKid       $1B  2021-08-16   \n",
       "866          Assembly       $1B  2021-09-21   \n",
       "890      Carson Group       $1B  2021-07-14   \n",
       "945   Iodine Software       $1B  2021-12-01   \n",
       "947      Kendra Scott       $1B  2016-12-21   \n",
       "1002           Poizon       $1B  2019-04-29   \n",
       "\n",
       "                                 industry                   city  \\\n",
       "215       E-commerce & direct-to-consumer               Montreal   \n",
       "424                                 Other                Boulder   \n",
       "567   Supply chain, logistics, & delivery                 Dallas   \n",
       "639                                 Other                Guiyang   \n",
       "651                               Fintech                Beijing   \n",
       "717       E-commerce & direct-to-consumer  La Plaine Saint-Denis   \n",
       "733          Internet software & services               New York   \n",
       "866          Internet software & services            Culver City   \n",
       "890                               Fintech                Lincoln   \n",
       "945           Data management & analytics                 Austin   \n",
       "947                     Consumer & retail                 Austin   \n",
       "1002          Mobile & telecommunications               Shanghai   \n",
       "\n",
       "            country      continent  year_founded  funding  \\\n",
       "215          Canada  North America          2003  Unknown   \n",
       "424   United States  North America          2019  Unknown   \n",
       "567   United States  North America          2001  Unknown   \n",
       "639           China           Asia          2017  Unknown   \n",
       "651           China           Asia          2020  Unknown   \n",
       "717          France         Europe          2001  Unknown   \n",
       "733   United States  North America          2013  Unknown   \n",
       "866   United States  North America          2019  Unknown   \n",
       "890   United States  North America          2012  Unknown   \n",
       "945   United States  North America          2010  Unknown   \n",
       "947   United States  North America          2002  Unknown   \n",
       "1002          China           Asia          2015  Unknown   \n",
       "\n",
       "                                       select_investors  \n",
       "215                                     Sequoia Capital  \n",
       "424   Rubicon Technology Partners, Max Ventures, Inc...  \n",
       "567                                          Blackstone  \n",
       "639                            China Prosperity Capital  \n",
       "651   NetEase Capital, Northern Light Venture Capita...  \n",
       "717                      Summit Partners, Qatar Holding  \n",
       "733   Insight Partners, Silversmith Capital Partners...  \n",
       "866   Advent International, PSG, Providence Equity P...  \n",
       "890                                        Bain Capital  \n",
       "945   Advent International, Bain Capital Ventures, S...  \n",
       "947        Berkshire Partners, Norwest Venture Partners  \n",
       "1002  DST Global, Sequoia Capital China, Gaorong Cap...  "
      ]
     },
     "execution_count": 12,
     "metadata": {},
     "output_type": "execute_result"
    }
   ],
   "source": [
    "# check all rows where funding is unknown\n",
    "df.query(\"funding == 'Unknown'\")"
   ]
  },
  {
   "cell_type": "code",
   "execution_count": 13,
   "id": "39377dbf-e10e-4983-9442-ccf3b6765244",
   "metadata": {},
   "outputs": [
    {
     "name": "stderr",
     "output_type": "stream",
     "text": [
      "C:\\Users\\Sofiyah\\AppData\\Local\\Temp\\ipykernel_15520\\915947254.py:4: FutureWarning: The default value of regex will change from True to False in a future version. In addition, single character regular expressions will *not* be treated as literal strings when regex=True.\n",
      "  df['funding'] = df['funding'].str.replace('$', '')\n",
      "C:\\Users\\Sofiyah\\AppData\\Local\\Temp\\ipykernel_15520\\915947254.py:10: FutureWarning: The default value of regex will change from True to False in a future version. In addition, single character regular expressions will *not* be treated as literal strings when regex=True.\n",
      "  df['valuation'] = df['valuation'].str.replace('$', '')\n"
     ]
    }
   ],
   "source": [
    "# replace '$', 'M' and 'B' with appropraite characters for funding column\n",
    "df['funding'] = df['funding'].str.replace('B', '000000000')\n",
    "df['funding'] = df['funding'].str.replace('M', '000000')\n",
    "df['funding'] = df['funding'].str.replace('$', '')\n",
    "df['funding'] = df['funding'].replace('Unknown', np.nan)\n",
    "\n",
    "# replace '$', 'M' and 'B' with appropraite characters for valuation column\n",
    "df['valuation'] = df['valuation'].str.replace('B', '000000000')\n",
    "df['valuation'] = df['valuation'].str.replace('M', '000000')\n",
    "df['valuation'] = df['valuation'].str.replace('$', '')"
   ]
  },
  {
   "cell_type": "markdown",
   "id": "797bc9c8-945c-4aa6-b634-d2ed059b49b9",
   "metadata": {},
   "source": [
    "#### Test"
   ]
  },
  {
   "cell_type": "code",
   "execution_count": 14,
   "id": "52c3d0d6-56e6-4068-9d02-cde9c81c0876",
   "metadata": {},
   "outputs": [
    {
     "data": {
      "text/html": [
       "<div>\n",
       "<style scoped>\n",
       "    .dataframe tbody tr th:only-of-type {\n",
       "        vertical-align: middle;\n",
       "    }\n",
       "\n",
       "    .dataframe tbody tr th {\n",
       "        vertical-align: top;\n",
       "    }\n",
       "\n",
       "    .dataframe thead th {\n",
       "        text-align: right;\n",
       "    }\n",
       "</style>\n",
       "<table border=\"1\" class=\"dataframe\">\n",
       "  <thead>\n",
       "    <tr style=\"text-align: right;\">\n",
       "      <th></th>\n",
       "      <th>company</th>\n",
       "      <th>valuation</th>\n",
       "      <th>date_joined</th>\n",
       "      <th>industry</th>\n",
       "      <th>city</th>\n",
       "      <th>country</th>\n",
       "      <th>continent</th>\n",
       "      <th>year_founded</th>\n",
       "      <th>funding</th>\n",
       "      <th>select_investors</th>\n",
       "    </tr>\n",
       "  </thead>\n",
       "  <tbody>\n",
       "  </tbody>\n",
       "</table>\n",
       "</div>"
      ],
      "text/plain": [
       "Empty DataFrame\n",
       "Columns: [company, valuation, date_joined, industry, city, country, continent, year_founded, funding, select_investors]\n",
       "Index: []"
      ]
     },
     "execution_count": 14,
     "metadata": {},
     "output_type": "execute_result"
    }
   ],
   "source": [
    "# check all rows where funding is unknown for change\n",
    "df.query(\"funding == 'Unknown'\")"
   ]
  },
  {
   "cell_type": "markdown",
   "id": "b84d6d9d-48cb-49bc-ad8e-e894fd70c71f",
   "metadata": {},
   "source": [
    "#### Define : Convert funding and valuation columns into proper datatypes\n",
    "\n",
    "#### Code"
   ]
  },
  {
   "cell_type": "code",
   "execution_count": 15,
   "id": "f3893bfd-1522-48fe-bedc-833390af6f52",
   "metadata": {},
   "outputs": [],
   "source": [
    "df['funding'] = pd.to_numeric(df['funding'])\n",
    "\n",
    "df['valuation'] = pd.to_numeric(df['valuation'])"
   ]
  },
  {
   "cell_type": "code",
   "execution_count": null,
   "id": "16ee7885-d0bf-4a1e-8e0f-cdaf58b1a925",
   "metadata": {},
   "outputs": [],
   "source": []
  },
  {
   "cell_type": "code",
   "execution_count": null,
   "id": "f0d3ca72-ae5e-427b-b024-4cebafbf9fcb",
   "metadata": {},
   "outputs": [],
   "source": []
  },
  {
   "cell_type": "code",
   "execution_count": null,
   "id": "d96c5213-c303-4e1e-baef-b487826469d7",
   "metadata": {},
   "outputs": [],
   "source": []
  },
  {
   "cell_type": "code",
   "execution_count": null,
   "id": "1aa1e6f9-5c93-4076-904d-164f51ca9af9",
   "metadata": {},
   "outputs": [],
   "source": []
  },
  {
   "cell_type": "code",
   "execution_count": null,
   "id": "99f37cfc-a4e3-41bd-a8ad-a7fd0a45e51a",
   "metadata": {},
   "outputs": [],
   "source": []
  }
 ],
 "metadata": {
  "kernelspec": {
   "display_name": "Python 3 (ipykernel)",
   "language": "python",
   "name": "python3"
  },
  "language_info": {
   "codemirror_mode": {
    "name": "ipython",
    "version": 3
   },
   "file_extension": ".py",
   "mimetype": "text/x-python",
   "name": "python",
   "nbconvert_exporter": "python",
   "pygments_lexer": "ipython3",
   "version": "3.9.12"
  }
 },
 "nbformat": 4,
 "nbformat_minor": 5
}
